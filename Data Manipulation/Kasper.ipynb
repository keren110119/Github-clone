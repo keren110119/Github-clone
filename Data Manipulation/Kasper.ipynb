{
 "cells": [
  {
   "cell_type": "code",
   "execution_count": 1,
   "id": "ebc55af1",
   "metadata": {},
   "outputs": [],
   "source": [
    "import pandas as pd\n",
    "import numpy as np\n",
    "from datetime import date\n",
    "from datetime import datetime"
   ]
  },
  {
   "cell_type": "code",
   "execution_count": 2,
   "id": "a31eb173",
   "metadata": {},
   "outputs": [],
   "source": [
    "Data = pd.read_csv(\"C://Users//shawnhe//Downloads//payments_2021-12-01_2021-12-12.csv\")\n",
    "data_2 = pd.read_csv(\"C://Users//shawnhe//Downloads//payment_transactions_export_1.csv\")\n",
    "PP=pd.read_csv(\"C://Users//shawnhe//Downloads//Download.csv\")\n",
    "kl=pd.read_csv(\"C://Users//shawnhe//Downloads//klarna-transactions-reports_2021-12-01T00-00-00Z_2021-12-13T23-59-59Z.csv\")"
   ]
  },
  {
   "cell_type": "code",
   "execution_count": 3,
   "id": "9247c2ff",
   "metadata": {},
   "outputs": [
    {
     "data": {
      "text/plain": [
       "(91, 16)"
      ]
     },
     "execution_count": 3,
     "metadata": {},
     "output_type": "execute_result"
    }
   ],
   "source": [
    "data_2.shape"
   ]
  },
  {
   "cell_type": "markdown",
   "id": "ee28dad8",
   "metadata": {},
   "source": [
    "# Shopify"
   ]
  },
  {
   "cell_type": "code",
   "execution_count": 4,
   "id": "feb68005",
   "metadata": {},
   "outputs": [],
   "source": [
    "data = Data[Data[\"transaction_kind\"]!=\"void\"]"
   ]
  },
  {
   "cell_type": "code",
   "execution_count": 5,
   "id": "b4b9b6f2",
   "metadata": {},
   "outputs": [],
   "source": [
    "data_top=data[data[\"payment_method\"]==\"Shopify Payments\"]\n",
    "if (data[\"payment_method\"].str.contains(\"Shop Pay Installments\").any()):\n",
    "    data_btm=data[data[\"payment_method\"]==\"Shop Pay Installments\"]\n",
    "    data=pd.concat([data_top,data_btm])\n",
    "else:\n",
    "    data=data_top"
   ]
  },
  {
   "cell_type": "code",
   "execution_count": 6,
   "id": "6e9e86d5",
   "metadata": {},
   "outputs": [
    {
     "data": {
      "text/plain": [
       "(76, 15)"
      ]
     },
     "execution_count": 6,
     "metadata": {},
     "output_type": "execute_result"
    }
   ],
   "source": [
    "data.shape"
   ]
  },
  {
   "cell_type": "code",
   "execution_count": 7,
   "id": "ce516caf",
   "metadata": {},
   "outputs": [],
   "source": [
    "data_1=pd.DataFrame(columns=[\"Date\",\"Customer Email\",\"Customer Name\",\"Order #\",\"CC Type\",\"Total Charge\",\"Bank Fee\",\"Bank off%\"],index=None)"
   ]
  },
  {
   "cell_type": "code",
   "execution_count": 8,
   "id": "2b9f2b3c",
   "metadata": {},
   "outputs": [],
   "source": [
    "data_1[\"Date\"]=data[\"day\"]\n",
    "data_1[\"Customer Email\"]=data[\"customer_email\"]\n",
    "data_1[\"Customer Name\"]=data[\"customer_name\"]\n",
    "data_1[\"Order #\"]=data[\"order_name\"]\n",
    "data_1[\"CC Type\"]=data[\"credit_card_type\"].astype(str).str[0]\n",
    "data_1[\"Total Charge\"]=data[\"total_payments\"]\n",
    "data_1[\"Lookup\"]=data[\"order_name\"].astype(str)+\"|\"+data[\"total_payments\"].astype(str)"
   ]
  },
  {
   "cell_type": "code",
   "execution_count": 9,
   "id": "5dcc6653",
   "metadata": {
    "scrolled": true
   },
   "outputs": [
    {
     "data": {
      "text/html": [
       "<div>\n",
       "<style scoped>\n",
       "    .dataframe tbody tr th:only-of-type {\n",
       "        vertical-align: middle;\n",
       "    }\n",
       "\n",
       "    .dataframe tbody tr th {\n",
       "        vertical-align: top;\n",
       "    }\n",
       "\n",
       "    .dataframe thead th {\n",
       "        text-align: right;\n",
       "    }\n",
       "</style>\n",
       "<table border=\"1\" class=\"dataframe\">\n",
       "  <thead>\n",
       "    <tr style=\"text-align: right;\">\n",
       "      <th></th>\n",
       "      <th>Date</th>\n",
       "      <th>Customer Email</th>\n",
       "      <th>Customer Name</th>\n",
       "      <th>Order #</th>\n",
       "      <th>CC Type</th>\n",
       "      <th>Total Charge</th>\n",
       "      <th>Bank Fee</th>\n",
       "      <th>Bank off%</th>\n",
       "      <th>Lookup</th>\n",
       "    </tr>\n",
       "  </thead>\n",
       "  <tbody>\n",
       "    <tr>\n",
       "      <th>83</th>\n",
       "      <td>2021-12-01</td>\n",
       "      <td>peg732@comcast.net</td>\n",
       "      <td>Peg Sherman</td>\n",
       "      <td>P4240</td>\n",
       "      <td>V</td>\n",
       "      <td>34.35</td>\n",
       "      <td>NaN</td>\n",
       "      <td>NaN</td>\n",
       "      <td>P4240|34.35</td>\n",
       "    </tr>\n",
       "    <tr>\n",
       "      <th>81</th>\n",
       "      <td>2021-12-01</td>\n",
       "      <td>kimfrank3@me.com</td>\n",
       "      <td>Kim Frank</td>\n",
       "      <td>P4295</td>\n",
       "      <td>A</td>\n",
       "      <td>242.20</td>\n",
       "      <td>NaN</td>\n",
       "      <td>NaN</td>\n",
       "      <td>P4295|242.2</td>\n",
       "    </tr>\n",
       "    <tr>\n",
       "      <th>80</th>\n",
       "      <td>2021-12-01</td>\n",
       "      <td>sharon.sowders@gmail.com</td>\n",
       "      <td>Sharon Sowders</td>\n",
       "      <td>P4296</td>\n",
       "      <td>A</td>\n",
       "      <td>67.25</td>\n",
       "      <td>NaN</td>\n",
       "      <td>NaN</td>\n",
       "      <td>P4296|67.25</td>\n",
       "    </tr>\n",
       "    <tr>\n",
       "      <th>79</th>\n",
       "      <td>2021-12-01</td>\n",
       "      <td>veejacobs@bellsouth.net</td>\n",
       "      <td>Verla Jacobs</td>\n",
       "      <td>P4298</td>\n",
       "      <td>V</td>\n",
       "      <td>31.94</td>\n",
       "      <td>NaN</td>\n",
       "      <td>NaN</td>\n",
       "      <td>P4298|31.94</td>\n",
       "    </tr>\n",
       "    <tr>\n",
       "      <th>76</th>\n",
       "      <td>2021-12-02</td>\n",
       "      <td>mimacavazos@icloud.com</td>\n",
       "      <td>Sigifredo Cavazos</td>\n",
       "      <td>P4301</td>\n",
       "      <td>V</td>\n",
       "      <td>80.05</td>\n",
       "      <td>NaN</td>\n",
       "      <td>NaN</td>\n",
       "      <td>P4301|80.05</td>\n",
       "    </tr>\n",
       "  </tbody>\n",
       "</table>\n",
       "</div>"
      ],
      "text/plain": [
       "          Date            Customer Email      Customer Name Order # CC Type  \\\n",
       "83  2021-12-01        peg732@comcast.net        Peg Sherman   P4240       V   \n",
       "81  2021-12-01          kimfrank3@me.com          Kim Frank   P4295       A   \n",
       "80  2021-12-01  sharon.sowders@gmail.com     Sharon Sowders   P4296       A   \n",
       "79  2021-12-01   veejacobs@bellsouth.net       Verla Jacobs   P4298       V   \n",
       "76  2021-12-02    mimacavazos@icloud.com  Sigifredo Cavazos   P4301       V   \n",
       "\n",
       "    Total Charge Bank Fee Bank off%       Lookup  \n",
       "83         34.35      NaN       NaN  P4240|34.35  \n",
       "81        242.20      NaN       NaN  P4295|242.2  \n",
       "80         67.25      NaN       NaN  P4296|67.25  \n",
       "79         31.94      NaN       NaN  P4298|31.94  \n",
       "76         80.05      NaN       NaN  P4301|80.05  "
      ]
     },
     "execution_count": 9,
     "metadata": {},
     "output_type": "execute_result"
    }
   ],
   "source": [
    "data_1.sort_values(\"Date\",ascending=True).head()"
   ]
  },
  {
   "cell_type": "code",
   "execution_count": 10,
   "id": "c78c115e",
   "metadata": {},
   "outputs": [
    {
     "data": {
      "text/plain": [
       "(76, 9)"
      ]
     },
     "execution_count": 10,
     "metadata": {},
     "output_type": "execute_result"
    }
   ],
   "source": [
    "data_1.shape"
   ]
  },
  {
   "cell_type": "code",
   "execution_count": 11,
   "id": "8ad2512f",
   "metadata": {},
   "outputs": [
    {
     "data": {
      "text/plain": [
       "(91, 16)"
      ]
     },
     "execution_count": 11,
     "metadata": {},
     "output_type": "execute_result"
    }
   ],
   "source": [
    "data_2.shape"
   ]
  },
  {
   "cell_type": "code",
   "execution_count": 12,
   "id": "b58848a7",
   "metadata": {},
   "outputs": [],
   "source": [
    "data_3=pd.DataFrame(columns=[\"Net Charge\",\"Authorization Code\"])"
   ]
  },
  {
   "cell_type": "code",
   "execution_count": 13,
   "id": "5a5ba893",
   "metadata": {},
   "outputs": [
    {
     "data": {
      "text/plain": [
       "(0, 2)"
      ]
     },
     "execution_count": 13,
     "metadata": {},
     "output_type": "execute_result"
    }
   ],
   "source": [
    "data_3.shape"
   ]
  },
  {
   "cell_type": "code",
   "execution_count": 14,
   "id": "62044afc",
   "metadata": {},
   "outputs": [],
   "source": [
    "data_3[\"Net Charge\"]=data_2[\"Net\"]\n",
    "data_3[\"Authorization Code\"]=data_2[\"Payout Date\"]\n",
    "data_3[\"Lookup\"]=data_2[\"Order\"].astype(str)+\"|\"+data_2[\"Amount\"].astype(str)"
   ]
  },
  {
   "cell_type": "code",
   "execution_count": 15,
   "id": "aa97c87b",
   "metadata": {},
   "outputs": [],
   "source": [
    "result=pd.merge(data_1,data_3,how=\"left\",on=\"Lookup\")"
   ]
  },
  {
   "cell_type": "code",
   "execution_count": 16,
   "id": "fec2f897",
   "metadata": {},
   "outputs": [
    {
     "data": {
      "text/plain": [
       "(76, 11)"
      ]
     },
     "execution_count": 16,
     "metadata": {},
     "output_type": "execute_result"
    }
   ],
   "source": [
    "result.shape"
   ]
  },
  {
   "cell_type": "code",
   "execution_count": 17,
   "id": "d4f577c2",
   "metadata": {},
   "outputs": [],
   "source": [
    "result[\"Bank Fee\"]=result[\"Total Charge\"]-result[\"Net Charge\"]\n",
    "result[\"Bank off%\"]=result[\"Bank Fee\"]/result[\"Total Charge\"]\n",
    "result[\"Bank off%\"]=pd.Series([\"{0:.5f}%\".format(val*100) for val in result[\"Bank off%\"]],index = result.index)\n",
    "result.sort_values(\"Authorization Code\",ascending=True,inplace=True)"
   ]
  },
  {
   "cell_type": "code",
   "execution_count": 18,
   "id": "7079904e",
   "metadata": {},
   "outputs": [],
   "source": [
    "result.drop([\"Lookup\"],inplace=True,axis=1)"
   ]
  },
  {
   "cell_type": "code",
   "execution_count": 19,
   "id": "f65e145d",
   "metadata": {},
   "outputs": [
    {
     "data": {
      "text/html": [
       "<div>\n",
       "<style scoped>\n",
       "    .dataframe tbody tr th:only-of-type {\n",
       "        vertical-align: middle;\n",
       "    }\n",
       "\n",
       "    .dataframe tbody tr th {\n",
       "        vertical-align: top;\n",
       "    }\n",
       "\n",
       "    .dataframe thead th {\n",
       "        text-align: right;\n",
       "    }\n",
       "</style>\n",
       "<table border=\"1\" class=\"dataframe\">\n",
       "  <thead>\n",
       "    <tr style=\"text-align: right;\">\n",
       "      <th></th>\n",
       "      <th>Date</th>\n",
       "      <th>Customer Email</th>\n",
       "      <th>Customer Name</th>\n",
       "      <th>Order #</th>\n",
       "      <th>CC Type</th>\n",
       "      <th>Total Charge</th>\n",
       "      <th>Bank Fee</th>\n",
       "      <th>Bank off%</th>\n",
       "      <th>Net Charge</th>\n",
       "      <th>Authorization Code</th>\n",
       "    </tr>\n",
       "  </thead>\n",
       "  <tbody>\n",
       "    <tr>\n",
       "      <th>6</th>\n",
       "      <td>2021-12-10</td>\n",
       "      <td>aripley@vwbrown.com</td>\n",
       "      <td>Angela Ripley</td>\n",
       "      <td>P4367</td>\n",
       "      <td>V</td>\n",
       "      <td>198.10</td>\n",
       "      <td>4.56</td>\n",
       "      <td>2.30187%</td>\n",
       "      <td>193.54</td>\n",
       "      <td>2021-12-14</td>\n",
       "    </tr>\n",
       "    <tr>\n",
       "      <th>3</th>\n",
       "      <td>2021-12-10</td>\n",
       "      <td>dkimbriel0908@gmail.com</td>\n",
       "      <td>Debbie Rittiluechai</td>\n",
       "      <td>P4372</td>\n",
       "      <td>V</td>\n",
       "      <td>553.15</td>\n",
       "      <td>12.19</td>\n",
       "      <td>2.20374%</td>\n",
       "      <td>540.96</td>\n",
       "      <td>2021-12-14</td>\n",
       "    </tr>\n",
       "    <tr>\n",
       "      <th>2</th>\n",
       "      <td>2021-12-10</td>\n",
       "      <td>gwvessels@att.net</td>\n",
       "      <td>Gloria  Vessels</td>\n",
       "      <td>P4373</td>\n",
       "      <td>V</td>\n",
       "      <td>148.00</td>\n",
       "      <td>3.48</td>\n",
       "      <td>2.35135%</td>\n",
       "      <td>144.52</td>\n",
       "      <td>2021-12-14</td>\n",
       "    </tr>\n",
       "    <tr>\n",
       "      <th>1</th>\n",
       "      <td>2021-12-10</td>\n",
       "      <td>prrshar@yahoo.com</td>\n",
       "      <td>sharon parrish</td>\n",
       "      <td>P4375</td>\n",
       "      <td>A</td>\n",
       "      <td>152.60</td>\n",
       "      <td>5.11</td>\n",
       "      <td>3.34862%</td>\n",
       "      <td>147.49</td>\n",
       "      <td>2021-12-14</td>\n",
       "    </tr>\n",
       "    <tr>\n",
       "      <th>0</th>\n",
       "      <td>2021-12-10</td>\n",
       "      <td>jsc0802@gmail.com</td>\n",
       "      <td>Josephine Compito</td>\n",
       "      <td>P4376</td>\n",
       "      <td>M</td>\n",
       "      <td>145.60</td>\n",
       "      <td>3.43</td>\n",
       "      <td>2.35577%</td>\n",
       "      <td>142.17</td>\n",
       "      <td>2021-12-14</td>\n",
       "    </tr>\n",
       "  </tbody>\n",
       "</table>\n",
       "</div>"
      ],
      "text/plain": [
       "         Date           Customer Email        Customer Name Order # CC Type  \\\n",
       "6  2021-12-10      aripley@vwbrown.com        Angela Ripley   P4367       V   \n",
       "3  2021-12-10  dkimbriel0908@gmail.com  Debbie Rittiluechai   P4372       V   \n",
       "2  2021-12-10        gwvessels@att.net      Gloria  Vessels   P4373       V   \n",
       "1  2021-12-10        prrshar@yahoo.com       sharon parrish   P4375       A   \n",
       "0  2021-12-10        jsc0802@gmail.com    Josephine Compito   P4376       M   \n",
       "\n",
       "   Total Charge  Bank Fee Bank off%  Net Charge Authorization Code  \n",
       "6        198.10      4.56  2.30187%      193.54         2021-12-14  \n",
       "3        553.15     12.19  2.20374%      540.96         2021-12-14  \n",
       "2        148.00      3.48  2.35135%      144.52         2021-12-14  \n",
       "1        152.60      5.11  3.34862%      147.49         2021-12-14  \n",
       "0        145.60      3.43  2.35577%      142.17         2021-12-14  "
      ]
     },
     "execution_count": 19,
     "metadata": {},
     "output_type": "execute_result"
    }
   ],
   "source": [
    "result.tail()"
   ]
  },
  {
   "cell_type": "markdown",
   "id": "7fba8bc7",
   "metadata": {},
   "source": [
    "# PayPal"
   ]
  },
  {
   "cell_type": "code",
   "execution_count": 20,
   "id": "ecc46618",
   "metadata": {},
   "outputs": [
    {
     "data": {
      "text/html": [
       "<div>\n",
       "<style scoped>\n",
       "    .dataframe tbody tr th:only-of-type {\n",
       "        vertical-align: middle;\n",
       "    }\n",
       "\n",
       "    .dataframe tbody tr th {\n",
       "        vertical-align: top;\n",
       "    }\n",
       "\n",
       "    .dataframe thead th {\n",
       "        text-align: right;\n",
       "    }\n",
       "</style>\n",
       "<table border=\"1\" class=\"dataframe\">\n",
       "  <thead>\n",
       "    <tr style=\"text-align: right;\">\n",
       "      <th></th>\n",
       "      <th>day</th>\n",
       "      <th>customer_name</th>\n",
       "      <th>order_name</th>\n",
       "      <th>customer_email</th>\n",
       "      <th>total_payments</th>\n",
       "    </tr>\n",
       "  </thead>\n",
       "  <tbody>\n",
       "    <tr>\n",
       "      <th>85</th>\n",
       "      <td>2021-12-01</td>\n",
       "      <td>Mary Ludden</td>\n",
       "      <td>P4160</td>\n",
       "      <td>mludden01@gmail.com</td>\n",
       "      <td>106.80</td>\n",
       "    </tr>\n",
       "    <tr>\n",
       "      <th>77</th>\n",
       "      <td>2021-12-02</td>\n",
       "      <td>Nestor Pagan</td>\n",
       "      <td>P4300</td>\n",
       "      <td>nestor_pagan@hotmail.com</td>\n",
       "      <td>83.95</td>\n",
       "    </tr>\n",
       "    <tr>\n",
       "      <th>100</th>\n",
       "      <td>2021-12-03</td>\n",
       "      <td>kathleen Le Mons</td>\n",
       "      <td>P3920</td>\n",
       "      <td>kathleenlemons@gmail.com</td>\n",
       "      <td>-52.00</td>\n",
       "    </tr>\n",
       "    <tr>\n",
       "      <th>96</th>\n",
       "      <td>2021-12-03</td>\n",
       "      <td>Susan Ponder-Stansel</td>\n",
       "      <td>P3972</td>\n",
       "      <td>sstansel@communityhospice.com</td>\n",
       "      <td>-76.59</td>\n",
       "    </tr>\n",
       "    <tr>\n",
       "      <th>101</th>\n",
       "      <td>2021-12-03</td>\n",
       "      <td>Gloria Grady</td>\n",
       "      <td>P3908</td>\n",
       "      <td>ggvixen@outlook.com</td>\n",
       "      <td>-201.00</td>\n",
       "    </tr>\n",
       "    <tr>\n",
       "      <th>32</th>\n",
       "      <td>2021-12-07</td>\n",
       "      <td>Melissa Hales</td>\n",
       "      <td>P4347</td>\n",
       "      <td>littlered2263@yahoo.com</td>\n",
       "      <td>87.55</td>\n",
       "    </tr>\n",
       "    <tr>\n",
       "      <th>50</th>\n",
       "      <td>2021-12-07</td>\n",
       "      <td>CARMEN PRADO</td>\n",
       "      <td>P4329</td>\n",
       "      <td>carmenar@bellsouth.net</td>\n",
       "      <td>148.00</td>\n",
       "    </tr>\n",
       "    <tr>\n",
       "      <th>41</th>\n",
       "      <td>2021-12-07</td>\n",
       "      <td>Alisha Tabag</td>\n",
       "      <td>P4338</td>\n",
       "      <td>aptabag@hotmail.com</td>\n",
       "      <td>168.00</td>\n",
       "    </tr>\n",
       "    <tr>\n",
       "      <th>37</th>\n",
       "      <td>2021-12-07</td>\n",
       "      <td>Linda Conger</td>\n",
       "      <td>P4342</td>\n",
       "      <td>lrconger@gmail.com</td>\n",
       "      <td>99.00</td>\n",
       "    </tr>\n",
       "    <tr>\n",
       "      <th>25</th>\n",
       "      <td>2021-12-07</td>\n",
       "      <td>Susan Glanz</td>\n",
       "      <td>P4354</td>\n",
       "      <td>susanwg543@gmail.com</td>\n",
       "      <td>138.00</td>\n",
       "    </tr>\n",
       "    <tr>\n",
       "      <th>31</th>\n",
       "      <td>2021-12-07</td>\n",
       "      <td>Judy Billingslea</td>\n",
       "      <td>P4348</td>\n",
       "      <td>bajan4ever@live.com</td>\n",
       "      <td>60.25</td>\n",
       "    </tr>\n",
       "    <tr>\n",
       "      <th>23</th>\n",
       "      <td>2021-12-08</td>\n",
       "      <td>Brunilda Baeza</td>\n",
       "      <td>P4356</td>\n",
       "      <td>bruni@baeza.com</td>\n",
       "      <td>83.95</td>\n",
       "    </tr>\n",
       "    <tr>\n",
       "      <th>92</th>\n",
       "      <td>2021-12-08</td>\n",
       "      <td>Carla Vincent</td>\n",
       "      <td>P4001</td>\n",
       "      <td>vincj@aol.com</td>\n",
       "      <td>-48.30</td>\n",
       "    </tr>\n",
       "    <tr>\n",
       "      <th>21</th>\n",
       "      <td>2021-12-08</td>\n",
       "      <td>Gwendolyn Sams-Lynch</td>\n",
       "      <td>P4358</td>\n",
       "      <td>glynch287@att.net</td>\n",
       "      <td>111.65</td>\n",
       "    </tr>\n",
       "    <tr>\n",
       "      <th>84</th>\n",
       "      <td>2021-12-08</td>\n",
       "      <td>mary mccants</td>\n",
       "      <td>P4175</td>\n",
       "      <td>mmccants22@msn.com</td>\n",
       "      <td>-44.31</td>\n",
       "    </tr>\n",
       "    <tr>\n",
       "      <th>18</th>\n",
       "      <td>2021-12-09</td>\n",
       "      <td>Melanie Hallman</td>\n",
       "      <td>P4361</td>\n",
       "      <td>melaniehallman@hotmail.com</td>\n",
       "      <td>52.44</td>\n",
       "    </tr>\n",
       "    <tr>\n",
       "      <th>14</th>\n",
       "      <td>2021-12-09</td>\n",
       "      <td>Vail Hanna</td>\n",
       "      <td>P4365</td>\n",
       "      <td>hannav@bellsouth.net</td>\n",
       "      <td>99.00</td>\n",
       "    </tr>\n",
       "    <tr>\n",
       "      <th>12</th>\n",
       "      <td>2021-12-09</td>\n",
       "      <td>ROBERT ROBBINS</td>\n",
       "      <td>P4368</td>\n",
       "      <td>desertdoll@q.com</td>\n",
       "      <td>122.95</td>\n",
       "    </tr>\n",
       "    <tr>\n",
       "      <th>2</th>\n",
       "      <td>2021-12-10</td>\n",
       "      <td>Whitney Novello</td>\n",
       "      <td>P4378</td>\n",
       "      <td>wnovello@me.com</td>\n",
       "      <td>75.93</td>\n",
       "    </tr>\n",
       "    <tr>\n",
       "      <th>11</th>\n",
       "      <td>2021-12-10</td>\n",
       "      <td>Reba  Tyree</td>\n",
       "      <td>P4369</td>\n",
       "      <td>rebatyree@msn.com</td>\n",
       "      <td>148.00</td>\n",
       "    </tr>\n",
       "    <tr>\n",
       "      <th>6</th>\n",
       "      <td>2021-12-10</td>\n",
       "      <td>Katrina Barcellona</td>\n",
       "      <td>P4374</td>\n",
       "      <td>kbarcellona@yahoo.com</td>\n",
       "      <td>141.99</td>\n",
       "    </tr>\n",
       "    <tr>\n",
       "      <th>3</th>\n",
       "      <td>2021-12-10</td>\n",
       "      <td>C Eugene Compton</td>\n",
       "      <td>P4377</td>\n",
       "      <td>gene@comptonlaw.net</td>\n",
       "      <td>97.43</td>\n",
       "    </tr>\n",
       "    <tr>\n",
       "      <th>82</th>\n",
       "      <td>2021-12-10</td>\n",
       "      <td>Aneta Sifkarovska</td>\n",
       "      <td>P4268</td>\n",
       "      <td>anetacs69@yahoo.com</td>\n",
       "      <td>-38.00</td>\n",
       "    </tr>\n",
       "    <tr>\n",
       "      <th>102</th>\n",
       "      <td>2021-12-10</td>\n",
       "      <td>Maria Silva</td>\n",
       "      <td>P3857</td>\n",
       "      <td>mfsilva1962@comcast.net</td>\n",
       "      <td>-62.30</td>\n",
       "    </tr>\n",
       "  </tbody>\n",
       "</table>\n",
       "</div>"
      ],
      "text/plain": [
       "            day         customer_name order_name  \\\n",
       "85   2021-12-01           Mary Ludden      P4160   \n",
       "77   2021-12-02          Nestor Pagan      P4300   \n",
       "100  2021-12-03      kathleen Le Mons      P3920   \n",
       "96   2021-12-03  Susan Ponder-Stansel      P3972   \n",
       "101  2021-12-03          Gloria Grady      P3908   \n",
       "32   2021-12-07         Melissa Hales      P4347   \n",
       "50   2021-12-07          CARMEN PRADO      P4329   \n",
       "41   2021-12-07          Alisha Tabag      P4338   \n",
       "37   2021-12-07          Linda Conger      P4342   \n",
       "25   2021-12-07           Susan Glanz      P4354   \n",
       "31   2021-12-07      Judy Billingslea      P4348   \n",
       "23   2021-12-08        Brunilda Baeza      P4356   \n",
       "92   2021-12-08         Carla Vincent      P4001   \n",
       "21   2021-12-08  Gwendolyn Sams-Lynch      P4358   \n",
       "84   2021-12-08          mary mccants      P4175   \n",
       "18   2021-12-09       Melanie Hallman      P4361   \n",
       "14   2021-12-09            Vail Hanna      P4365   \n",
       "12   2021-12-09        ROBERT ROBBINS      P4368   \n",
       "2    2021-12-10       Whitney Novello      P4378   \n",
       "11   2021-12-10           Reba  Tyree      P4369   \n",
       "6    2021-12-10    Katrina Barcellona      P4374   \n",
       "3    2021-12-10      C Eugene Compton      P4377   \n",
       "82   2021-12-10     Aneta Sifkarovska      P4268   \n",
       "102  2021-12-10           Maria Silva      P3857   \n",
       "\n",
       "                    customer_email  total_payments  \n",
       "85             mludden01@gmail.com          106.80  \n",
       "77        nestor_pagan@hotmail.com           83.95  \n",
       "100       kathleenlemons@gmail.com          -52.00  \n",
       "96   sstansel@communityhospice.com          -76.59  \n",
       "101            ggvixen@outlook.com         -201.00  \n",
       "32         littlered2263@yahoo.com           87.55  \n",
       "50          carmenar@bellsouth.net          148.00  \n",
       "41             aptabag@hotmail.com          168.00  \n",
       "37              lrconger@gmail.com           99.00  \n",
       "25            susanwg543@gmail.com          138.00  \n",
       "31             bajan4ever@live.com           60.25  \n",
       "23                 bruni@baeza.com           83.95  \n",
       "92                   vincj@aol.com          -48.30  \n",
       "21               glynch287@att.net          111.65  \n",
       "84              mmccants22@msn.com          -44.31  \n",
       "18      melaniehallman@hotmail.com           52.44  \n",
       "14            hannav@bellsouth.net           99.00  \n",
       "12                desertdoll@q.com          122.95  \n",
       "2                  wnovello@me.com           75.93  \n",
       "11               rebatyree@msn.com          148.00  \n",
       "6            kbarcellona@yahoo.com          141.99  \n",
       "3              gene@comptonlaw.net           97.43  \n",
       "82             anetacs69@yahoo.com          -38.00  \n",
       "102        mfsilva1962@comcast.net          -62.30  "
      ]
     },
     "execution_count": 20,
     "metadata": {},
     "output_type": "execute_result"
    }
   ],
   "source": [
    "Data = Data[Data[\"transaction_kind\"]!=\"void\"]\n",
    "Data_PP=Data[Data[\"payment_method\"]==\"PayPal Payments Standard\"]\n",
    "Data_PP=Data_PP[[\"day\",\"customer_name\",\"order_name\",\"customer_email\",\"total_payments\"]]\n",
    "Data_PP.sort_values(\"day\",ascending = \"True\", inplace = False)"
   ]
  },
  {
   "cell_type": "code",
   "execution_count": 21,
   "id": "fd6509b4",
   "metadata": {},
   "outputs": [],
   "source": [
    "Data_PP[\"total_payments\"]=Data_PP[\"total_payments\"].astype(str)\n"
   ]
  },
  {
   "cell_type": "code",
   "execution_count": 22,
   "id": "2554e686",
   "metadata": {},
   "outputs": [],
   "source": [
    "Data_PP[\"Lookup\"]=Data_PP[\"customer_email\"]+\"|\"+Data_PP[\"total_payments\"]\n",
    "\n",
    "Data_PP=Data_PP[[\"day\",\"customer_name\",\"Lookup\",\"order_name\",\"total_payments\"]]\n",
    "\n",
    "Data_PP[\"Lookup\"]=Data_PP[\"Lookup\"].apply(lambda x:x.replace(',',''))"
   ]
  },
  {
   "cell_type": "code",
   "execution_count": 23,
   "id": "8aa6917c",
   "metadata": {},
   "outputs": [],
   "source": [
    "PP=PP[PP[\"Type\"]!=\"General Authorization\"]\n",
    "PP=PP[PP[\"Type\"]!=\"General Withdrawal\"]\n",
    "PP=PP[PP[\"Type\"]!=\"Void of Authorization\"]\n"
   ]
  },
  {
   "cell_type": "code",
   "execution_count": 24,
   "id": "c9b7c69b",
   "metadata": {},
   "outputs": [],
   "source": [
    "PP[\"Lookup\"]=np.where((PP[\"Type\"]==\"Payment Refund\")|(PP[\"Type\"]==\"Hold on Balance for Dispute Investigation\"),PP[\"To Email Address\"]+\"|\"+PP[\"Gross\"].astype(str),PP[\"From Email Address\"]+\"|\"+PP[\"Gross\"].astype(str))"
   ]
  },
  {
   "cell_type": "code",
   "execution_count": 25,
   "id": "bdaf2dac",
   "metadata": {},
   "outputs": [],
   "source": [
    "PP[\"Lookup\"]=PP[\"Lookup\"].mask(PP[\"Lookup\"].str[-1]==\"0\",PP[\"Lookup\"].str[:-1])\n",
    "\n",
    "PP[\"Lookup\"]=PP[\"Lookup\"].mask(PP[\"Lookup\"].str[-1]==\".\",PP[\"Lookup\"].str[:-1])"
   ]
  },
  {
   "cell_type": "code",
   "execution_count": 26,
   "id": "055fd3da",
   "metadata": {},
   "outputs": [
    {
     "data": {
      "text/plain": [
       "0                mludden01@gmail.com|106.8\n",
       "3                  njpagan@gmail.com|83.95\n",
       "5                 ggvixen@outlook.com|-201\n",
       "6     sstansel@communityhospice.com|-76.59\n",
       "7             kathleenlemons@gmail.com|-52\n",
       "14              carmenar@bellsouth.net|148\n",
       "16               alli_g8tr@hotmail.com|168\n",
       "18                   lrconger@gmail.com|99\n",
       "20           littlered2263@yahoo.com|87.55\n",
       "22               bajan4ever@live.com|60.25\n",
       "24                susanwg543@gmail.com|138\n",
       "28                     Vincj@aol.com|-48.3\n",
       "29               mmccants22@msn.com|-44.31\n",
       "31                   Bruni@Baeza.com|83.95\n",
       "33                GLYNCH287@ATT.NET|111.65\n",
       "38                 hannav@bellsouth.net|99\n",
       "40        melaniehallman@hotmail.com|52.44\n",
       "42                 desertdoll@q.com|122.95\n",
       "47           mfsilva1962@comcast.net|-62.3\n",
       "49                 anetacs69@yahoo.com|-38\n",
       "51                   rebatyree@msn.com|148\n",
       "53            kbarcellona@yahoo.com|141.99\n",
       "55               gene@comptonlaw.net|97.43\n",
       "57                   wnovello@me.com|75.93\n",
       "67                connie4004@att.net|-22.4\n",
       "Name: Lookup, dtype: object"
      ]
     },
     "execution_count": 26,
     "metadata": {},
     "output_type": "execute_result"
    }
   ],
   "source": [
    "PP[\"Lookup\"]=PP[\"Lookup\"].apply(lambda x:x.replace(',',''))\n",
    "PP[\"Lookup\"]"
   ]
  },
  {
   "cell_type": "code",
   "execution_count": 27,
   "id": "0bf67a70",
   "metadata": {},
   "outputs": [],
   "source": [
    "date_format = \"%m/%d/%Y\"\n",
    "PP[\"Date\"]=PP[\"Date\"].apply(lambda x : datetime.strptime(x, date_format))"
   ]
  },
  {
   "cell_type": "code",
   "execution_count": 28,
   "id": "10edb7c4",
   "metadata": {},
   "outputs": [],
   "source": [
    "PP[\"Lookup_1\"]=(PP[\"Date\"].apply(lambda x: (x-datetime.strptime(\"01/01/1900\", date_format)).days+2)).astype(str)+\"|\"+PP[\"Gross\"].astype(str)"
   ]
  },
  {
   "cell_type": "code",
   "execution_count": 29,
   "id": "292ec0f6",
   "metadata": {},
   "outputs": [],
   "source": [
    "PP=PP[[\"Date\",\"Lookup_1\",\"Lookup\",\"Net\"]]\n",
    "PP[\"Lookup_1\"]=PP[\"Lookup_1\"].mask(PP[\"Lookup_1\"].str[-1]==\"0\",PP[\"Lookup_1\"].str[:-1])\n",
    "PP[\"Lookup_1\"]=PP[\"Lookup_1\"].mask(PP[\"Lookup_1\"].str[-1]==\"0\",PP[\"Lookup_1\"].str[:-1])\n",
    "PP[\"Lookup_1\"]=PP[\"Lookup_1\"].mask(PP[\"Lookup_1\"].str[-1]==\".\",PP[\"Lookup_1\"].str[:-1])"
   ]
  },
  {
   "cell_type": "code",
   "execution_count": 30,
   "id": "e416d17f",
   "metadata": {},
   "outputs": [
    {
     "data": {
      "text/plain": [
       "0      44531|106.8\n",
       "3      44532|83.95\n",
       "5       44533|-201\n",
       "6     44533|-76.59\n",
       "7        44533|-52\n",
       "14       44537|148\n",
       "16       44537|168\n",
       "18        44537|99\n",
       "20     44537|87.55\n",
       "22     44537|60.25\n",
       "24       44537|138\n",
       "28     44538|-48.3\n",
       "29    44538|-44.31\n",
       "31     44538|83.95\n",
       "33    44538|111.65\n",
       "38        44539|99\n",
       "40     44539|52.44\n",
       "42    44539|122.95\n",
       "47     44540|-62.3\n",
       "49       44540|-38\n",
       "51       44540|148\n",
       "53    44540|141.99\n",
       "55     44540|97.43\n",
       "57     44540|75.93\n",
       "67     44543|-22.4\n",
       "Name: Lookup_1, dtype: object"
      ]
     },
     "execution_count": 30,
     "metadata": {},
     "output_type": "execute_result"
    }
   ],
   "source": [
    "PP[\"Lookup_1\"]=PP[\"Lookup_1\"].apply(lambda x:x.replace(',',''))\n",
    "PP[\"Lookup_1\"]"
   ]
  },
  {
   "cell_type": "markdown",
   "id": "0e51dccf",
   "metadata": {},
   "source": [
    "# Klarna"
   ]
  },
  {
   "cell_type": "code",
   "execution_count": 31,
   "id": "061b8a21",
   "metadata": {},
   "outputs": [],
   "source": [
    "kl=kl.apply(lambda x : x.str.replace('\"',''))"
   ]
  },
  {
   "cell_type": "code",
   "execution_count": 32,
   "id": "1aa0c49f",
   "metadata": {},
   "outputs": [
    {
     "data": {
      "text/plain": [
       "0    FEE;PURCHASE_FEE_PERCENTAGE;2021-12-05T23:36:5...\n",
       "1    SALE;PURCHASE;2021-12-05T23:36:56.253Z;2021-12...\n",
       "2    FEE;PURCHASE_FEE_FIXED;2021-12-05T23:36:56.253...\n",
       "3    RETURN;PURCHASE_RETURN;2021-10-31T19:08:03.900...\n",
       "4    FEE;PURCHASE_FEE_PERCENTAGE;2021-12-03T13:47:2...\n",
       "5    FEE;PURCHASE_FEE_FIXED;2021-12-03T13:47:25.020...\n",
       "6    SALE;PURCHASE;2021-12-03T13:47:25.020Z;2021-12...\n",
       "Name: type;detailed_type;sale_date;capture_date;order_id;short_order_id;capture_id;merchant_reference1;merchant_reference2;merchant_capture_reference;merchant_refund_reference;amount;posting_currency;refund_id;purchase_country;shipping_address_country;tax_rate;tax_amount;initial_payment_method_type;initial_payment_method_number_of_installments;initial_payment_method_monthly_downpayments;merchant_id;settlement_currency;payment_reference;payout_date;klarna_comment;consumer_tax_rate_1;consumer_tax_amount_1;consumer_tax_rate_2;consumer_tax_amount_2;consumer_tax_rate_3;consumer_tax_amount_3;consumer_tax_rate_4;consumer_tax_amount_4, dtype: object"
      ]
     },
     "execution_count": 32,
     "metadata": {},
     "output_type": "execute_result"
    }
   ],
   "source": [
    "kl[\"type;detailed_type;sale_date;capture_date;order_id;short_order_id;capture_id;merchant_reference1;merchant_reference2;merchant_capture_reference;merchant_refund_reference;amount;posting_currency;refund_id;purchase_country;shipping_address_country;tax_rate;tax_amount;initial_payment_method_type;initial_payment_method_number_of_installments;initial_payment_method_monthly_downpayments;merchant_id;settlement_currency;payment_reference;payout_date;klarna_comment;consumer_tax_rate_1;consumer_tax_amount_1;consumer_tax_rate_2;consumer_tax_amount_2;consumer_tax_rate_3;consumer_tax_amount_3;consumer_tax_rate_4;consumer_tax_amount_4\"]"
   ]
  },
  {
   "cell_type": "code",
   "execution_count": 33,
   "id": "08a6457b",
   "metadata": {},
   "outputs": [],
   "source": [
    "kl[['type', 'detailed_type', 'sale_date', 'capture_date', 'order_id', 'short_order_id', 'capture_id', 'merchant_reference1', 'merchant_reference2', 'merchant_capture_reference', 'merchant_refund_reference', 'amount', 'posting_currency', 'refund_id', 'purchase_country', 'shipping_address_country', 'tax_rate', 'tax_amount', 'initial_payment_method_type', 'initial_payment_method_number_of_installments', 'initial_payment_method_monthly_downpayments', 'merchant_id', 'settlement_currency', 'payment_reference', 'payout_date', 'klarna_comment', 'consumer_tax_rate_1', 'consumer_tax_amount_1', 'consumer_tax_rate_2', 'consumer_tax_amount_2', 'consumer_tax_rate_3', 'consumer_tax_amount_3', 'consumer_tax_rate_4', 'consumer_tax_amount_4']]=kl[['type', 'detailed_type', 'sale_date', 'capture_date', 'order_id', 'short_order_id', 'capture_id', 'merchant_reference1', 'merchant_reference2', 'merchant_capture_reference', 'merchant_refund_reference', 'amount', 'posting_currency', 'refund_id', 'purchase_country', 'shipping_address_country', 'tax_rate', 'tax_amount', 'initial_payment_method_type', 'initial_payment_method_number_of_installments', 'initial_payment_method_monthly_downpayments', 'merchant_id', 'settlement_currency', 'payment_reference', 'payout_date', 'klarna_comment', 'consumer_tax_rate_1', 'consumer_tax_amount_1', 'consumer_tax_rate_2', 'consumer_tax_amount_2', 'consumer_tax_rate_3', 'consumer_tax_amount_3', 'consumer_tax_rate_4', 'consumer_tax_amount_4']]=kl[\"type;detailed_type;sale_date;capture_date;order_id;short_order_id;capture_id;merchant_reference1;merchant_reference2;merchant_capture_reference;merchant_refund_reference;amount;posting_currency;refund_id;purchase_country;shipping_address_country;tax_rate;tax_amount;initial_payment_method_type;initial_payment_method_number_of_installments;initial_payment_method_monthly_downpayments;merchant_id;settlement_currency;payment_reference;payout_date;klarna_comment;consumer_tax_rate_1;consumer_tax_amount_1;consumer_tax_rate_2;consumer_tax_amount_2;consumer_tax_rate_3;consumer_tax_amount_3;consumer_tax_rate_4;consumer_tax_amount_4\"].str.split(';',expand=True)"
   ]
  },
  {
   "cell_type": "code",
   "execution_count": 34,
   "id": "2c83a9df",
   "metadata": {},
   "outputs": [],
   "source": [
    "kl=kl.iloc[:,1:]"
   ]
  },
  {
   "cell_type": "code",
   "execution_count": 35,
   "id": "10f50729",
   "metadata": {},
   "outputs": [],
   "source": [
    "kl[[\"Date\",\"Useless\"]]=kl[\"capture_date\"].str.split(\"T\",n=1,expand=True)\n",
    "kl[[\"payout\",\"Useless_1\"]]=kl[\"payout_date\"].str.split(\"T\",n=1,expand=True)"
   ]
  },
  {
   "cell_type": "code",
   "execution_count": 36,
   "id": "3efe5f0b",
   "metadata": {},
   "outputs": [],
   "source": [
    "kl=kl[[\"Date\",\"type\",\"merchant_reference1\",\"amount\",\"payout\"]]"
   ]
  },
  {
   "cell_type": "code",
   "execution_count": 37,
   "id": "b6dc150d",
   "metadata": {},
   "outputs": [],
   "source": [
    "kl_sales=kl[kl[\"type\"]!=\"RETURN\"]\n",
    "KL_return=kl[kl[\"type\"]==\"RETURN\"]"
   ]
  },
  {
   "cell_type": "code",
   "execution_count": 38,
   "id": "64573448",
   "metadata": {},
   "outputs": [
    {
     "data": {
      "text/plain": [
       "dtype('O')"
      ]
     },
     "execution_count": 38,
     "metadata": {},
     "output_type": "execute_result"
    }
   ],
   "source": [
    "kl_sales['amount'].dtype"
   ]
  },
  {
   "cell_type": "code",
   "execution_count": 39,
   "id": "cccc66bd",
   "metadata": {},
   "outputs": [
    {
     "name": "stderr",
     "output_type": "stream",
     "text": [
      "<ipython-input-39-594efbc34fae>:1: SettingWithCopyWarning: \n",
      "A value is trying to be set on a copy of a slice from a DataFrame.\n",
      "Try using .loc[row_indexer,col_indexer] = value instead\n",
      "\n",
      "See the caveats in the documentation: https://pandas.pydata.org/pandas-docs/stable/user_guide/indexing.html#returning-a-view-versus-a-copy\n",
      "  kl_sales[\"amount_net\"]=np.where(kl_sales[\"type\"]==\"FEE\",kl_sales[\"amount\"].astype('float64')*(-1),kl_sales[\"amount\"])\n"
     ]
    }
   ],
   "source": [
    "kl_sales[\"amount_net\"]=np.where(kl_sales[\"type\"]==\"FEE\",kl_sales[\"amount\"].astype('float64')*(-1),kl_sales[\"amount\"])"
   ]
  },
  {
   "cell_type": "code",
   "execution_count": 40,
   "id": "af5183b0",
   "metadata": {},
   "outputs": [],
   "source": [
    "kl_sales_sum=kl_sales[[\"merchant_reference1\",\"amount_net\"]]"
   ]
  },
  {
   "cell_type": "code",
   "execution_count": 41,
   "id": "e651cb83",
   "metadata": {},
   "outputs": [
    {
     "name": "stderr",
     "output_type": "stream",
     "text": [
      "<ipython-input-41-fd40d555770e>:1: SettingWithCopyWarning: \n",
      "A value is trying to be set on a copy of a slice from a DataFrame.\n",
      "Try using .loc[row_indexer,col_indexer] = value instead\n",
      "\n",
      "See the caveats in the documentation: https://pandas.pydata.org/pandas-docs/stable/user_guide/indexing.html#returning-a-view-versus-a-copy\n",
      "  kl_sales_sum[\"amount_net\"]=kl_sales_sum[\"amount_net\"].astype('float64')\n"
     ]
    }
   ],
   "source": [
    "kl_sales_sum[\"amount_net\"]=kl_sales_sum[\"amount_net\"].astype('float64')"
   ]
  },
  {
   "cell_type": "code",
   "execution_count": 42,
   "id": "04188125",
   "metadata": {},
   "outputs": [],
   "source": [
    "kl_sales_sum=kl_sales_sum.groupby(\"merchant_reference1\").sum()"
   ]
  },
  {
   "cell_type": "code",
   "execution_count": 43,
   "id": "171bf2a6",
   "metadata": {},
   "outputs": [
    {
     "name": "stderr",
     "output_type": "stream",
     "text": [
      "<ipython-input-43-0f9946c5f782>:1: SettingWithCopyWarning: \n",
      "A value is trying to be set on a copy of a slice from a DataFrame.\n",
      "Try using .loc[row_indexer,col_indexer] = value instead\n",
      "\n",
      "See the caveats in the documentation: https://pandas.pydata.org/pandas-docs/stable/user_guide/indexing.html#returning-a-view-versus-a-copy\n",
      "  KL_return[\"amount_net\"]=KL_return[\"amount\"].astype(\"float64\")\n"
     ]
    }
   ],
   "source": [
    "KL_return[\"amount_net\"]=KL_return[\"amount\"].astype(\"float64\")"
   ]
  },
  {
   "cell_type": "code",
   "execution_count": 44,
   "id": "ce590e0c",
   "metadata": {},
   "outputs": [
    {
     "name": "stderr",
     "output_type": "stream",
     "text": [
      "<ipython-input-44-3f30407d284e>:1: SettingWithCopyWarning: \n",
      "A value is trying to be set on a copy of a slice from a DataFrame.\n",
      "Try using .loc[row_indexer,col_indexer] = value instead\n",
      "\n",
      "See the caveats in the documentation: https://pandas.pydata.org/pandas-docs/stable/user_guide/indexing.html#returning-a-view-versus-a-copy\n",
      "  KL_return[\"amount\"]=KL_return[\"amount\"].astype(\"float64\")*(-1)\n",
      "<ipython-input-44-3f30407d284e>:2: SettingWithCopyWarning: \n",
      "A value is trying to be set on a copy of a slice from a DataFrame.\n",
      "Try using .loc[row_indexer,col_indexer] = value instead\n",
      "\n",
      "See the caveats in the documentation: https://pandas.pydata.org/pandas-docs/stable/user_guide/indexing.html#returning-a-view-versus-a-copy\n",
      "  KL_return[\"amount_net\"]=KL_return[\"amount_net\"].astype(\"float64\")*(-1)\n"
     ]
    }
   ],
   "source": [
    "KL_return[\"amount\"]=KL_return[\"amount\"].astype(\"float64\")*(-1)\n",
    "KL_return[\"amount_net\"]=KL_return[\"amount_net\"].astype(\"float64\")*(-1)\n",
    "KL_return=KL_return.drop(\"type\",axis=1)\n"
   ]
  },
  {
   "cell_type": "code",
   "execution_count": 45,
   "id": "c9fee670",
   "metadata": {},
   "outputs": [
    {
     "data": {
      "text/html": [
       "<div>\n",
       "<style scoped>\n",
       "    .dataframe tbody tr th:only-of-type {\n",
       "        vertical-align: middle;\n",
       "    }\n",
       "\n",
       "    .dataframe tbody tr th {\n",
       "        vertical-align: top;\n",
       "    }\n",
       "\n",
       "    .dataframe thead th {\n",
       "        text-align: right;\n",
       "    }\n",
       "</style>\n",
       "<table border=\"1\" class=\"dataframe\">\n",
       "  <thead>\n",
       "    <tr style=\"text-align: right;\">\n",
       "      <th></th>\n",
       "      <th>Date</th>\n",
       "      <th>merchant_reference1</th>\n",
       "      <th>amount</th>\n",
       "      <th>amount_net</th>\n",
       "      <th>payout</th>\n",
       "    </tr>\n",
       "  </thead>\n",
       "  <tbody>\n",
       "    <tr>\n",
       "      <th>3</th>\n",
       "      <td>2021-12-03</td>\n",
       "      <td>P3741</td>\n",
       "      <td>-34.49</td>\n",
       "      <td>-34.49</td>\n",
       "      <td>2021-12-04</td>\n",
       "    </tr>\n",
       "  </tbody>\n",
       "</table>\n",
       "</div>"
      ],
      "text/plain": [
       "         Date merchant_reference1  amount  amount_net      payout\n",
       "3  2021-12-03               P3741  -34.49      -34.49  2021-12-04"
      ]
     },
     "execution_count": 45,
     "metadata": {},
     "output_type": "execute_result"
    }
   ],
   "source": [
    "KL_return=KL_return[[\"Date\",\"merchant_reference1\",\"amount\",\"amount_net\",\"payout\"]]\n",
    "KL_return"
   ]
  },
  {
   "cell_type": "code",
   "execution_count": 46,
   "id": "bc720e62",
   "metadata": {},
   "outputs": [],
   "source": [
    "kl_sales_join=kl[kl[\"type\"]==\"SALE\"]"
   ]
  },
  {
   "cell_type": "code",
   "execution_count": 47,
   "id": "dc754661",
   "metadata": {},
   "outputs": [],
   "source": [
    "kl_result=pd.merge(kl_sales_join,kl_sales_sum, how=\"left\",on=\"merchant_reference1\")"
   ]
  },
  {
   "cell_type": "code",
   "execution_count": 48,
   "id": "ff7b7b29",
   "metadata": {},
   "outputs": [],
   "source": [
    "kl_result=kl_result[[\"Date\",\"merchant_reference1\",\"amount\",\"amount_net\",\"payout\"]]"
   ]
  },
  {
   "cell_type": "code",
   "execution_count": 49,
   "id": "eb239c9c",
   "metadata": {},
   "outputs": [],
   "source": [
    "result_kl=pd.concat([kl_result,KL_return])"
   ]
  },
  {
   "cell_type": "code",
   "execution_count": 50,
   "id": "ceae2d21",
   "metadata": {},
   "outputs": [],
   "source": [
    "result_kl=result_kl.sort_values(by = \"Date\")"
   ]
  },
  {
   "cell_type": "code",
   "execution_count": 51,
   "id": "de351800",
   "metadata": {
    "scrolled": true
   },
   "outputs": [
    {
     "data": {
      "text/html": [
       "<div>\n",
       "<style scoped>\n",
       "    .dataframe tbody tr th:only-of-type {\n",
       "        vertical-align: middle;\n",
       "    }\n",
       "\n",
       "    .dataframe tbody tr th {\n",
       "        vertical-align: top;\n",
       "    }\n",
       "\n",
       "    .dataframe thead th {\n",
       "        text-align: right;\n",
       "    }\n",
       "</style>\n",
       "<table border=\"1\" class=\"dataframe\">\n",
       "  <thead>\n",
       "    <tr style=\"text-align: right;\">\n",
       "      <th></th>\n",
       "      <th>Date</th>\n",
       "      <th>merchant_reference1</th>\n",
       "      <th>amount</th>\n",
       "      <th>amount_net</th>\n",
       "      <th>payout</th>\n",
       "    </tr>\n",
       "  </thead>\n",
       "  <tbody>\n",
       "    <tr>\n",
       "      <th>1</th>\n",
       "      <td>2021-12-03</td>\n",
       "      <td>P4310</td>\n",
       "      <td>48.20</td>\n",
       "      <td>46.94</td>\n",
       "      <td>2021-12-07</td>\n",
       "    </tr>\n",
       "    <tr>\n",
       "      <th>3</th>\n",
       "      <td>2021-12-03</td>\n",
       "      <td>P3741</td>\n",
       "      <td>-34.49</td>\n",
       "      <td>-34.49</td>\n",
       "      <td>2021-12-04</td>\n",
       "    </tr>\n",
       "    <tr>\n",
       "      <th>0</th>\n",
       "      <td>2021-12-07</td>\n",
       "      <td>P4345</td>\n",
       "      <td>74.25</td>\n",
       "      <td>72.47</td>\n",
       "      <td>2021-12-11</td>\n",
       "    </tr>\n",
       "  </tbody>\n",
       "</table>\n",
       "</div>"
      ],
      "text/plain": [
       "         Date merchant_reference1 amount  amount_net      payout\n",
       "1  2021-12-03               P4310  48.20       46.94  2021-12-07\n",
       "3  2021-12-03               P3741 -34.49      -34.49  2021-12-04\n",
       "0  2021-12-07               P4345  74.25       72.47  2021-12-11"
      ]
     },
     "execution_count": 51,
     "metadata": {},
     "output_type": "execute_result"
    }
   ],
   "source": [
    "result_kl"
   ]
  },
  {
   "cell_type": "code",
   "execution_count": 52,
   "id": "5c4c383d",
   "metadata": {},
   "outputs": [],
   "source": [
    "Data_PP.to_csv(\"C://Users//shawnhe//Desktop//Kasper//PP_Data_Left.csv\",index=False)\n",
    "PP.to_csv(\"C://Users//shawnhe//Desktop//Kasper//PP_Data_Right.csv\",index=False)\n",
    "result.to_csv(\"C://Users//shawnhe//Desktop//Kasper//Shopify.csv\",index=False)\n",
    "result_kl.to_csv(\"C://Users//shawnhe//Desktop//Kasper//kl_result.csv\",index=False)"
   ]
  },
  {
   "cell_type": "code",
   "execution_count": null,
   "id": "07eaf2e4",
   "metadata": {},
   "outputs": [],
   "source": []
  }
 ],
 "metadata": {
  "kernelspec": {
   "display_name": "Python 3",
   "language": "python",
   "name": "python3"
  },
  "language_info": {
   "codemirror_mode": {
    "name": "ipython",
    "version": 3
   },
   "file_extension": ".py",
   "mimetype": "text/x-python",
   "name": "python",
   "nbconvert_exporter": "python",
   "pygments_lexer": "ipython3",
   "version": "3.8.8"
  }
 },
 "nbformat": 4,
 "nbformat_minor": 5
}
