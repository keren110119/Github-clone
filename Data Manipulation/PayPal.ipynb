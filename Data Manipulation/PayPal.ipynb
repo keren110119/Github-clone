{
 "cells": [
  {
   "cell_type": "code",
   "execution_count": 1,
   "id": "8970c8fa",
   "metadata": {},
   "outputs": [
    {
     "data": {
      "text/html": [
       "<div>\n",
       "<style scoped>\n",
       "    .dataframe tbody tr th:only-of-type {\n",
       "        vertical-align: middle;\n",
       "    }\n",
       "\n",
       "    .dataframe tbody tr th {\n",
       "        vertical-align: top;\n",
       "    }\n",
       "\n",
       "    .dataframe thead th {\n",
       "        text-align: right;\n",
       "    }\n",
       "</style>\n",
       "<table border=\"1\" class=\"dataframe\">\n",
       "  <thead>\n",
       "    <tr style=\"text-align: right;\">\n",
       "      <th></th>\n",
       "      <th>day</th>\n",
       "      <th>customer_name</th>\n",
       "      <th>order_name</th>\n",
       "      <th>customer_email</th>\n",
       "      <th>total_payments</th>\n",
       "    </tr>\n",
       "  </thead>\n",
       "  <tbody>\n",
       "    <tr>\n",
       "      <th>964</th>\n",
       "      <td>2021-09-01</td>\n",
       "      <td>willa McNeal</td>\n",
       "      <td>C38395</td>\n",
       "      <td>willamcneal@gmail.com</td>\n",
       "      <td>88.99</td>\n",
       "    </tr>\n",
       "    <tr>\n",
       "      <th>1141</th>\n",
       "      <td>2021-09-01</td>\n",
       "      <td>Theresa  Iaccheri</td>\n",
       "      <td>C38389</td>\n",
       "      <td>nerrie@comcast.net</td>\n",
       "      <td>52.00</td>\n",
       "    </tr>\n",
       "    <tr>\n",
       "      <th>329</th>\n",
       "      <td>2021-09-01</td>\n",
       "      <td>Kathy McGuinness</td>\n",
       "      <td>C38424</td>\n",
       "      <td>kathy@kathymcguinness.com</td>\n",
       "      <td>257.98</td>\n",
       "    </tr>\n",
       "    <tr>\n",
       "      <th>1184</th>\n",
       "      <td>2021-09-01</td>\n",
       "      <td>Theresa Jackson</td>\n",
       "      <td>C38413</td>\n",
       "      <td>tjcin@aol.com</td>\n",
       "      <td>28.00</td>\n",
       "    </tr>\n",
       "    <tr>\n",
       "      <th>274</th>\n",
       "      <td>2021-09-01</td>\n",
       "      <td>Darrylinn Todd</td>\n",
       "      <td>C38412</td>\n",
       "      <td>castle4t@comcast.net</td>\n",
       "      <td>285.98</td>\n",
       "    </tr>\n",
       "    <tr>\n",
       "      <th>...</th>\n",
       "      <td>...</td>\n",
       "      <td>...</td>\n",
       "      <td>...</td>\n",
       "      <td>...</td>\n",
       "      <td>...</td>\n",
       "    </tr>\n",
       "    <tr>\n",
       "      <th>1093</th>\n",
       "      <td>2021-09-22</td>\n",
       "      <td>Elizabeth Brinkley</td>\n",
       "      <td>C39513</td>\n",
       "      <td>elizabetheab308@gmail.com</td>\n",
       "      <td>64.99</td>\n",
       "    </tr>\n",
       "    <tr>\n",
       "      <th>189</th>\n",
       "      <td>2021-09-22</td>\n",
       "      <td>Connie Clark</td>\n",
       "      <td>C39601</td>\n",
       "      <td>mwclark1@aol.com</td>\n",
       "      <td>357.00</td>\n",
       "    </tr>\n",
       "    <tr>\n",
       "      <th>1112</th>\n",
       "      <td>2021-09-22</td>\n",
       "      <td>Barbara Hilson</td>\n",
       "      <td>C39520</td>\n",
       "      <td>barbara.hilson1155@gmail.com</td>\n",
       "      <td>60.99</td>\n",
       "    </tr>\n",
       "    <tr>\n",
       "      <th>580</th>\n",
       "      <td>2021-09-22</td>\n",
       "      <td>Darlene Gee</td>\n",
       "      <td>C39571</td>\n",
       "      <td>dkgee29@gmail.com</td>\n",
       "      <td>159.99</td>\n",
       "    </tr>\n",
       "    <tr>\n",
       "      <th>730</th>\n",
       "      <td>2021-09-22</td>\n",
       "      <td>Debbie Splinter</td>\n",
       "      <td>C39590</td>\n",
       "      <td>dsplint1@yahoo.com</td>\n",
       "      <td>131.62</td>\n",
       "    </tr>\n",
       "  </tbody>\n",
       "</table>\n",
       "<p>311 rows × 5 columns</p>\n",
       "</div>"
      ],
      "text/plain": [
       "             day       customer_name order_name                customer_email  \\\n",
       "964   2021-09-01        willa McNeal     C38395         willamcneal@gmail.com   \n",
       "1141  2021-09-01   Theresa  Iaccheri     C38389            nerrie@comcast.net   \n",
       "329   2021-09-01    Kathy McGuinness     C38424     kathy@kathymcguinness.com   \n",
       "1184  2021-09-01     Theresa Jackson     C38413                 tjcin@aol.com   \n",
       "274   2021-09-01      Darrylinn Todd     C38412          castle4t@comcast.net   \n",
       "...          ...                 ...        ...                           ...   \n",
       "1093  2021-09-22  Elizabeth Brinkley     C39513     elizabetheab308@gmail.com   \n",
       "189   2021-09-22        Connie Clark     C39601              mwclark1@aol.com   \n",
       "1112  2021-09-22      Barbara Hilson     C39520  barbara.hilson1155@gmail.com   \n",
       "580   2021-09-22         Darlene Gee     C39571             dkgee29@gmail.com   \n",
       "730   2021-09-22     Debbie Splinter     C39590            dsplint1@yahoo.com   \n",
       "\n",
       "      total_payments  \n",
       "964            88.99  \n",
       "1141           52.00  \n",
       "329           257.98  \n",
       "1184           28.00  \n",
       "274           285.98  \n",
       "...              ...  \n",
       "1093           64.99  \n",
       "189           357.00  \n",
       "1112           60.99  \n",
       "580           159.99  \n",
       "730           131.62  \n",
       "\n",
       "[311 rows x 5 columns]"
      ]
     },
     "execution_count": 1,
     "metadata": {},
     "output_type": "execute_result"
    }
   ],
   "source": [
    "import pandas as pd\n",
    "import numpy as np\n",
    "\n",
    "Data=pd.read_csv(\"C://Users//shawnhe//Downloads//payments_2021-09-01_2021-09-22.csv\")\n",
    "\n",
    "PP=pd.read_csv(\"C://Users//shawnhe//Downloads//Download.csv\")\n",
    "\n",
    "Data = Data[Data[\"transaction_kind\"]!=\"void\"]\n",
    "\n",
    "Data_PP=Data[Data[\"payment_method\"]==\"PayPal Payments Standard\"]\n",
    "\n",
    "Data_PP=Data_PP[[\"day\",\"customer_name\",\"order_name\",\"customer_email\",\"total_payments\"]]\n",
    "\n",
    "\n",
    "\n",
    "Data_PP.sort_values(\"day\",ascending = \"True\", inplace = False)"
   ]
  },
  {
   "cell_type": "code",
   "execution_count": 2,
   "id": "9e79ff2e",
   "metadata": {},
   "outputs": [
    {
     "data": {
      "text/plain": [
       "day                object\n",
       "customer_name      object\n",
       "order_name         object\n",
       "customer_email     object\n",
       "total_payments    float64\n",
       "dtype: object"
      ]
     },
     "execution_count": 2,
     "metadata": {},
     "output_type": "execute_result"
    }
   ],
   "source": [
    "Data_PP.dtypes"
   ]
  },
  {
   "cell_type": "code",
   "execution_count": 3,
   "id": "15fa2919",
   "metadata": {
    "scrolled": true
   },
   "outputs": [
    {
     "data": {
      "text/plain": [
       "1       2024.25\n",
       "12       1200.0\n",
       "15      1117.24\n",
       "34        840.0\n",
       "35        820.0\n",
       "         ...   \n",
       "1403     -375.0\n",
       "1405    -375.18\n",
       "1416    -481.71\n",
       "1421     -530.0\n",
       "1425     -580.0\n",
       "Name: total_payments, Length: 311, dtype: object"
      ]
     },
     "execution_count": 3,
     "metadata": {},
     "output_type": "execute_result"
    }
   ],
   "source": [
    "Data_PP[\"total_payments\"]=Data_PP[\"total_payments\"].astype(str)\n",
    "Data_PP[\"total_payments\"]"
   ]
  },
  {
   "cell_type": "code",
   "execution_count": 4,
   "id": "bb39ddac",
   "metadata": {},
   "outputs": [],
   "source": [
    "Data_PP[\"Lookup\"]=Data_PP[\"customer_email\"]+\"|\"+Data_PP[\"total_payments\"]\n",
    "\n",
    "Data_PP=Data_PP[[\"day\",\"customer_name\",\"Lookup\",\"order_name\",\"total_payments\"]]\n",
    "\n",
    "Data_PP[\"Lookup\"]=Data_PP[\"Lookup\"].apply(lambda x:x.replace(',',''))\n"
   ]
  },
  {
   "cell_type": "code",
   "execution_count": 5,
   "id": "68912c3c",
   "metadata": {
    "scrolled": true
   },
   "outputs": [
    {
     "data": {
      "text/html": [
       "<div>\n",
       "<style scoped>\n",
       "    .dataframe tbody tr th:only-of-type {\n",
       "        vertical-align: middle;\n",
       "    }\n",
       "\n",
       "    .dataframe tbody tr th {\n",
       "        vertical-align: top;\n",
       "    }\n",
       "\n",
       "    .dataframe thead th {\n",
       "        text-align: right;\n",
       "    }\n",
       "</style>\n",
       "<table border=\"1\" class=\"dataframe\">\n",
       "  <thead>\n",
       "    <tr style=\"text-align: right;\">\n",
       "      <th></th>\n",
       "      <th>Date</th>\n",
       "      <th>Time</th>\n",
       "      <th>TimeZone</th>\n",
       "      <th>Name</th>\n",
       "      <th>Type</th>\n",
       "      <th>Status</th>\n",
       "      <th>Currency</th>\n",
       "      <th>Gross</th>\n",
       "      <th>Fee</th>\n",
       "      <th>Net</th>\n",
       "      <th>...</th>\n",
       "      <th>Address Line 2/District/Neighborhood</th>\n",
       "      <th>Town/City</th>\n",
       "      <th>State/Province/Region/County/Territory/Prefecture/Republic</th>\n",
       "      <th>Zip/Postal Code</th>\n",
       "      <th>Country</th>\n",
       "      <th>Contact Phone Number</th>\n",
       "      <th>Subject</th>\n",
       "      <th>Note</th>\n",
       "      <th>Country Code</th>\n",
       "      <th>Balance Impact</th>\n",
       "    </tr>\n",
       "  </thead>\n",
       "  <tbody>\n",
       "    <tr>\n",
       "      <th>0</th>\n",
       "      <td>09/01/2021</td>\n",
       "      <td>06:09:08</td>\n",
       "      <td>PDT</td>\n",
       "      <td>Kathy McGuinness</td>\n",
       "      <td>General Authorization</td>\n",
       "      <td>Pending</td>\n",
       "      <td>USD</td>\n",
       "      <td>257.98</td>\n",
       "      <td>0.00</td>\n",
       "      <td>257.98</td>\n",
       "      <td>...</td>\n",
       "      <td>NaN</td>\n",
       "      <td>DeLand</td>\n",
       "      <td>FL</td>\n",
       "      <td>32720</td>\n",
       "      <td>United States</td>\n",
       "      <td>3.869569e+09</td>\n",
       "      <td>Plus Size-Dash Asymmetrical Knit Jacket - Blac...</td>\n",
       "      <td>NaN</td>\n",
       "      <td>US</td>\n",
       "      <td>Memo</td>\n",
       "    </tr>\n",
       "    <tr>\n",
       "      <th>1</th>\n",
       "      <td>09/01/2021</td>\n",
       "      <td>06:31:02</td>\n",
       "      <td>PDT</td>\n",
       "      <td>Regina Duncan</td>\n",
       "      <td>General Authorization</td>\n",
       "      <td>Pending</td>\n",
       "      <td>USD</td>\n",
       "      <td>143.99</td>\n",
       "      <td>0.00</td>\n",
       "      <td>143.99</td>\n",
       "      <td>...</td>\n",
       "      <td>NaN</td>\n",
       "      <td>Makawao</td>\n",
       "      <td>HI</td>\n",
       "      <td>96768</td>\n",
       "      <td>United States</td>\n",
       "      <td>8.082510e+09</td>\n",
       "      <td>Laced Gold Grommet Trim Knit Dress - Black / L</td>\n",
       "      <td>NaN</td>\n",
       "      <td>US</td>\n",
       "      <td>Memo</td>\n",
       "    </tr>\n",
       "    <tr>\n",
       "      <th>2</th>\n",
       "      <td>09/01/2021</td>\n",
       "      <td>06:56:36</td>\n",
       "      <td>PDT</td>\n",
       "      <td>Marlene Sanderson</td>\n",
       "      <td>General Authorization</td>\n",
       "      <td>Pending</td>\n",
       "      <td>USD</td>\n",
       "      <td>92.99</td>\n",
       "      <td>0.00</td>\n",
       "      <td>92.99</td>\n",
       "      <td>...</td>\n",
       "      <td>NaN</td>\n",
       "      <td>Greenwood Village</td>\n",
       "      <td>CO</td>\n",
       "      <td>80121</td>\n",
       "      <td>United States</td>\n",
       "      <td>3.039300e+09</td>\n",
       "      <td>Light Textured Tweed Jacket - Twig Beige/Black...</td>\n",
       "      <td>NaN</td>\n",
       "      <td>US</td>\n",
       "      <td>Memo</td>\n",
       "    </tr>\n",
       "    <tr>\n",
       "      <th>3</th>\n",
       "      <td>09/01/2021</td>\n",
       "      <td>08:28:12</td>\n",
       "      <td>PDT</td>\n",
       "      <td>Claire Lancz</td>\n",
       "      <td>General Authorization</td>\n",
       "      <td>Pending</td>\n",
       "      <td>USD</td>\n",
       "      <td>352.00</td>\n",
       "      <td>0.00</td>\n",
       "      <td>352.00</td>\n",
       "      <td>...</td>\n",
       "      <td>NaN</td>\n",
       "      <td>BATON ROUGE</td>\n",
       "      <td>LA</td>\n",
       "      <td>70810</td>\n",
       "      <td>United States</td>\n",
       "      <td>2.316322e+09</td>\n",
       "      <td>Mid-Length Scoop Neck Knit Tank Cerise - Ceris...</td>\n",
       "      <td>NaN</td>\n",
       "      <td>US</td>\n",
       "      <td>Memo</td>\n",
       "    </tr>\n",
       "    <tr>\n",
       "      <th>4</th>\n",
       "      <td>09/01/2021</td>\n",
       "      <td>08:31:03</td>\n",
       "      <td>PDT</td>\n",
       "      <td>Suzanne Brownrigg</td>\n",
       "      <td>Express Checkout Payment</td>\n",
       "      <td>Completed</td>\n",
       "      <td>USD</td>\n",
       "      <td>129.50</td>\n",
       "      <td>-3.67</td>\n",
       "      <td>125.83</td>\n",
       "      <td>...</td>\n",
       "      <td>NaN</td>\n",
       "      <td>W Sand Lake</td>\n",
       "      <td>NY</td>\n",
       "      <td>12196-2207</td>\n",
       "      <td>United States</td>\n",
       "      <td>5.189350e+09</td>\n",
       "      <td>Sheer Tulip Sleeve Studded Mixed Media Tunic -...</td>\n",
       "      <td>NaN</td>\n",
       "      <td>US</td>\n",
       "      <td>Credit</td>\n",
       "    </tr>\n",
       "  </tbody>\n",
       "</table>\n",
       "<p>5 rows × 41 columns</p>\n",
       "</div>"
      ],
      "text/plain": [
       "         Date      Time TimeZone               Name                      Type  \\\n",
       "0  09/01/2021  06:09:08      PDT   Kathy McGuinness     General Authorization   \n",
       "1  09/01/2021  06:31:02      PDT      Regina Duncan     General Authorization   \n",
       "2  09/01/2021  06:56:36      PDT  Marlene Sanderson     General Authorization   \n",
       "3  09/01/2021  08:28:12      PDT       Claire Lancz     General Authorization   \n",
       "4  09/01/2021  08:31:03      PDT  Suzanne Brownrigg  Express Checkout Payment   \n",
       "\n",
       "      Status Currency   Gross   Fee     Net  ...  \\\n",
       "0    Pending      USD  257.98  0.00  257.98  ...   \n",
       "1    Pending      USD  143.99  0.00  143.99  ...   \n",
       "2    Pending      USD   92.99  0.00   92.99  ...   \n",
       "3    Pending      USD  352.00  0.00  352.00  ...   \n",
       "4  Completed      USD  129.50 -3.67  125.83  ...   \n",
       "\n",
       "  Address Line 2/District/Neighborhood          Town/City  \\\n",
       "0                                  NaN             DeLand   \n",
       "1                                  NaN            Makawao   \n",
       "2                                  NaN  Greenwood Village   \n",
       "3                                  NaN        BATON ROUGE   \n",
       "4                                  NaN        W Sand Lake   \n",
       "\n",
       "  State/Province/Region/County/Territory/Prefecture/Republic Zip/Postal Code  \\\n",
       "0                                                 FL                   32720   \n",
       "1                                                 HI                   96768   \n",
       "2                                                 CO                   80121   \n",
       "3                                                 LA                   70810   \n",
       "4                                                 NY              12196-2207   \n",
       "\n",
       "         Country Contact Phone Number  \\\n",
       "0  United States         3.869569e+09   \n",
       "1  United States         8.082510e+09   \n",
       "2  United States         3.039300e+09   \n",
       "3  United States         2.316322e+09   \n",
       "4  United States         5.189350e+09   \n",
       "\n",
       "                                             Subject  Note  Country Code  \\\n",
       "0  Plus Size-Dash Asymmetrical Knit Jacket - Blac...   NaN            US   \n",
       "1     Laced Gold Grommet Trim Knit Dress - Black / L   NaN            US   \n",
       "2  Light Textured Tweed Jacket - Twig Beige/Black...   NaN            US   \n",
       "3  Mid-Length Scoop Neck Knit Tank Cerise - Ceris...   NaN            US   \n",
       "4  Sheer Tulip Sleeve Studded Mixed Media Tunic -...   NaN            US   \n",
       "\n",
       "   Balance Impact  \n",
       "0            Memo  \n",
       "1            Memo  \n",
       "2            Memo  \n",
       "3            Memo  \n",
       "4          Credit  \n",
       "\n",
       "[5 rows x 41 columns]"
      ]
     },
     "execution_count": 5,
     "metadata": {},
     "output_type": "execute_result"
    }
   ],
   "source": [
    "PP.head()"
   ]
  },
  {
   "cell_type": "code",
   "execution_count": 6,
   "id": "1587385a",
   "metadata": {
    "scrolled": true
   },
   "outputs": [],
   "source": [
    "PP=PP[PP[\"Type\"]!=\"General Authorization\"]\n",
    "PP=PP[PP[\"Type\"]!=\"General Withdrawal\"]\n",
    "PP=PP[PP[\"Type\"]!=\"Void of Authorization\"]\n"
   ]
  },
  {
   "cell_type": "code",
   "execution_count": 7,
   "id": "54c4c476",
   "metadata": {
    "scrolled": true
   },
   "outputs": [
    {
     "data": {
      "text/plain": [
       "Date                                                           object\n",
       "Time                                                           object\n",
       "TimeZone                                                       object\n",
       "Name                                                           object\n",
       "Type                                                           object\n",
       "Status                                                         object\n",
       "Currency                                                       object\n",
       "Gross                                                          object\n",
       "Fee                                                           float64\n",
       "Net                                                            object\n",
       "From Email Address                                             object\n",
       "To Email Address                                               object\n",
       "Transaction ID                                                 object\n",
       "Shipping Address                                               object\n",
       "Address Status                                                 object\n",
       "Item Title                                                     object\n",
       "Item ID                                                       float64\n",
       "Shipping and Handling Amount                                  float64\n",
       "Insurance Amount                                              float64\n",
       "Sales Tax                                                     float64\n",
       "Option 1 Name                                                 float64\n",
       "Option 1 Value                                                float64\n",
       "Option 2 Name                                                 float64\n",
       "Option 2 Value                                                float64\n",
       "Reference Txn ID                                               object\n",
       "Invoice Number                                                 object\n",
       "Custom Number                                                  object\n",
       "Quantity                                                      float64\n",
       "Receipt ID                                                    float64\n",
       "Balance                                                        object\n",
       "Address Line 1                                                 object\n",
       "Address Line 2/District/Neighborhood                           object\n",
       "Town/City                                                      object\n",
       "State/Province/Region/County/Territory/Prefecture/Republic     object\n",
       "Zip/Postal Code                                                object\n",
       "Country                                                        object\n",
       "Contact Phone Number                                          float64\n",
       "Subject                                                        object\n",
       "Note                                                          float64\n",
       "Country Code                                                   object\n",
       "Balance Impact                                                 object\n",
       "dtype: object"
      ]
     },
     "execution_count": 7,
     "metadata": {},
     "output_type": "execute_result"
    }
   ],
   "source": [
    "PP.dtypes"
   ]
  },
  {
   "cell_type": "code",
   "execution_count": 8,
   "id": "8f9e9f20",
   "metadata": {},
   "outputs": [],
   "source": [
    "PP[\"Lookup\"]=np.where((PP[\"Type\"]==\"Payment Refund\")|(PP[\"Type\"]==\"Hold on Balance for Dispute Investigation\"),PP[\"To Email Address\"]+\"|\"+PP[\"Gross\"],PP[\"From Email Address\"]+\"|\"+PP[\"Gross\"])"
   ]
  },
  {
   "cell_type": "code",
   "execution_count": 9,
   "id": "3aabf6e7",
   "metadata": {},
   "outputs": [
    {
     "data": {
      "text/plain": [
       "4                 s.brownrigg@hvcc.edu|129.50\n",
       "6                  michelee@cfl.rr.com|129.50\n",
       "8      ncrumppianoinstructor@yahoo.com|386.39\n",
       "10                castle4t@comcast.net|285.98\n",
       "12                cscavey@hotmail.com|-157.50\n",
       "                        ...                  \n",
       "878                juliereyer@yahoo.com|46.99\n",
       "880          marjoriedrucker@gmail.com|139.18\n",
       "882             kay@bastropforsale.com|467.64\n",
       "884                   pgcwhite@aol.com|256.00\n",
       "886                   esfi49@gmail.com|325.00\n",
       "Name: Lookup, Length: 323, dtype: object"
      ]
     },
     "execution_count": 9,
     "metadata": {},
     "output_type": "execute_result"
    }
   ],
   "source": [
    "PP[\"Lookup\"]"
   ]
  },
  {
   "cell_type": "code",
   "execution_count": 10,
   "id": "b98e5274",
   "metadata": {},
   "outputs": [],
   "source": [
    "PP[\"Lookup\"]=PP[\"Lookup\"].mask(PP[\"Lookup\"].str[-1]==\"0\",PP[\"Lookup\"].str[:-1])\n",
    "PP[\"Lookup\"]=PP[\"Lookup\"].mask(PP[\"Lookup\"].str[-1]==\".\",PP[\"Lookup\"].str[:-1])\n"
   ]
  },
  {
   "cell_type": "code",
   "execution_count": 11,
   "id": "d9840e5c",
   "metadata": {
    "scrolled": false
   },
   "outputs": [
    {
     "data": {
      "text/plain": [
       "4                  s.brownrigg@hvcc.edu|129.5\n",
       "6                   michelee@cfl.rr.com|129.5\n",
       "8      ncrumppianoinstructor@yahoo.com|386.39\n",
       "10                castle4t@comcast.net|285.98\n",
       "12                 cscavey@hotmail.com|-157.5\n",
       "                        ...                  \n",
       "878                juliereyer@yahoo.com|46.99\n",
       "880          marjoriedrucker@gmail.com|139.18\n",
       "882             kay@bastropforsale.com|467.64\n",
       "884                    pgcwhite@aol.com|256.0\n",
       "886                    esfi49@gmail.com|325.0\n",
       "Name: Lookup, Length: 323, dtype: object"
      ]
     },
     "execution_count": 11,
     "metadata": {},
     "output_type": "execute_result"
    }
   ],
   "source": [
    "PP[\"Lookup\"]=PP[\"Lookup\"].apply(lambda x:x.replace(',',''))\n",
    "PP[\"Lookup\"]"
   ]
  },
  {
   "cell_type": "code",
   "execution_count": 12,
   "id": "cd648923",
   "metadata": {},
   "outputs": [
    {
     "data": {
      "text/plain": [
       "4      09/01/2021\n",
       "6      09/01/2021\n",
       "8      09/01/2021\n",
       "10     09/01/2021\n",
       "12     09/01/2021\n",
       "          ...    \n",
       "878    09/23/2021\n",
       "880    09/23/2021\n",
       "882    09/23/2021\n",
       "884    09/23/2021\n",
       "886    09/23/2021\n",
       "Name: Date, Length: 323, dtype: object"
      ]
     },
     "execution_count": 12,
     "metadata": {},
     "output_type": "execute_result"
    }
   ],
   "source": [
    "PP[\"Date\"]"
   ]
  },
  {
   "cell_type": "code",
   "execution_count": 13,
   "id": "31260bd3",
   "metadata": {},
   "outputs": [],
   "source": [
    "from datetime import date\n",
    "from datetime import datetime"
   ]
  },
  {
   "cell_type": "code",
   "execution_count": 14,
   "id": "7c2445bd",
   "metadata": {},
   "outputs": [],
   "source": [
    "date_format = \"%m/%d/%Y\"\n",
    "PP[\"Date\"]=PP[\"Date\"].apply(lambda x : datetime.strptime(x, date_format))"
   ]
  },
  {
   "cell_type": "code",
   "execution_count": 15,
   "id": "8b6a5bfa",
   "metadata": {},
   "outputs": [
    {
     "data": {
      "text/plain": [
       "4    2021-09-01\n",
       "6    2021-09-01\n",
       "8    2021-09-01\n",
       "10   2021-09-01\n",
       "12   2021-09-01\n",
       "13   2021-09-01\n",
       "15   2021-09-01\n",
       "17   2021-09-01\n",
       "19   2021-09-01\n",
       "21   2021-09-01\n",
       "Name: Date, dtype: datetime64[ns]"
      ]
     },
     "execution_count": 15,
     "metadata": {},
     "output_type": "execute_result"
    }
   ],
   "source": [
    "PP[\"Date\"][:10]"
   ]
  },
  {
   "cell_type": "code",
   "execution_count": 16,
   "id": "896a4868",
   "metadata": {},
   "outputs": [],
   "source": [
    "PP[\"Lookup_1\"]=(PP[\"Date\"].apply(lambda x: (x-datetime.strptime(\"01/01/1900\", date_format)).days+2)).astype(str)+\"|\"+PP[\"Gross\"]"
   ]
  },
  {
   "cell_type": "code",
   "execution_count": 17,
   "id": "43c907f4",
   "metadata": {
    "scrolled": true
   },
   "outputs": [
    {
     "data": {
      "text/plain": [
       "4       44440|129.50\n",
       "6       44440|129.50\n",
       "8       44440|386.39\n",
       "10      44440|285.98\n",
       "12     44440|-157.50\n",
       "           ...      \n",
       "878      44462|46.99\n",
       "880     44462|139.18\n",
       "882     44462|467.64\n",
       "884     44462|256.00\n",
       "886     44462|325.00\n",
       "Name: Lookup_1, Length: 323, dtype: object"
      ]
     },
     "execution_count": 17,
     "metadata": {},
     "output_type": "execute_result"
    }
   ],
   "source": [
    "PP[\"Lookup_1\"]"
   ]
  },
  {
   "cell_type": "code",
   "execution_count": 21,
   "id": "21b4668b",
   "metadata": {},
   "outputs": [],
   "source": [
    "PP=PP[[\"Date\",\"Lookup_1\",\"Lookup\",\"Net\"]]\n",
    "PP[\"Lookup_1\"]=PP[\"Lookup_1\"].mask(PP[\"Lookup_1\"].str[-1]==\"0\",PP[\"Lookup_1\"].str[:-1])\n",
    "PP[\"Lookup_1\"]=PP[\"Lookup_1\"].mask(PP[\"Lookup_1\"].str[-1]==\"0\",PP[\"Lookup_1\"].str[:-1])\n",
    "PP[\"Lookup_1\"]=PP[\"Lookup_1\"].mask(PP[\"Lookup_1\"].str[-1]==\".\",PP[\"Lookup_1\"].str[:-1])\n"
   ]
  },
  {
   "cell_type": "code",
   "execution_count": 22,
   "id": "a42f52c7",
   "metadata": {
    "scrolled": true
   },
   "outputs": [
    {
     "data": {
      "text/plain": [
       "4       44440|129.5\n",
       "6       44440|129.5\n",
       "8      44440|386.39\n",
       "10     44440|285.98\n",
       "12     44440|-157.5\n",
       "           ...     \n",
       "878     44462|46.99\n",
       "880    44462|139.18\n",
       "882    44462|467.64\n",
       "884       44462|256\n",
       "886       44462|325\n",
       "Name: Lookup_1, Length: 323, dtype: object"
      ]
     },
     "execution_count": 22,
     "metadata": {},
     "output_type": "execute_result"
    }
   ],
   "source": [
    "PP[\"Lookup_1\"]=PP[\"Lookup_1\"].apply(lambda x:x.replace(',',''))\n",
    "PP[\"Lookup_1\"]"
   ]
  },
  {
   "cell_type": "code",
   "execution_count": 20,
   "id": "a34fbf49",
   "metadata": {
    "scrolled": true
   },
   "outputs": [
    {
     "ename": "PermissionError",
     "evalue": "[Errno 13] Permission denied: 'C:/Users/shawnhe/Desktop/PP_Data_Left.csv'",
     "output_type": "error",
     "traceback": [
      "\u001b[1;31m---------------------------------------------------------------------------\u001b[0m",
      "\u001b[1;31mPermissionError\u001b[0m                           Traceback (most recent call last)",
      "\u001b[1;32m<ipython-input-20-dc65addebd93>\u001b[0m in \u001b[0;36m<module>\u001b[1;34m\u001b[0m\n\u001b[1;32m----> 1\u001b[1;33m \u001b[0mData_PP\u001b[0m\u001b[1;33m.\u001b[0m\u001b[0mto_csv\u001b[0m\u001b[1;33m(\u001b[0m\u001b[1;34m\"C://Users//shawnhe//Desktop//PP_Data_Left.csv\"\u001b[0m\u001b[1;33m,\u001b[0m\u001b[0mindex\u001b[0m\u001b[1;33m=\u001b[0m\u001b[1;32mFalse\u001b[0m\u001b[1;33m)\u001b[0m\u001b[1;33m\u001b[0m\u001b[1;33m\u001b[0m\u001b[0m\n\u001b[0m",
      "\u001b[1;32m~\\Anaconda3\\lib\\site-packages\\pandas\\core\\generic.py\u001b[0m in \u001b[0;36mto_csv\u001b[1;34m(self, path_or_buf, sep, na_rep, float_format, columns, header, index, index_label, mode, encoding, compression, quoting, quotechar, line_terminator, chunksize, date_format, doublequote, escapechar, decimal, errors, storage_options)\u001b[0m\n\u001b[0;32m   3385\u001b[0m         )\n\u001b[0;32m   3386\u001b[0m \u001b[1;33m\u001b[0m\u001b[0m\n\u001b[1;32m-> 3387\u001b[1;33m         return DataFrameRenderer(formatter).to_csv(\n\u001b[0m\u001b[0;32m   3388\u001b[0m             \u001b[0mpath_or_buf\u001b[0m\u001b[1;33m,\u001b[0m\u001b[1;33m\u001b[0m\u001b[1;33m\u001b[0m\u001b[0m\n\u001b[0;32m   3389\u001b[0m             \u001b[0mline_terminator\u001b[0m\u001b[1;33m=\u001b[0m\u001b[0mline_terminator\u001b[0m\u001b[1;33m,\u001b[0m\u001b[1;33m\u001b[0m\u001b[1;33m\u001b[0m\u001b[0m\n",
      "\u001b[1;32m~\\Anaconda3\\lib\\site-packages\\pandas\\io\\formats\\format.py\u001b[0m in \u001b[0;36mto_csv\u001b[1;34m(self, path_or_buf, encoding, sep, columns, index_label, mode, compression, quoting, quotechar, line_terminator, chunksize, date_format, doublequote, escapechar, errors, storage_options)\u001b[0m\n\u001b[0;32m   1081\u001b[0m             \u001b[0mformatter\u001b[0m\u001b[1;33m=\u001b[0m\u001b[0mself\u001b[0m\u001b[1;33m.\u001b[0m\u001b[0mfmt\u001b[0m\u001b[1;33m,\u001b[0m\u001b[1;33m\u001b[0m\u001b[1;33m\u001b[0m\u001b[0m\n\u001b[0;32m   1082\u001b[0m         )\n\u001b[1;32m-> 1083\u001b[1;33m         \u001b[0mcsv_formatter\u001b[0m\u001b[1;33m.\u001b[0m\u001b[0msave\u001b[0m\u001b[1;33m(\u001b[0m\u001b[1;33m)\u001b[0m\u001b[1;33m\u001b[0m\u001b[1;33m\u001b[0m\u001b[0m\n\u001b[0m\u001b[0;32m   1084\u001b[0m \u001b[1;33m\u001b[0m\u001b[0m\n\u001b[0;32m   1085\u001b[0m         \u001b[1;32mif\u001b[0m \u001b[0mcreated_buffer\u001b[0m\u001b[1;33m:\u001b[0m\u001b[1;33m\u001b[0m\u001b[1;33m\u001b[0m\u001b[0m\n",
      "\u001b[1;32m~\\Anaconda3\\lib\\site-packages\\pandas\\io\\formats\\csvs.py\u001b[0m in \u001b[0;36msave\u001b[1;34m(self)\u001b[0m\n\u001b[0;32m    226\u001b[0m         \"\"\"\n\u001b[0;32m    227\u001b[0m         \u001b[1;31m# apply compression and byte/text conversion\u001b[0m\u001b[1;33m\u001b[0m\u001b[1;33m\u001b[0m\u001b[1;33m\u001b[0m\u001b[0m\n\u001b[1;32m--> 228\u001b[1;33m         with get_handle(\n\u001b[0m\u001b[0;32m    229\u001b[0m             \u001b[0mself\u001b[0m\u001b[1;33m.\u001b[0m\u001b[0mfilepath_or_buffer\u001b[0m\u001b[1;33m,\u001b[0m\u001b[1;33m\u001b[0m\u001b[1;33m\u001b[0m\u001b[0m\n\u001b[0;32m    230\u001b[0m             \u001b[0mself\u001b[0m\u001b[1;33m.\u001b[0m\u001b[0mmode\u001b[0m\u001b[1;33m,\u001b[0m\u001b[1;33m\u001b[0m\u001b[1;33m\u001b[0m\u001b[0m\n",
      "\u001b[1;32m~\\Anaconda3\\lib\\site-packages\\pandas\\io\\common.py\u001b[0m in \u001b[0;36mget_handle\u001b[1;34m(path_or_buf, mode, encoding, compression, memory_map, is_text, errors, storage_options)\u001b[0m\n\u001b[0;32m    556\u001b[0m \u001b[1;33m\u001b[0m\u001b[0m\n\u001b[0;32m    557\u001b[0m     \u001b[1;31m# open URLs\u001b[0m\u001b[1;33m\u001b[0m\u001b[1;33m\u001b[0m\u001b[1;33m\u001b[0m\u001b[0m\n\u001b[1;32m--> 558\u001b[1;33m     ioargs = _get_filepath_or_buffer(\n\u001b[0m\u001b[0;32m    559\u001b[0m         \u001b[0mpath_or_buf\u001b[0m\u001b[1;33m,\u001b[0m\u001b[1;33m\u001b[0m\u001b[1;33m\u001b[0m\u001b[0m\n\u001b[0;32m    560\u001b[0m         \u001b[0mencoding\u001b[0m\u001b[1;33m=\u001b[0m\u001b[0mencoding\u001b[0m\u001b[1;33m,\u001b[0m\u001b[1;33m\u001b[0m\u001b[1;33m\u001b[0m\u001b[0m\n",
      "\u001b[1;32m~\\Anaconda3\\lib\\site-packages\\pandas\\io\\common.py\u001b[0m in \u001b[0;36m_get_filepath_or_buffer\u001b[1;34m(filepath_or_buffer, encoding, compression, mode, storage_options)\u001b[0m\n\u001b[0;32m    331\u001b[0m \u001b[1;33m\u001b[0m\u001b[0m\n\u001b[0;32m    332\u001b[0m         \u001b[1;32mtry\u001b[0m\u001b[1;33m:\u001b[0m\u001b[1;33m\u001b[0m\u001b[1;33m\u001b[0m\u001b[0m\n\u001b[1;32m--> 333\u001b[1;33m             file_obj = fsspec.open(\n\u001b[0m\u001b[0;32m    334\u001b[0m                 \u001b[0mfilepath_or_buffer\u001b[0m\u001b[1;33m,\u001b[0m \u001b[0mmode\u001b[0m\u001b[1;33m=\u001b[0m\u001b[0mfsspec_mode\u001b[0m\u001b[1;33m,\u001b[0m \u001b[1;33m**\u001b[0m\u001b[1;33m(\u001b[0m\u001b[0mstorage_options\u001b[0m \u001b[1;32mor\u001b[0m \u001b[1;33m{\u001b[0m\u001b[1;33m}\u001b[0m\u001b[1;33m)\u001b[0m\u001b[1;33m\u001b[0m\u001b[1;33m\u001b[0m\u001b[0m\n\u001b[0;32m    335\u001b[0m             ).open()\n",
      "\u001b[1;32m~\\Anaconda3\\lib\\site-packages\\fsspec\\core.py\u001b[0m in \u001b[0;36mopen\u001b[1;34m(self)\u001b[0m\n\u001b[0;32m    132\u001b[0m         \u001b[0mbeen\u001b[0m \u001b[0mdeleted\u001b[0m\u001b[1;33m;\u001b[0m \u001b[0mbut\u001b[0m \u001b[0ma\u001b[0m \u001b[1;32mwith\u001b[0m\u001b[1;33m-\u001b[0m\u001b[0mcontext\u001b[0m \u001b[1;32mis\u001b[0m \u001b[0mbetter\u001b[0m \u001b[0mstyle\u001b[0m\u001b[1;33m.\u001b[0m\u001b[1;33m\u001b[0m\u001b[1;33m\u001b[0m\u001b[0m\n\u001b[0;32m    133\u001b[0m         \"\"\"\n\u001b[1;32m--> 134\u001b[1;33m         \u001b[0mout\u001b[0m \u001b[1;33m=\u001b[0m \u001b[0mself\u001b[0m\u001b[1;33m.\u001b[0m\u001b[0m__enter__\u001b[0m\u001b[1;33m(\u001b[0m\u001b[1;33m)\u001b[0m\u001b[1;33m\u001b[0m\u001b[1;33m\u001b[0m\u001b[0m\n\u001b[0m\u001b[0;32m    135\u001b[0m         \u001b[0mcloser\u001b[0m \u001b[1;33m=\u001b[0m \u001b[0mout\u001b[0m\u001b[1;33m.\u001b[0m\u001b[0mclose\u001b[0m\u001b[1;33m\u001b[0m\u001b[1;33m\u001b[0m\u001b[0m\n\u001b[0;32m    136\u001b[0m         \u001b[0mfobjects\u001b[0m \u001b[1;33m=\u001b[0m \u001b[0mself\u001b[0m\u001b[1;33m.\u001b[0m\u001b[0mfobjects\u001b[0m\u001b[1;33m.\u001b[0m\u001b[0mcopy\u001b[0m\u001b[1;33m(\u001b[0m\u001b[1;33m)\u001b[0m\u001b[1;33m[\u001b[0m\u001b[1;33m:\u001b[0m\u001b[1;33m-\u001b[0m\u001b[1;36m1\u001b[0m\u001b[1;33m]\u001b[0m\u001b[1;33m\u001b[0m\u001b[1;33m\u001b[0m\u001b[0m\n",
      "\u001b[1;32m~\\Anaconda3\\lib\\site-packages\\fsspec\\core.py\u001b[0m in \u001b[0;36m__enter__\u001b[1;34m(self)\u001b[0m\n\u001b[0;32m    100\u001b[0m         \u001b[0mmode\u001b[0m \u001b[1;33m=\u001b[0m \u001b[0mself\u001b[0m\u001b[1;33m.\u001b[0m\u001b[0mmode\u001b[0m\u001b[1;33m.\u001b[0m\u001b[0mreplace\u001b[0m\u001b[1;33m(\u001b[0m\u001b[1;34m\"t\"\u001b[0m\u001b[1;33m,\u001b[0m \u001b[1;34m\"\"\u001b[0m\u001b[1;33m)\u001b[0m\u001b[1;33m.\u001b[0m\u001b[0mreplace\u001b[0m\u001b[1;33m(\u001b[0m\u001b[1;34m\"b\"\u001b[0m\u001b[1;33m,\u001b[0m \u001b[1;34m\"\"\u001b[0m\u001b[1;33m)\u001b[0m \u001b[1;33m+\u001b[0m \u001b[1;34m\"b\"\u001b[0m\u001b[1;33m\u001b[0m\u001b[1;33m\u001b[0m\u001b[0m\n\u001b[0;32m    101\u001b[0m \u001b[1;33m\u001b[0m\u001b[0m\n\u001b[1;32m--> 102\u001b[1;33m         \u001b[0mf\u001b[0m \u001b[1;33m=\u001b[0m \u001b[0mself\u001b[0m\u001b[1;33m.\u001b[0m\u001b[0mfs\u001b[0m\u001b[1;33m.\u001b[0m\u001b[0mopen\u001b[0m\u001b[1;33m(\u001b[0m\u001b[0mself\u001b[0m\u001b[1;33m.\u001b[0m\u001b[0mpath\u001b[0m\u001b[1;33m,\u001b[0m \u001b[0mmode\u001b[0m\u001b[1;33m=\u001b[0m\u001b[0mmode\u001b[0m\u001b[1;33m)\u001b[0m\u001b[1;33m\u001b[0m\u001b[1;33m\u001b[0m\u001b[0m\n\u001b[0m\u001b[0;32m    103\u001b[0m \u001b[1;33m\u001b[0m\u001b[0m\n\u001b[0;32m    104\u001b[0m         \u001b[0mself\u001b[0m\u001b[1;33m.\u001b[0m\u001b[0mfobjects\u001b[0m \u001b[1;33m=\u001b[0m \u001b[1;33m[\u001b[0m\u001b[0mf\u001b[0m\u001b[1;33m]\u001b[0m\u001b[1;33m\u001b[0m\u001b[1;33m\u001b[0m\u001b[0m\n",
      "\u001b[1;32m~\\Anaconda3\\lib\\site-packages\\fsspec\\spec.py\u001b[0m in \u001b[0;36mopen\u001b[1;34m(self, path, mode, block_size, cache_options, **kwargs)\u001b[0m\n\u001b[0;32m    938\u001b[0m         \u001b[1;32melse\u001b[0m\u001b[1;33m:\u001b[0m\u001b[1;33m\u001b[0m\u001b[1;33m\u001b[0m\u001b[0m\n\u001b[0;32m    939\u001b[0m             \u001b[0mac\u001b[0m \u001b[1;33m=\u001b[0m \u001b[0mkwargs\u001b[0m\u001b[1;33m.\u001b[0m\u001b[0mpop\u001b[0m\u001b[1;33m(\u001b[0m\u001b[1;34m\"autocommit\"\u001b[0m\u001b[1;33m,\u001b[0m \u001b[1;32mnot\u001b[0m \u001b[0mself\u001b[0m\u001b[1;33m.\u001b[0m\u001b[0m_intrans\u001b[0m\u001b[1;33m)\u001b[0m\u001b[1;33m\u001b[0m\u001b[1;33m\u001b[0m\u001b[0m\n\u001b[1;32m--> 940\u001b[1;33m             f = self._open(\n\u001b[0m\u001b[0;32m    941\u001b[0m                 \u001b[0mpath\u001b[0m\u001b[1;33m,\u001b[0m\u001b[1;33m\u001b[0m\u001b[1;33m\u001b[0m\u001b[0m\n\u001b[0;32m    942\u001b[0m                 \u001b[0mmode\u001b[0m\u001b[1;33m=\u001b[0m\u001b[0mmode\u001b[0m\u001b[1;33m,\u001b[0m\u001b[1;33m\u001b[0m\u001b[1;33m\u001b[0m\u001b[0m\n",
      "\u001b[1;32m~\\Anaconda3\\lib\\site-packages\\fsspec\\implementations\\local.py\u001b[0m in \u001b[0;36m_open\u001b[1;34m(self, path, mode, block_size, **kwargs)\u001b[0m\n\u001b[0;32m    116\u001b[0m         \u001b[1;32mif\u001b[0m \u001b[0mself\u001b[0m\u001b[1;33m.\u001b[0m\u001b[0mauto_mkdir\u001b[0m \u001b[1;32mand\u001b[0m \u001b[1;34m\"w\"\u001b[0m \u001b[1;32min\u001b[0m \u001b[0mmode\u001b[0m\u001b[1;33m:\u001b[0m\u001b[1;33m\u001b[0m\u001b[1;33m\u001b[0m\u001b[0m\n\u001b[0;32m    117\u001b[0m             \u001b[0mself\u001b[0m\u001b[1;33m.\u001b[0m\u001b[0mmakedirs\u001b[0m\u001b[1;33m(\u001b[0m\u001b[0mself\u001b[0m\u001b[1;33m.\u001b[0m\u001b[0m_parent\u001b[0m\u001b[1;33m(\u001b[0m\u001b[0mpath\u001b[0m\u001b[1;33m)\u001b[0m\u001b[1;33m,\u001b[0m \u001b[0mexist_ok\u001b[0m\u001b[1;33m=\u001b[0m\u001b[1;32mTrue\u001b[0m\u001b[1;33m)\u001b[0m\u001b[1;33m\u001b[0m\u001b[1;33m\u001b[0m\u001b[0m\n\u001b[1;32m--> 118\u001b[1;33m         \u001b[1;32mreturn\u001b[0m \u001b[0mLocalFileOpener\u001b[0m\u001b[1;33m(\u001b[0m\u001b[0mpath\u001b[0m\u001b[1;33m,\u001b[0m \u001b[0mmode\u001b[0m\u001b[1;33m,\u001b[0m \u001b[0mfs\u001b[0m\u001b[1;33m=\u001b[0m\u001b[0mself\u001b[0m\u001b[1;33m,\u001b[0m \u001b[1;33m**\u001b[0m\u001b[0mkwargs\u001b[0m\u001b[1;33m)\u001b[0m\u001b[1;33m\u001b[0m\u001b[1;33m\u001b[0m\u001b[0m\n\u001b[0m\u001b[0;32m    119\u001b[0m \u001b[1;33m\u001b[0m\u001b[0m\n\u001b[0;32m    120\u001b[0m     \u001b[1;32mdef\u001b[0m \u001b[0mtouch\u001b[0m\u001b[1;33m(\u001b[0m\u001b[0mself\u001b[0m\u001b[1;33m,\u001b[0m \u001b[0mpath\u001b[0m\u001b[1;33m,\u001b[0m \u001b[1;33m**\u001b[0m\u001b[0mkwargs\u001b[0m\u001b[1;33m)\u001b[0m\u001b[1;33m:\u001b[0m\u001b[1;33m\u001b[0m\u001b[1;33m\u001b[0m\u001b[0m\n",
      "\u001b[1;32m~\\Anaconda3\\lib\\site-packages\\fsspec\\implementations\\local.py\u001b[0m in \u001b[0;36m__init__\u001b[1;34m(self, path, mode, autocommit, fs, **kwargs)\u001b[0m\n\u001b[0;32m    198\u001b[0m         \u001b[0mself\u001b[0m\u001b[1;33m.\u001b[0m\u001b[0mautocommit\u001b[0m \u001b[1;33m=\u001b[0m \u001b[0mautocommit\u001b[0m\u001b[1;33m\u001b[0m\u001b[1;33m\u001b[0m\u001b[0m\n\u001b[0;32m    199\u001b[0m         \u001b[0mself\u001b[0m\u001b[1;33m.\u001b[0m\u001b[0mblocksize\u001b[0m \u001b[1;33m=\u001b[0m \u001b[0mio\u001b[0m\u001b[1;33m.\u001b[0m\u001b[0mDEFAULT_BUFFER_SIZE\u001b[0m\u001b[1;33m\u001b[0m\u001b[1;33m\u001b[0m\u001b[0m\n\u001b[1;32m--> 200\u001b[1;33m         \u001b[0mself\u001b[0m\u001b[1;33m.\u001b[0m\u001b[0m_open\u001b[0m\u001b[1;33m(\u001b[0m\u001b[1;33m)\u001b[0m\u001b[1;33m\u001b[0m\u001b[1;33m\u001b[0m\u001b[0m\n\u001b[0m\u001b[0;32m    201\u001b[0m \u001b[1;33m\u001b[0m\u001b[0m\n\u001b[0;32m    202\u001b[0m     \u001b[1;32mdef\u001b[0m \u001b[0m_open\u001b[0m\u001b[1;33m(\u001b[0m\u001b[0mself\u001b[0m\u001b[1;33m)\u001b[0m\u001b[1;33m:\u001b[0m\u001b[1;33m\u001b[0m\u001b[1;33m\u001b[0m\u001b[0m\n",
      "\u001b[1;32m~\\Anaconda3\\lib\\site-packages\\fsspec\\implementations\\local.py\u001b[0m in \u001b[0;36m_open\u001b[1;34m(self)\u001b[0m\n\u001b[0;32m    203\u001b[0m         \u001b[1;32mif\u001b[0m \u001b[0mself\u001b[0m\u001b[1;33m.\u001b[0m\u001b[0mf\u001b[0m \u001b[1;32mis\u001b[0m \u001b[1;32mNone\u001b[0m \u001b[1;32mor\u001b[0m \u001b[0mself\u001b[0m\u001b[1;33m.\u001b[0m\u001b[0mf\u001b[0m\u001b[1;33m.\u001b[0m\u001b[0mclosed\u001b[0m\u001b[1;33m:\u001b[0m\u001b[1;33m\u001b[0m\u001b[1;33m\u001b[0m\u001b[0m\n\u001b[0;32m    204\u001b[0m             \u001b[1;32mif\u001b[0m \u001b[0mself\u001b[0m\u001b[1;33m.\u001b[0m\u001b[0mautocommit\u001b[0m \u001b[1;32mor\u001b[0m \u001b[1;34m\"w\"\u001b[0m \u001b[1;32mnot\u001b[0m \u001b[1;32min\u001b[0m \u001b[0mself\u001b[0m\u001b[1;33m.\u001b[0m\u001b[0mmode\u001b[0m\u001b[1;33m:\u001b[0m\u001b[1;33m\u001b[0m\u001b[1;33m\u001b[0m\u001b[0m\n\u001b[1;32m--> 205\u001b[1;33m                 \u001b[0mself\u001b[0m\u001b[1;33m.\u001b[0m\u001b[0mf\u001b[0m \u001b[1;33m=\u001b[0m \u001b[0mopen\u001b[0m\u001b[1;33m(\u001b[0m\u001b[0mself\u001b[0m\u001b[1;33m.\u001b[0m\u001b[0mpath\u001b[0m\u001b[1;33m,\u001b[0m \u001b[0mmode\u001b[0m\u001b[1;33m=\u001b[0m\u001b[0mself\u001b[0m\u001b[1;33m.\u001b[0m\u001b[0mmode\u001b[0m\u001b[1;33m)\u001b[0m\u001b[1;33m\u001b[0m\u001b[1;33m\u001b[0m\u001b[0m\n\u001b[0m\u001b[0;32m    206\u001b[0m             \u001b[1;32melse\u001b[0m\u001b[1;33m:\u001b[0m\u001b[1;33m\u001b[0m\u001b[1;33m\u001b[0m\u001b[0m\n\u001b[0;32m    207\u001b[0m                 \u001b[1;31m# TODO: check if path is writable?\u001b[0m\u001b[1;33m\u001b[0m\u001b[1;33m\u001b[0m\u001b[1;33m\u001b[0m\u001b[0m\n",
      "\u001b[1;31mPermissionError\u001b[0m: [Errno 13] Permission denied: 'C:/Users/shawnhe/Desktop/PP_Data_Left.csv'"
     ]
    }
   ],
   "source": [
    "Data_PP.to_csv(\"C://Users//shawnhe//Desktop//PP_Data_Left.csv\",index=False)\n"
   ]
  },
  {
   "cell_type": "code",
   "execution_count": 23,
   "id": "57e2363c",
   "metadata": {
    "scrolled": true
   },
   "outputs": [],
   "source": [
    "PP.to_csv(\"C://Users//shawnhe//Desktop//PP_Data_Right.csv\",index=False)"
   ]
  },
  {
   "cell_type": "code",
   "execution_count": null,
   "id": "ffd66cf7",
   "metadata": {},
   "outputs": [],
   "source": []
  }
 ],
 "metadata": {
  "kernelspec": {
   "display_name": "Python 3",
   "language": "python",
   "name": "python3"
  },
  "language_info": {
   "codemirror_mode": {
    "name": "ipython",
    "version": 3
   },
   "file_extension": ".py",
   "mimetype": "text/x-python",
   "name": "python",
   "nbconvert_exporter": "python",
   "pygments_lexer": "ipython3",
   "version": "3.8.8"
  }
 },
 "nbformat": 4,
 "nbformat_minor": 5
}
