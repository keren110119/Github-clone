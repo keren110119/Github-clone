{
 "cells": [
  {
   "cell_type": "markdown",
   "id": "b0a11cf1",
   "metadata": {},
   "source": [
    "# MSK/MW-BT/PP/AP/KL"
   ]
  },
  {
   "cell_type": "code",
   "execution_count": 1,
   "id": "a23c4bd6",
   "metadata": {},
   "outputs": [],
   "source": [
    "import pandas as pd\n",
    "import numpy as np\n",
    "from datetime import date\n",
    "from datetime import datetime"
   ]
  },
  {
   "cell_type": "code",
   "execution_count": 2,
   "id": "f8c59a54",
   "metadata": {
    "scrolled": false
   },
   "outputs": [],
   "source": [
    "Data=pd.read_csv(\"C://Users//shawnhe//Downloads//payments_2021-12-01_2021-12-08.csv\") # FROM SHOPIFY REPORT 1\n",
    "BT=pd.read_csv(\"C://Users//shawnhe//Downloads//transaction_search.csv\") # FROM BT SHOPIFY 2\n",
    "BT_Disbursement=pd.read_csv(\"C://Users//shawnhe//Downloads//MingWang_instant_disbursements_2021_12_01_2021_12_31.csv\") # FROM BT REPORT 3\n",
    "PP=pd.read_csv(\"C://Users//shawnhe//Downloads//Download.csv\") # FROM PP REPORT 2\n",
    "#AP=pd.read_csv(\"C://Users//shawnhe//Downloads//2021Sep1-2021Sep28CustomTransaction.csv\")\n",
    "kl=pd.read_csv(\"C://Users//shawnhe//Downloads//klarna-transactions-reports_2021-12-01T00-00-00Z_2021-12-09T23-59-59Z.csv\") # FROM KL"
   ]
  },
  {
   "cell_type": "markdown",
   "id": "d2589dac",
   "metadata": {},
   "source": [
    "## BrainTree"
   ]
  },
  {
   "cell_type": "code",
   "execution_count": 3,
   "id": "6f59294d",
   "metadata": {},
   "outputs": [
    {
     "data": {
      "text/html": [
       "<div>\n",
       "<style scoped>\n",
       "    .dataframe tbody tr th:only-of-type {\n",
       "        vertical-align: middle;\n",
       "    }\n",
       "\n",
       "    .dataframe tbody tr th {\n",
       "        vertical-align: top;\n",
       "    }\n",
       "\n",
       "    .dataframe thead th {\n",
       "        text-align: right;\n",
       "    }\n",
       "</style>\n",
       "<table border=\"1\" class=\"dataframe\">\n",
       "  <thead>\n",
       "    <tr style=\"text-align: right;\">\n",
       "      <th></th>\n",
       "      <th>payment_method</th>\n",
       "      <th>digital_wallet</th>\n",
       "      <th>order_name</th>\n",
       "      <th>customer_name</th>\n",
       "      <th>transaction_kind</th>\n",
       "      <th>day</th>\n",
       "      <th>credit_card_type</th>\n",
       "      <th>customer_email</th>\n",
       "      <th>orders</th>\n",
       "      <th>gross_payments</th>\n",
       "      <th>refunded_payments</th>\n",
       "      <th>gift_card_payments</th>\n",
       "      <th>net_payments</th>\n",
       "      <th>total_payments</th>\n",
       "      <th>captured_payments</th>\n",
       "    </tr>\n",
       "  </thead>\n",
       "  <tbody>\n",
       "    <tr>\n",
       "      <th>72</th>\n",
       "      <td>PayPal Payments Standard</td>\n",
       "      <td>NaN</td>\n",
       "      <td>C42654</td>\n",
       "      <td>Faye Glick</td>\n",
       "      <td>capture</td>\n",
       "      <td>2021-12-01</td>\n",
       "      <td>NaN</td>\n",
       "      <td>glick2@roadrunner.com</td>\n",
       "      <td>1</td>\n",
       "      <td>352.0</td>\n",
       "      <td>0.00</td>\n",
       "      <td>0.0</td>\n",
       "      <td>352.00</td>\n",
       "      <td>352.00</td>\n",
       "      <td>352.0</td>\n",
       "    </tr>\n",
       "    <tr>\n",
       "      <th>350</th>\n",
       "      <td>Braintree</td>\n",
       "      <td>NaN</td>\n",
       "      <td>C41481</td>\n",
       "      <td>Barbara Mulvihill</td>\n",
       "      <td>refund</td>\n",
       "      <td>2021-12-01</td>\n",
       "      <td>American Express</td>\n",
       "      <td>bmulvihill2@comcast.net</td>\n",
       "      <td>0</td>\n",
       "      <td>0.0</td>\n",
       "      <td>-221.25</td>\n",
       "      <td>0.0</td>\n",
       "      <td>-221.25</td>\n",
       "      <td>-221.25</td>\n",
       "      <td>0.0</td>\n",
       "    </tr>\n",
       "    <tr>\n",
       "      <th>349</th>\n",
       "      <td>Braintree</td>\n",
       "      <td>NaN</td>\n",
       "      <td>C39807</td>\n",
       "      <td>Elizabeth Quinlan</td>\n",
       "      <td>refund</td>\n",
       "      <td>2021-12-01</td>\n",
       "      <td>Mastercard</td>\n",
       "      <td>mbeeque@yahoo.com</td>\n",
       "      <td>0</td>\n",
       "      <td>0.0</td>\n",
       "      <td>-221.25</td>\n",
       "      <td>0.0</td>\n",
       "      <td>-221.25</td>\n",
       "      <td>-221.25</td>\n",
       "      <td>0.0</td>\n",
       "    </tr>\n",
       "    <tr>\n",
       "      <th>348</th>\n",
       "      <td>Braintree</td>\n",
       "      <td>NaN</td>\n",
       "      <td>C41362</td>\n",
       "      <td>Anita Kartalopoulos</td>\n",
       "      <td>refund</td>\n",
       "      <td>2021-12-01</td>\n",
       "      <td>American Express</td>\n",
       "      <td>kart7577@gmail.com</td>\n",
       "      <td>0</td>\n",
       "      <td>0.0</td>\n",
       "      <td>-220.00</td>\n",
       "      <td>0.0</td>\n",
       "      <td>-220.00</td>\n",
       "      <td>-220.00</td>\n",
       "      <td>0.0</td>\n",
       "    </tr>\n",
       "    <tr>\n",
       "      <th>81</th>\n",
       "      <td>Amazon payments</td>\n",
       "      <td>NaN</td>\n",
       "      <td>C42571</td>\n",
       "      <td>Tracey Henzie</td>\n",
       "      <td>capture</td>\n",
       "      <td>2021-12-01</td>\n",
       "      <td>NaN</td>\n",
       "      <td>indytraceyh1971@gmail.com</td>\n",
       "      <td>1</td>\n",
       "      <td>332.0</td>\n",
       "      <td>0.00</td>\n",
       "      <td>0.0</td>\n",
       "      <td>332.00</td>\n",
       "      <td>332.00</td>\n",
       "      <td>332.0</td>\n",
       "    </tr>\n",
       "  </tbody>\n",
       "</table>\n",
       "</div>"
      ],
      "text/plain": [
       "               payment_method digital_wallet order_name        customer_name  \\\n",
       "72   PayPal Payments Standard            NaN     C42654           Faye Glick   \n",
       "350                 Braintree            NaN     C41481    Barbara Mulvihill   \n",
       "349                 Braintree            NaN     C39807    Elizabeth Quinlan   \n",
       "348                 Braintree            NaN     C41362  Anita Kartalopoulos   \n",
       "81            Amazon payments            NaN     C42571        Tracey Henzie   \n",
       "\n",
       "    transaction_kind         day  credit_card_type             customer_email  \\\n",
       "72           capture  2021-12-01               NaN      glick2@roadrunner.com   \n",
       "350           refund  2021-12-01  American Express    bmulvihill2@comcast.net   \n",
       "349           refund  2021-12-01        Mastercard          mbeeque@yahoo.com   \n",
       "348           refund  2021-12-01  American Express         kart7577@gmail.com   \n",
       "81           capture  2021-12-01               NaN  indytraceyh1971@gmail.com   \n",
       "\n",
       "     orders  gross_payments  refunded_payments  gift_card_payments  \\\n",
       "72        1           352.0               0.00                 0.0   \n",
       "350       0             0.0            -221.25                 0.0   \n",
       "349       0             0.0            -221.25                 0.0   \n",
       "348       0             0.0            -220.00                 0.0   \n",
       "81        1           332.0               0.00                 0.0   \n",
       "\n",
       "     net_payments  total_payments  captured_payments  \n",
       "72         352.00          352.00              352.0  \n",
       "350       -221.25         -221.25                0.0  \n",
       "349       -221.25         -221.25                0.0  \n",
       "348       -220.00         -220.00                0.0  \n",
       "81         332.00          332.00              332.0  "
      ]
     },
     "execution_count": 3,
     "metadata": {},
     "output_type": "execute_result"
    }
   ],
   "source": [
    "Data.sort_values(\"day\",inplace = True)\n",
    "BT.sort_values(\"Disbursement Date\", inplace = True)\n",
    "Data.head()"
   ]
  },
  {
   "cell_type": "code",
   "execution_count": 4,
   "id": "a53d68ac",
   "metadata": {},
   "outputs": [],
   "source": [
    "Data = Data[Data[\"transaction_kind\"]!=\"void\"]"
   ]
  },
  {
   "cell_type": "code",
   "execution_count": 5,
   "id": "d6ffed68",
   "metadata": {},
   "outputs": [],
   "source": [
    "Data_BT=Data[Data[\"payment_method\"]==\"Braintree\"]\n",
    "Data_BT=Data_BT[[\"day\",\"customer_name\",\"order_name\",\"credit_card_type\",\"customer_email\",\"total_payments\"]]"
   ]
  },
  {
   "cell_type": "code",
   "execution_count": 6,
   "id": "a4b226e3",
   "metadata": {},
   "outputs": [
    {
     "data": {
      "text/html": [
       "<div>\n",
       "<style scoped>\n",
       "    .dataframe tbody tr th:only-of-type {\n",
       "        vertical-align: middle;\n",
       "    }\n",
       "\n",
       "    .dataframe tbody tr th {\n",
       "        vertical-align: top;\n",
       "    }\n",
       "\n",
       "    .dataframe thead th {\n",
       "        text-align: right;\n",
       "    }\n",
       "</style>\n",
       "<table border=\"1\" class=\"dataframe\">\n",
       "  <thead>\n",
       "    <tr style=\"text-align: right;\">\n",
       "      <th></th>\n",
       "      <th>day</th>\n",
       "      <th>customer_name</th>\n",
       "      <th>order_name</th>\n",
       "      <th>credit_card_type</th>\n",
       "      <th>customer_email</th>\n",
       "      <th>total_payments</th>\n",
       "    </tr>\n",
       "  </thead>\n",
       "  <tbody>\n",
       "    <tr>\n",
       "      <th>350</th>\n",
       "      <td>2021-12-01</td>\n",
       "      <td>Barbara Mulvihill</td>\n",
       "      <td>C41481</td>\n",
       "      <td>American Express</td>\n",
       "      <td>bmulvihill2@comcast.net</td>\n",
       "      <td>-221.25</td>\n",
       "    </tr>\n",
       "    <tr>\n",
       "      <th>349</th>\n",
       "      <td>2021-12-01</td>\n",
       "      <td>Elizabeth Quinlan</td>\n",
       "      <td>C39807</td>\n",
       "      <td>Mastercard</td>\n",
       "      <td>mbeeque@yahoo.com</td>\n",
       "      <td>-221.25</td>\n",
       "    </tr>\n",
       "    <tr>\n",
       "      <th>348</th>\n",
       "      <td>2021-12-01</td>\n",
       "      <td>Anita Kartalopoulos</td>\n",
       "      <td>C41362</td>\n",
       "      <td>American Express</td>\n",
       "      <td>kart7577@gmail.com</td>\n",
       "      <td>-220.00</td>\n",
       "    </tr>\n",
       "    <tr>\n",
       "      <th>223</th>\n",
       "      <td>2021-12-01</td>\n",
       "      <td>Susan Springfield</td>\n",
       "      <td>C42662</td>\n",
       "      <td>Visa</td>\n",
       "      <td>springfield64@gmail.com</td>\n",
       "      <td>150.00</td>\n",
       "    </tr>\n",
       "    <tr>\n",
       "      <th>227</th>\n",
       "      <td>2021-12-01</td>\n",
       "      <td>Ilana Pomeranz</td>\n",
       "      <td>C42646</td>\n",
       "      <td>Visa</td>\n",
       "      <td>ilanapiano@yahoo.com</td>\n",
       "      <td>147.22</td>\n",
       "    </tr>\n",
       "  </tbody>\n",
       "</table>\n",
       "</div>"
      ],
      "text/plain": [
       "            day        customer_name order_name  credit_card_type  \\\n",
       "350  2021-12-01    Barbara Mulvihill     C41481  American Express   \n",
       "349  2021-12-01    Elizabeth Quinlan     C39807        Mastercard   \n",
       "348  2021-12-01  Anita Kartalopoulos     C41362  American Express   \n",
       "223  2021-12-01    Susan Springfield     C42662              Visa   \n",
       "227  2021-12-01       Ilana Pomeranz     C42646              Visa   \n",
       "\n",
       "              customer_email  total_payments  \n",
       "350  bmulvihill2@comcast.net         -221.25  \n",
       "349        mbeeque@yahoo.com         -221.25  \n",
       "348       kart7577@gmail.com         -220.00  \n",
       "223  springfield64@gmail.com          150.00  \n",
       "227     ilanapiano@yahoo.com          147.22  "
      ]
     },
     "execution_count": 6,
     "metadata": {},
     "output_type": "execute_result"
    }
   ],
   "source": [
    "Data_BT.head()"
   ]
  },
  {
   "cell_type": "code",
   "execution_count": 7,
   "id": "3d0b3f6b",
   "metadata": {},
   "outputs": [],
   "source": [
    "Data_BT[\"Lookup\"]=Data_BT[\"customer_email\"].astype(str)+\"|\"+Data_BT[\"total_payments\"].astype(str)\n",
    "Data_BT[\"credit_card_type\"]=Data_BT[\"credit_card_type\"].astype(str).str[0]"
   ]
  },
  {
   "cell_type": "code",
   "execution_count": 8,
   "id": "5e8af0ca",
   "metadata": {},
   "outputs": [],
   "source": [
    "Data_BT=Data_BT[[\"day\",\"customer_name\",\"Lookup\",\"order_name\",\"credit_card_type\",\"total_payments\"]]"
   ]
  },
  {
   "cell_type": "code",
   "execution_count": 9,
   "id": "b686f471",
   "metadata": {},
   "outputs": [
    {
     "data": {
      "text/plain": [
       "350    bmulvihill2@comcast.net|-221.25\n",
       "349          mbeeque@yahoo.com|-221.25\n",
       "348            kart7577@gmail.com|-220\n",
       "223        springfield64@gmail.com|150\n",
       "227        ilanapiano@yahoo.com|147.22\n",
       "                    ...               \n",
       "327    mbvossmer@earthlink.net|-178.61\n",
       "110        joniscreen@gmail.com|294.44\n",
       "226           leblandj79@yahoo.com|148\n",
       "45               emandrews@cox.net|440\n",
       "147             vmooney1@aol.com|232.5\n",
       "Name: Lookup, Length: 284, dtype: object"
      ]
     },
     "execution_count": 9,
     "metadata": {},
     "output_type": "execute_result"
    }
   ],
   "source": [
    "Data_BT[\"Lookup\"]=Data_BT[\"Lookup\"].mask(Data_BT[\"Lookup\"].str[-1]==\"0\",Data_BT[\"Lookup\"].str[:-1])\n",
    "Data_BT[\"Lookup\"]=Data_BT[\"Lookup\"].mask(Data_BT[\"Lookup\"].str[-1]==\".\",Data_BT[\"Lookup\"].str[:-1])\n",
    "Data_BT[\"Lookup\"]=Data_BT[\"Lookup\"].apply(lambda x:x.replace(',',''))\n",
    "Data_BT[\"Lookup\"]"
   ]
  },
  {
   "cell_type": "code",
   "execution_count": 10,
   "id": "24cfe875",
   "metadata": {},
   "outputs": [
    {
     "data": {
      "text/html": [
       "<div>\n",
       "<style scoped>\n",
       "    .dataframe tbody tr th:only-of-type {\n",
       "        vertical-align: middle;\n",
       "    }\n",
       "\n",
       "    .dataframe tbody tr th {\n",
       "        vertical-align: top;\n",
       "    }\n",
       "\n",
       "    .dataframe thead th {\n",
       "        text-align: right;\n",
       "    }\n",
       "</style>\n",
       "<table border=\"1\" class=\"dataframe\">\n",
       "  <thead>\n",
       "    <tr style=\"text-align: right;\">\n",
       "      <th></th>\n",
       "      <th>day</th>\n",
       "      <th>customer_name</th>\n",
       "      <th>Lookup</th>\n",
       "      <th>order_name</th>\n",
       "      <th>credit_card_type</th>\n",
       "      <th>total_payments</th>\n",
       "    </tr>\n",
       "  </thead>\n",
       "  <tbody>\n",
       "    <tr>\n",
       "      <th>350</th>\n",
       "      <td>2021-12-01</td>\n",
       "      <td>Barbara Mulvihill</td>\n",
       "      <td>bmulvihill2@comcast.net|-221.25</td>\n",
       "      <td>C41481</td>\n",
       "      <td>A</td>\n",
       "      <td>-221.25</td>\n",
       "    </tr>\n",
       "    <tr>\n",
       "      <th>349</th>\n",
       "      <td>2021-12-01</td>\n",
       "      <td>Elizabeth Quinlan</td>\n",
       "      <td>mbeeque@yahoo.com|-221.25</td>\n",
       "      <td>C39807</td>\n",
       "      <td>M</td>\n",
       "      <td>-221.25</td>\n",
       "    </tr>\n",
       "    <tr>\n",
       "      <th>348</th>\n",
       "      <td>2021-12-01</td>\n",
       "      <td>Anita Kartalopoulos</td>\n",
       "      <td>kart7577@gmail.com|-220</td>\n",
       "      <td>C41362</td>\n",
       "      <td>A</td>\n",
       "      <td>-220.00</td>\n",
       "    </tr>\n",
       "    <tr>\n",
       "      <th>223</th>\n",
       "      <td>2021-12-01</td>\n",
       "      <td>Susan Springfield</td>\n",
       "      <td>springfield64@gmail.com|150</td>\n",
       "      <td>C42662</td>\n",
       "      <td>V</td>\n",
       "      <td>150.00</td>\n",
       "    </tr>\n",
       "    <tr>\n",
       "      <th>227</th>\n",
       "      <td>2021-12-01</td>\n",
       "      <td>Ilana Pomeranz</td>\n",
       "      <td>ilanapiano@yahoo.com|147.22</td>\n",
       "      <td>C42646</td>\n",
       "      <td>V</td>\n",
       "      <td>147.22</td>\n",
       "    </tr>\n",
       "  </tbody>\n",
       "</table>\n",
       "</div>"
      ],
      "text/plain": [
       "            day        customer_name                           Lookup  \\\n",
       "350  2021-12-01    Barbara Mulvihill  bmulvihill2@comcast.net|-221.25   \n",
       "349  2021-12-01    Elizabeth Quinlan        mbeeque@yahoo.com|-221.25   \n",
       "348  2021-12-01  Anita Kartalopoulos          kart7577@gmail.com|-220   \n",
       "223  2021-12-01    Susan Springfield      springfield64@gmail.com|150   \n",
       "227  2021-12-01       Ilana Pomeranz      ilanapiano@yahoo.com|147.22   \n",
       "\n",
       "    order_name credit_card_type  total_payments  \n",
       "350     C41481                A         -221.25  \n",
       "349     C39807                M         -221.25  \n",
       "348     C41362                A         -220.00  \n",
       "223     C42662                V          150.00  \n",
       "227     C42646                V          147.22  "
      ]
     },
     "execution_count": 10,
     "metadata": {},
     "output_type": "execute_result"
    }
   ],
   "source": [
    "Data_BT.head()"
   ]
  },
  {
   "cell_type": "code",
   "execution_count": 11,
   "id": "4f5b54aa",
   "metadata": {},
   "outputs": [
    {
     "data": {
      "text/html": [
       "<div>\n",
       "<style scoped>\n",
       "    .dataframe tbody tr th:only-of-type {\n",
       "        vertical-align: middle;\n",
       "    }\n",
       "\n",
       "    .dataframe tbody tr th {\n",
       "        vertical-align: top;\n",
       "    }\n",
       "\n",
       "    .dataframe thead th {\n",
       "        text-align: right;\n",
       "    }\n",
       "</style>\n",
       "<table border=\"1\" class=\"dataframe\">\n",
       "  <thead>\n",
       "    <tr style=\"text-align: right;\">\n",
       "      <th></th>\n",
       "      <th>day</th>\n",
       "      <th>customer_name</th>\n",
       "      <th>Lookup</th>\n",
       "      <th>order_name</th>\n",
       "      <th>credit_card_type</th>\n",
       "      <th>total_payments</th>\n",
       "    </tr>\n",
       "  </thead>\n",
       "  <tbody>\n",
       "    <tr>\n",
       "      <th>350</th>\n",
       "      <td>2021-12-01</td>\n",
       "      <td>Barbara Mulvihill</td>\n",
       "      <td>bmulvihill2@comcast.net|-221.25</td>\n",
       "      <td>C41481</td>\n",
       "      <td>A</td>\n",
       "      <td>-221.25</td>\n",
       "    </tr>\n",
       "    <tr>\n",
       "      <th>356</th>\n",
       "      <td>2021-12-01</td>\n",
       "      <td>Catherine Christ</td>\n",
       "      <td>gatoula@cox.net|-240</td>\n",
       "      <td>C41517</td>\n",
       "      <td>V</td>\n",
       "      <td>-240.00</td>\n",
       "    </tr>\n",
       "    <tr>\n",
       "      <th>79</th>\n",
       "      <td>2021-12-01</td>\n",
       "      <td>LeAnn Chen</td>\n",
       "      <td>lichenbing@hotmail.com|337.7</td>\n",
       "      <td>C42668</td>\n",
       "      <td>V</td>\n",
       "      <td>337.70</td>\n",
       "    </tr>\n",
       "    <tr>\n",
       "      <th>183</th>\n",
       "      <td>2021-12-01</td>\n",
       "      <td>Linda Chezem</td>\n",
       "      <td>lchezem@aol.com|185.98</td>\n",
       "      <td>C42531</td>\n",
       "      <td>V</td>\n",
       "      <td>185.98</td>\n",
       "    </tr>\n",
       "    <tr>\n",
       "      <th>386</th>\n",
       "      <td>2021-12-01</td>\n",
       "      <td>Judith Golenberg</td>\n",
       "      <td>nanajudyoc@gmail.com|-488</td>\n",
       "      <td>C41792</td>\n",
       "      <td>V</td>\n",
       "      <td>-488.00</td>\n",
       "    </tr>\n",
       "    <tr>\n",
       "      <th>...</th>\n",
       "      <td>...</td>\n",
       "      <td>...</td>\n",
       "      <td>...</td>\n",
       "      <td>...</td>\n",
       "      <td>...</td>\n",
       "      <td>...</td>\n",
       "    </tr>\n",
       "    <tr>\n",
       "      <th>281</th>\n",
       "      <td>2021-12-08</td>\n",
       "      <td>Jennifer Nevitt</td>\n",
       "      <td>pegdemarco@earthlink.net|48.8</td>\n",
       "      <td>C42883</td>\n",
       "      <td>V</td>\n",
       "      <td>48.80</td>\n",
       "    </tr>\n",
       "    <tr>\n",
       "      <th>196</th>\n",
       "      <td>2021-12-08</td>\n",
       "      <td>Cathy Vlahos</td>\n",
       "      <td>cathyvlahos9324@me.com|175</td>\n",
       "      <td>C42923</td>\n",
       "      <td>V</td>\n",
       "      <td>175.00</td>\n",
       "    </tr>\n",
       "    <tr>\n",
       "      <th>249</th>\n",
       "      <td>2021-12-08</td>\n",
       "      <td>Marilyn Gindroz</td>\n",
       "      <td>marilynandraygindroz@mac.com|102.99</td>\n",
       "      <td>C42915</td>\n",
       "      <td>A</td>\n",
       "      <td>102.99</td>\n",
       "    </tr>\n",
       "    <tr>\n",
       "      <th>96</th>\n",
       "      <td>2021-12-08</td>\n",
       "      <td>LAQUITA  Propes</td>\n",
       "      <td>lapro33@aol.com|315</td>\n",
       "      <td>C42924</td>\n",
       "      <td>D</td>\n",
       "      <td>315.00</td>\n",
       "    </tr>\n",
       "    <tr>\n",
       "      <th>147</th>\n",
       "      <td>2021-12-08</td>\n",
       "      <td>Vickie Mooney</td>\n",
       "      <td>vmooney1@aol.com|232.5</td>\n",
       "      <td>C42899</td>\n",
       "      <td>M</td>\n",
       "      <td>232.50</td>\n",
       "    </tr>\n",
       "  </tbody>\n",
       "</table>\n",
       "<p>284 rows × 6 columns</p>\n",
       "</div>"
      ],
      "text/plain": [
       "            day      customer_name                               Lookup  \\\n",
       "350  2021-12-01  Barbara Mulvihill      bmulvihill2@comcast.net|-221.25   \n",
       "356  2021-12-01   Catherine Christ                 gatoula@cox.net|-240   \n",
       "79   2021-12-01         LeAnn Chen         lichenbing@hotmail.com|337.7   \n",
       "183  2021-12-01       Linda Chezem               lchezem@aol.com|185.98   \n",
       "386  2021-12-01   Judith Golenberg            nanajudyoc@gmail.com|-488   \n",
       "..          ...                ...                                  ...   \n",
       "281  2021-12-08    Jennifer Nevitt        pegdemarco@earthlink.net|48.8   \n",
       "196  2021-12-08       Cathy Vlahos           cathyvlahos9324@me.com|175   \n",
       "249  2021-12-08    Marilyn Gindroz  marilynandraygindroz@mac.com|102.99   \n",
       "96   2021-12-08    LAQUITA  Propes                  lapro33@aol.com|315   \n",
       "147  2021-12-08      Vickie Mooney               vmooney1@aol.com|232.5   \n",
       "\n",
       "    order_name credit_card_type  total_payments  \n",
       "350     C41481                A         -221.25  \n",
       "356     C41517                V         -240.00  \n",
       "79      C42668                V          337.70  \n",
       "183     C42531                V          185.98  \n",
       "386     C41792                V         -488.00  \n",
       "..         ...              ...             ...  \n",
       "281     C42883                V           48.80  \n",
       "196     C42923                V          175.00  \n",
       "249     C42915                A          102.99  \n",
       "96      C42924                D          315.00  \n",
       "147     C42899                M          232.50  \n",
       "\n",
       "[284 rows x 6 columns]"
      ]
     },
     "execution_count": 11,
     "metadata": {},
     "output_type": "execute_result"
    }
   ],
   "source": [
    "Data_BT.sort_values(\"day\",ascending = \"True\", inplace = False)"
   ]
  },
  {
   "cell_type": "code",
   "execution_count": 12,
   "id": "240636fa",
   "metadata": {},
   "outputs": [],
   "source": [
    "BT=BT[BT[\"Transaction Status\"]!=\"voided\"]\n",
    "BT=BT[BT[\"Transaction Status\"]!=\"processor_declined\"]"
   ]
  },
  {
   "cell_type": "code",
   "execution_count": 13,
   "id": "dac6de3c",
   "metadata": {},
   "outputs": [],
   "source": [
    "BT[\"Lookup\"]=BT[\"Customer Email\"].astype(str)+\"|\"+BT[\"Amount Submitted For Settlement\"].astype(str)"
   ]
  },
  {
   "cell_type": "code",
   "execution_count": 14,
   "id": "b4ed7449",
   "metadata": {},
   "outputs": [],
   "source": [
    "BT=BT[[\"Lookup\",\"Amount Submitted For Settlement\",\"Disbursement Date\"]]"
   ]
  },
  {
   "cell_type": "code",
   "execution_count": 15,
   "id": "0465fca6",
   "metadata": {},
   "outputs": [
    {
     "data": {
      "text/html": [
       "<div>\n",
       "<style scoped>\n",
       "    .dataframe tbody tr th:only-of-type {\n",
       "        vertical-align: middle;\n",
       "    }\n",
       "\n",
       "    .dataframe tbody tr th {\n",
       "        vertical-align: top;\n",
       "    }\n",
       "\n",
       "    .dataframe thead th {\n",
       "        text-align: right;\n",
       "    }\n",
       "</style>\n",
       "<table border=\"1\" class=\"dataframe\">\n",
       "  <thead>\n",
       "    <tr style=\"text-align: right;\">\n",
       "      <th></th>\n",
       "      <th>Lookup</th>\n",
       "      <th>Amount Submitted For Settlement</th>\n",
       "      <th>Disbursement Date</th>\n",
       "    </tr>\n",
       "  </thead>\n",
       "  <tbody>\n",
       "    <tr>\n",
       "      <th>38</th>\n",
       "      <td>j.eidsv@gmail.com|-295.0</td>\n",
       "      <td>-295.0</td>\n",
       "      <td>12/02/2021</td>\n",
       "    </tr>\n",
       "    <tr>\n",
       "      <th>95</th>\n",
       "      <td>elaine.suleski@att.net|-476.3</td>\n",
       "      <td>-476.3</td>\n",
       "      <td>12/02/2021</td>\n",
       "    </tr>\n",
       "    <tr>\n",
       "      <th>50</th>\n",
       "      <td>nanajudyoc@gmail.com|-488.0</td>\n",
       "      <td>-488.0</td>\n",
       "      <td>12/02/2021</td>\n",
       "    </tr>\n",
       "    <tr>\n",
       "      <th>52</th>\n",
       "      <td>alancst1@san.rr.com|-945.0</td>\n",
       "      <td>-945.0</td>\n",
       "      <td>12/02/2021</td>\n",
       "    </tr>\n",
       "    <tr>\n",
       "      <th>18</th>\n",
       "      <td>JANET.GRAHAM317@GMAIL.COM|-256.0</td>\n",
       "      <td>-256.0</td>\n",
       "      <td>12/02/2021</td>\n",
       "    </tr>\n",
       "  </tbody>\n",
       "</table>\n",
       "</div>"
      ],
      "text/plain": [
       "                              Lookup  Amount Submitted For Settlement  \\\n",
       "38          j.eidsv@gmail.com|-295.0                           -295.0   \n",
       "95     elaine.suleski@att.net|-476.3                           -476.3   \n",
       "50       nanajudyoc@gmail.com|-488.0                           -488.0   \n",
       "52        alancst1@san.rr.com|-945.0                           -945.0   \n",
       "18  JANET.GRAHAM317@GMAIL.COM|-256.0                           -256.0   \n",
       "\n",
       "   Disbursement Date  \n",
       "38        12/02/2021  \n",
       "95        12/02/2021  \n",
       "50        12/02/2021  \n",
       "52        12/02/2021  \n",
       "18        12/02/2021  "
      ]
     },
     "execution_count": 15,
     "metadata": {},
     "output_type": "execute_result"
    }
   ],
   "source": [
    "BT.head()"
   ]
  },
  {
   "cell_type": "code",
   "execution_count": 16,
   "id": "db9558d3",
   "metadata": {},
   "outputs": [],
   "source": [
    "BT[\"Lookup\"]=BT[\"Lookup\"].mask(BT[\"Lookup\"].str[-1]==\"0\",BT[\"Lookup\"].str[:-1])\n",
    "BT[\"Lookup\"]=BT[\"Lookup\"].mask(BT[\"Lookup\"].str[-1]==\"0\",BT[\"Lookup\"].str[:-1]) #if double 0 at end, try this\n",
    "BT[\"Lookup\"]=BT[\"Lookup\"].mask(BT[\"Lookup\"].str[-1]==\".\",BT[\"Lookup\"].str[:-1])\n",
    "BT[\"Lookup\"]=BT[\"Lookup\"].apply(lambda x:x.replace(',',''))\n",
    "BT.reset_index(inplace=True)"
   ]
  },
  {
   "cell_type": "code",
   "execution_count": 17,
   "id": "78981b75",
   "metadata": {},
   "outputs": [],
   "source": [
    "#Data_BT.to_csv(\"C://Users//shawnhe//Desktop//BT_Left.csv\",index=False)\n",
    "#BT.to_csv(\"C://Users//shawnhe//Desktop//BT_Right.csv\",index=False)"
   ]
  },
  {
   "cell_type": "code",
   "execution_count": 18,
   "id": "41eba530",
   "metadata": {},
   "outputs": [],
   "source": [
    "BT_Disbursement = BT_Disbursement[BT_Disbursement[\"Card Type\"]==\"Total\"]"
   ]
  },
  {
   "cell_type": "code",
   "execution_count": 19,
   "id": "2e22f2cb",
   "metadata": {},
   "outputs": [],
   "source": [
    "BT_Disbursement = BT_Disbursement[[\"Disbursement Date\",\"Total Amount\"]]\n",
    "BT_Disbursement.reset_index(inplace=True)"
   ]
  },
  {
   "cell_type": "code",
   "execution_count": 20,
   "id": "36e40b91",
   "metadata": {},
   "outputs": [],
   "source": [
    "BT = pd.concat([BT,BT_Disbursement],axis = 1)\n",
    "BT=BT.drop(\"index\",axis=1)"
   ]
  },
  {
   "cell_type": "code",
   "execution_count": null,
   "id": "3d3d2823",
   "metadata": {},
   "outputs": [],
   "source": []
  },
  {
   "cell_type": "code",
   "execution_count": 21,
   "id": "c66db460",
   "metadata": {},
   "outputs": [
    {
     "data": {
      "text/plain": [
       "0               j.eidsv@gmail.com|-295\n",
       "1        elaine.suleski@att.net|-476.3\n",
       "2            nanajudyoc@gmail.com|-488\n",
       "3             alancst1@san.rr.com|-945\n",
       "4       JANET.GRAHAM317@GMAIL.COM|-256\n",
       "                    ...               \n",
       "198           nassrint55@gmail.com|236\n",
       "199    marshamockabee723@gmail.com|200\n",
       "200             joantrav@gmail.com|292\n",
       "201       anneburleigh@outlook.com|275\n",
       "202           sdew@deseretmgt.com|-515\n",
       "Name: Lookup, Length: 203, dtype: object"
      ]
     },
     "execution_count": 21,
     "metadata": {},
     "output_type": "execute_result"
    }
   ],
   "source": [
    "BT[\"Lookup\"]"
   ]
  },
  {
   "cell_type": "markdown",
   "id": "e6967e8a",
   "metadata": {},
   "source": [
    "## PayPal"
   ]
  },
  {
   "cell_type": "code",
   "execution_count": 22,
   "id": "8b12261f",
   "metadata": {},
   "outputs": [
    {
     "data": {
      "text/html": [
       "<div>\n",
       "<style scoped>\n",
       "    .dataframe tbody tr th:only-of-type {\n",
       "        vertical-align: middle;\n",
       "    }\n",
       "\n",
       "    .dataframe tbody tr th {\n",
       "        vertical-align: top;\n",
       "    }\n",
       "\n",
       "    .dataframe thead th {\n",
       "        text-align: right;\n",
       "    }\n",
       "</style>\n",
       "<table border=\"1\" class=\"dataframe\">\n",
       "  <thead>\n",
       "    <tr style=\"text-align: right;\">\n",
       "      <th></th>\n",
       "      <th>day</th>\n",
       "      <th>customer_name</th>\n",
       "      <th>order_name</th>\n",
       "      <th>customer_email</th>\n",
       "      <th>total_payments</th>\n",
       "    </tr>\n",
       "  </thead>\n",
       "  <tbody>\n",
       "    <tr>\n",
       "      <th>72</th>\n",
       "      <td>2021-12-01</td>\n",
       "      <td>Faye Glick</td>\n",
       "      <td>C42654</td>\n",
       "      <td>glick2@roadrunner.com</td>\n",
       "      <td>352.00</td>\n",
       "    </tr>\n",
       "    <tr>\n",
       "      <th>231</th>\n",
       "      <td>2021-12-01</td>\n",
       "      <td>Tiffany James</td>\n",
       "      <td>C42667</td>\n",
       "      <td>tiffanyj@undercoverwear.com</td>\n",
       "      <td>140.00</td>\n",
       "    </tr>\n",
       "    <tr>\n",
       "      <th>233</th>\n",
       "      <td>2021-12-01</td>\n",
       "      <td>Greg Smith</td>\n",
       "      <td>C42652</td>\n",
       "      <td>porkchop_4@yahoo.com</td>\n",
       "      <td>140.00</td>\n",
       "    </tr>\n",
       "    <tr>\n",
       "      <th>70</th>\n",
       "      <td>2021-12-01</td>\n",
       "      <td>Teresa Figueroa</td>\n",
       "      <td>C42660</td>\n",
       "      <td>docandteresa@aol.com</td>\n",
       "      <td>356.00</td>\n",
       "    </tr>\n",
       "    <tr>\n",
       "      <th>299</th>\n",
       "      <td>2021-12-01</td>\n",
       "      <td>Beth Hetzel</td>\n",
       "      <td>C41670</td>\n",
       "      <td>kodacarr@me.com</td>\n",
       "      <td>-96.99</td>\n",
       "    </tr>\n",
       "    <tr>\n",
       "      <th>...</th>\n",
       "      <td>...</td>\n",
       "      <td>...</td>\n",
       "      <td>...</td>\n",
       "      <td>...</td>\n",
       "      <td>...</td>\n",
       "    </tr>\n",
       "    <tr>\n",
       "      <th>25</th>\n",
       "      <td>2021-12-08</td>\n",
       "      <td>Kathryn Willians</td>\n",
       "      <td>C42902</td>\n",
       "      <td>kayw22@sbcglobal.net</td>\n",
       "      <td>546.66</td>\n",
       "    </tr>\n",
       "    <tr>\n",
       "      <th>26</th>\n",
       "      <td>2021-12-08</td>\n",
       "      <td>Linda Flynn</td>\n",
       "      <td>C42830</td>\n",
       "      <td>lillaflynn@gmail.com</td>\n",
       "      <td>535.00</td>\n",
       "    </tr>\n",
       "    <tr>\n",
       "      <th>47</th>\n",
       "      <td>2021-12-08</td>\n",
       "      <td>Deborah Bates</td>\n",
       "      <td>C42903</td>\n",
       "      <td>Djbmd76@gmail.com</td>\n",
       "      <td>440.00</td>\n",
       "    </tr>\n",
       "    <tr>\n",
       "      <th>392</th>\n",
       "      <td>2021-12-08</td>\n",
       "      <td>Natausha White</td>\n",
       "      <td>C40020</td>\n",
       "      <td>natausha.white@gmail.com</td>\n",
       "      <td>-560.00</td>\n",
       "    </tr>\n",
       "    <tr>\n",
       "      <th>225</th>\n",
       "      <td>2021-12-08</td>\n",
       "      <td>T. M. House</td>\n",
       "      <td>C42876</td>\n",
       "      <td>theresa1908@gmail.com</td>\n",
       "      <td>148.00</td>\n",
       "    </tr>\n",
       "  </tbody>\n",
       "</table>\n",
       "<p>95 rows × 5 columns</p>\n",
       "</div>"
      ],
      "text/plain": [
       "            day     customer_name order_name               customer_email  \\\n",
       "72   2021-12-01        Faye Glick     C42654        glick2@roadrunner.com   \n",
       "231  2021-12-01     Tiffany James     C42667  tiffanyj@undercoverwear.com   \n",
       "233  2021-12-01        Greg Smith     C42652         porkchop_4@yahoo.com   \n",
       "70   2021-12-01   Teresa Figueroa     C42660         docandteresa@aol.com   \n",
       "299  2021-12-01       Beth Hetzel     C41670              kodacarr@me.com   \n",
       "..          ...               ...        ...                          ...   \n",
       "25   2021-12-08  Kathryn Willians     C42902         kayw22@sbcglobal.net   \n",
       "26   2021-12-08       Linda Flynn     C42830         lillaflynn@gmail.com   \n",
       "47   2021-12-08     Deborah Bates     C42903            Djbmd76@gmail.com   \n",
       "392  2021-12-08    Natausha White     C40020     natausha.white@gmail.com   \n",
       "225  2021-12-08       T. M. House     C42876        theresa1908@gmail.com   \n",
       "\n",
       "     total_payments  \n",
       "72           352.00  \n",
       "231          140.00  \n",
       "233          140.00  \n",
       "70           356.00  \n",
       "299          -96.99  \n",
       "..              ...  \n",
       "25           546.66  \n",
       "26           535.00  \n",
       "47           440.00  \n",
       "392         -560.00  \n",
       "225          148.00  \n",
       "\n",
       "[95 rows x 5 columns]"
      ]
     },
     "execution_count": 22,
     "metadata": {},
     "output_type": "execute_result"
    }
   ],
   "source": [
    "Data_PP=Data[Data[\"payment_method\"]==\"PayPal Payments Standard\"]\n",
    "\n",
    "Data_PP=Data_PP[[\"day\",\"customer_name\",\"order_name\",\"customer_email\",\"total_payments\"]]\n",
    "\n",
    "Data_PP.sort_values(\"day\",ascending = \"True\", inplace = False)"
   ]
  },
  {
   "cell_type": "code",
   "execution_count": 23,
   "id": "c4df757b",
   "metadata": {},
   "outputs": [
    {
     "data": {
      "text/html": [
       "<div>\n",
       "<style scoped>\n",
       "    .dataframe tbody tr th:only-of-type {\n",
       "        vertical-align: middle;\n",
       "    }\n",
       "\n",
       "    .dataframe tbody tr th {\n",
       "        vertical-align: top;\n",
       "    }\n",
       "\n",
       "    .dataframe thead th {\n",
       "        text-align: right;\n",
       "    }\n",
       "</style>\n",
       "<table border=\"1\" class=\"dataframe\">\n",
       "  <thead>\n",
       "    <tr style=\"text-align: right;\">\n",
       "      <th></th>\n",
       "      <th>day</th>\n",
       "      <th>customer_name</th>\n",
       "      <th>order_name</th>\n",
       "      <th>customer_email</th>\n",
       "      <th>total_payments</th>\n",
       "    </tr>\n",
       "  </thead>\n",
       "  <tbody>\n",
       "    <tr>\n",
       "      <th>72</th>\n",
       "      <td>2021-12-01</td>\n",
       "      <td>Faye Glick</td>\n",
       "      <td>C42654</td>\n",
       "      <td>glick2@roadrunner.com</td>\n",
       "      <td>352.0</td>\n",
       "    </tr>\n",
       "    <tr>\n",
       "      <th>231</th>\n",
       "      <td>2021-12-01</td>\n",
       "      <td>Tiffany James</td>\n",
       "      <td>C42667</td>\n",
       "      <td>tiffanyj@undercoverwear.com</td>\n",
       "      <td>140.0</td>\n",
       "    </tr>\n",
       "    <tr>\n",
       "      <th>233</th>\n",
       "      <td>2021-12-01</td>\n",
       "      <td>Greg Smith</td>\n",
       "      <td>C42652</td>\n",
       "      <td>porkchop_4@yahoo.com</td>\n",
       "      <td>140.0</td>\n",
       "    </tr>\n",
       "    <tr>\n",
       "      <th>70</th>\n",
       "      <td>2021-12-01</td>\n",
       "      <td>Teresa Figueroa</td>\n",
       "      <td>C42660</td>\n",
       "      <td>docandteresa@aol.com</td>\n",
       "      <td>356.0</td>\n",
       "    </tr>\n",
       "    <tr>\n",
       "      <th>299</th>\n",
       "      <td>2021-12-01</td>\n",
       "      <td>Beth Hetzel</td>\n",
       "      <td>C41670</td>\n",
       "      <td>kodacarr@me.com</td>\n",
       "      <td>-96.99</td>\n",
       "    </tr>\n",
       "    <tr>\n",
       "      <th>...</th>\n",
       "      <td>...</td>\n",
       "      <td>...</td>\n",
       "      <td>...</td>\n",
       "      <td>...</td>\n",
       "      <td>...</td>\n",
       "    </tr>\n",
       "    <tr>\n",
       "      <th>316</th>\n",
       "      <td>2021-12-08</td>\n",
       "      <td>Diane Hartt</td>\n",
       "      <td>C41631</td>\n",
       "      <td>ddhartt@gmail.com</td>\n",
       "      <td>-148.0</td>\n",
       "    </tr>\n",
       "    <tr>\n",
       "      <th>37</th>\n",
       "      <td>2021-12-08</td>\n",
       "      <td>Cynthia S. Bengier</td>\n",
       "      <td>C42940</td>\n",
       "      <td>bengierc@mindspring.com</td>\n",
       "      <td>455.0</td>\n",
       "    </tr>\n",
       "    <tr>\n",
       "      <th>343</th>\n",
       "      <td>2021-12-08</td>\n",
       "      <td>Carrie Conaway</td>\n",
       "      <td>C41398</td>\n",
       "      <td>carrie@virtualmax.com</td>\n",
       "      <td>-210.99</td>\n",
       "    </tr>\n",
       "    <tr>\n",
       "      <th>47</th>\n",
       "      <td>2021-12-08</td>\n",
       "      <td>Deborah Bates</td>\n",
       "      <td>C42903</td>\n",
       "      <td>Djbmd76@gmail.com</td>\n",
       "      <td>440.0</td>\n",
       "    </tr>\n",
       "    <tr>\n",
       "      <th>225</th>\n",
       "      <td>2021-12-08</td>\n",
       "      <td>T. M. House</td>\n",
       "      <td>C42876</td>\n",
       "      <td>theresa1908@gmail.com</td>\n",
       "      <td>148.0</td>\n",
       "    </tr>\n",
       "  </tbody>\n",
       "</table>\n",
       "<p>95 rows × 5 columns</p>\n",
       "</div>"
      ],
      "text/plain": [
       "            day       customer_name order_name               customer_email  \\\n",
       "72   2021-12-01          Faye Glick     C42654        glick2@roadrunner.com   \n",
       "231  2021-12-01       Tiffany James     C42667  tiffanyj@undercoverwear.com   \n",
       "233  2021-12-01          Greg Smith     C42652         porkchop_4@yahoo.com   \n",
       "70   2021-12-01     Teresa Figueroa     C42660         docandteresa@aol.com   \n",
       "299  2021-12-01         Beth Hetzel     C41670              kodacarr@me.com   \n",
       "..          ...                 ...        ...                          ...   \n",
       "316  2021-12-08         Diane Hartt     C41631            ddhartt@gmail.com   \n",
       "37   2021-12-08  Cynthia S. Bengier     C42940      bengierc@mindspring.com   \n",
       "343  2021-12-08      Carrie Conaway     C41398        carrie@virtualmax.com   \n",
       "47   2021-12-08       Deborah Bates     C42903            Djbmd76@gmail.com   \n",
       "225  2021-12-08         T. M. House     C42876        theresa1908@gmail.com   \n",
       "\n",
       "    total_payments  \n",
       "72           352.0  \n",
       "231          140.0  \n",
       "233          140.0  \n",
       "70           356.0  \n",
       "299         -96.99  \n",
       "..             ...  \n",
       "316         -148.0  \n",
       "37           455.0  \n",
       "343        -210.99  \n",
       "47           440.0  \n",
       "225          148.0  \n",
       "\n",
       "[95 rows x 5 columns]"
      ]
     },
     "execution_count": 23,
     "metadata": {},
     "output_type": "execute_result"
    }
   ],
   "source": [
    "Data_PP[\"total_payments\"]=Data_PP[\"total_payments\"].astype(str)\n",
    "Data_PP"
   ]
  },
  {
   "cell_type": "code",
   "execution_count": 24,
   "id": "373336b4",
   "metadata": {},
   "outputs": [],
   "source": [
    "Data_PP[\"Lookup\"]=Data_PP[\"customer_email\"]+\"|\"+Data_PP[\"total_payments\"]\n",
    "Data_PP=Data_PP[[\"day\",\"customer_name\",\"Lookup\",\"order_name\",\"total_payments\"]]\n",
    "#Data_PP[\"Lookup\"]=Data_PP[\"Lookup\"].mask(Data_PP[\"Lookup\"].str[-1]==\"0\",Data_PP[\"Lookup\"].str[:-1]) // MW \n",
    "#Data_PP[\"Lookup\"]=Data_PP[\"Lookup\"].mask(Data_PP[\"Lookup\"].str[-1]==\".\",Data_PP[\"Lookup\"].str[:-1])\n",
    "#Data_PP.to_csv(\"C://Users//shawnhe//Desktop//PP_Data_Left.csv\",index=False)"
   ]
  },
  {
   "cell_type": "code",
   "execution_count": 25,
   "id": "39ff0e98",
   "metadata": {},
   "outputs": [
    {
     "data": {
      "text/html": [
       "<div>\n",
       "<style scoped>\n",
       "    .dataframe tbody tr th:only-of-type {\n",
       "        vertical-align: middle;\n",
       "    }\n",
       "\n",
       "    .dataframe tbody tr th {\n",
       "        vertical-align: top;\n",
       "    }\n",
       "\n",
       "    .dataframe thead th {\n",
       "        text-align: right;\n",
       "    }\n",
       "</style>\n",
       "<table border=\"1\" class=\"dataframe\">\n",
       "  <thead>\n",
       "    <tr style=\"text-align: right;\">\n",
       "      <th></th>\n",
       "      <th>day</th>\n",
       "      <th>customer_name</th>\n",
       "      <th>Lookup</th>\n",
       "      <th>order_name</th>\n",
       "      <th>total_payments</th>\n",
       "    </tr>\n",
       "  </thead>\n",
       "  <tbody>\n",
       "    <tr>\n",
       "      <th>72</th>\n",
       "      <td>2021-12-01</td>\n",
       "      <td>Faye Glick</td>\n",
       "      <td>glick2@roadrunner.com|352.0</td>\n",
       "      <td>C42654</td>\n",
       "      <td>352.0</td>\n",
       "    </tr>\n",
       "    <tr>\n",
       "      <th>231</th>\n",
       "      <td>2021-12-01</td>\n",
       "      <td>Tiffany James</td>\n",
       "      <td>tiffanyj@undercoverwear.com|140.0</td>\n",
       "      <td>C42667</td>\n",
       "      <td>140.0</td>\n",
       "    </tr>\n",
       "    <tr>\n",
       "      <th>233</th>\n",
       "      <td>2021-12-01</td>\n",
       "      <td>Greg Smith</td>\n",
       "      <td>porkchop_4@yahoo.com|140.0</td>\n",
       "      <td>C42652</td>\n",
       "      <td>140.0</td>\n",
       "    </tr>\n",
       "    <tr>\n",
       "      <th>70</th>\n",
       "      <td>2021-12-01</td>\n",
       "      <td>Teresa Figueroa</td>\n",
       "      <td>docandteresa@aol.com|356.0</td>\n",
       "      <td>C42660</td>\n",
       "      <td>356.0</td>\n",
       "    </tr>\n",
       "    <tr>\n",
       "      <th>299</th>\n",
       "      <td>2021-12-01</td>\n",
       "      <td>Beth Hetzel</td>\n",
       "      <td>kodacarr@me.com|-96.99</td>\n",
       "      <td>C41670</td>\n",
       "      <td>-96.99</td>\n",
       "    </tr>\n",
       "    <tr>\n",
       "      <th>...</th>\n",
       "      <td>...</td>\n",
       "      <td>...</td>\n",
       "      <td>...</td>\n",
       "      <td>...</td>\n",
       "      <td>...</td>\n",
       "    </tr>\n",
       "    <tr>\n",
       "      <th>316</th>\n",
       "      <td>2021-12-08</td>\n",
       "      <td>Diane Hartt</td>\n",
       "      <td>ddhartt@gmail.com|-148.0</td>\n",
       "      <td>C41631</td>\n",
       "      <td>-148.0</td>\n",
       "    </tr>\n",
       "    <tr>\n",
       "      <th>37</th>\n",
       "      <td>2021-12-08</td>\n",
       "      <td>Cynthia S. Bengier</td>\n",
       "      <td>bengierc@mindspring.com|455.0</td>\n",
       "      <td>C42940</td>\n",
       "      <td>455.0</td>\n",
       "    </tr>\n",
       "    <tr>\n",
       "      <th>343</th>\n",
       "      <td>2021-12-08</td>\n",
       "      <td>Carrie Conaway</td>\n",
       "      <td>carrie@virtualmax.com|-210.99</td>\n",
       "      <td>C41398</td>\n",
       "      <td>-210.99</td>\n",
       "    </tr>\n",
       "    <tr>\n",
       "      <th>47</th>\n",
       "      <td>2021-12-08</td>\n",
       "      <td>Deborah Bates</td>\n",
       "      <td>Djbmd76@gmail.com|440.0</td>\n",
       "      <td>C42903</td>\n",
       "      <td>440.0</td>\n",
       "    </tr>\n",
       "    <tr>\n",
       "      <th>225</th>\n",
       "      <td>2021-12-08</td>\n",
       "      <td>T. M. House</td>\n",
       "      <td>theresa1908@gmail.com|148.0</td>\n",
       "      <td>C42876</td>\n",
       "      <td>148.0</td>\n",
       "    </tr>\n",
       "  </tbody>\n",
       "</table>\n",
       "<p>95 rows × 5 columns</p>\n",
       "</div>"
      ],
      "text/plain": [
       "            day       customer_name                             Lookup  \\\n",
       "72   2021-12-01          Faye Glick        glick2@roadrunner.com|352.0   \n",
       "231  2021-12-01       Tiffany James  tiffanyj@undercoverwear.com|140.0   \n",
       "233  2021-12-01          Greg Smith         porkchop_4@yahoo.com|140.0   \n",
       "70   2021-12-01     Teresa Figueroa         docandteresa@aol.com|356.0   \n",
       "299  2021-12-01         Beth Hetzel             kodacarr@me.com|-96.99   \n",
       "..          ...                 ...                                ...   \n",
       "316  2021-12-08         Diane Hartt           ddhartt@gmail.com|-148.0   \n",
       "37   2021-12-08  Cynthia S. Bengier      bengierc@mindspring.com|455.0   \n",
       "343  2021-12-08      Carrie Conaway      carrie@virtualmax.com|-210.99   \n",
       "47   2021-12-08       Deborah Bates            Djbmd76@gmail.com|440.0   \n",
       "225  2021-12-08         T. M. House        theresa1908@gmail.com|148.0   \n",
       "\n",
       "    order_name total_payments  \n",
       "72      C42654          352.0  \n",
       "231     C42667          140.0  \n",
       "233     C42652          140.0  \n",
       "70      C42660          356.0  \n",
       "299     C41670         -96.99  \n",
       "..         ...            ...  \n",
       "316     C41631         -148.0  \n",
       "37      C42940          455.0  \n",
       "343     C41398        -210.99  \n",
       "47      C42903          440.0  \n",
       "225     C42876          148.0  \n",
       "\n",
       "[95 rows x 5 columns]"
      ]
     },
     "execution_count": 25,
     "metadata": {},
     "output_type": "execute_result"
    }
   ],
   "source": [
    "Data_PP"
   ]
  },
  {
   "cell_type": "code",
   "execution_count": 26,
   "id": "3ca67657",
   "metadata": {},
   "outputs": [],
   "source": [
    "PP=PP[PP[\"Type\"]!=\"General Authorization\"]\n",
    "PP=PP[PP[\"Type\"]!=\"General Withdrawal\"]\n",
    "PP=PP[PP[\"Type\"]!=\"Void of Authorization\"]"
   ]
  },
  {
   "cell_type": "code",
   "execution_count": 27,
   "id": "abad2785",
   "metadata": {},
   "outputs": [],
   "source": [
    "PP[\"Lookup\"]=np.where((PP[\"Type\"]==\"Payment Refund\")|(PP[\"Type\"]==\"Hold on Balance for Dispute Investigation\"),PP[\"To Email Address\"]+\"|\"+PP[\"Gross\"].astype(str),PP[\"From Email Address\"]+\"|\"+PP[\"Gross\"].astype(str))"
   ]
  },
  {
   "cell_type": "code",
   "execution_count": 28,
   "id": "352e6151",
   "metadata": {},
   "outputs": [],
   "source": [
    "PP[\"Lookup\"]=PP[\"Lookup\"].mask(PP[\"Lookup\"].str[-1]==\"0\",PP[\"Lookup\"].str[:-1])\n",
    "\n",
    "PP[\"Lookup\"]=PP[\"Lookup\"].mask(PP[\"Lookup\"].str[-1]==\".\",PP[\"Lookup\"].str[:-1])"
   ]
  },
  {
   "cell_type": "code",
   "execution_count": 29,
   "id": "6dbccf64",
   "metadata": {},
   "outputs": [
    {
     "data": {
      "text/plain": [
       "2               kodacarr@me.com|-96.99\n",
       "3           porkchop_4@yahoo.com|140.0\n",
       "5      nancygallimore@icloud.com|215.0\n",
       "7          glick2@roadrunner.com|352.0\n",
       "9         nrjbulldog@comcast.net|195.0\n",
       "                    ...               \n",
       "240       epolston1@verizon.net|-250.0\n",
       "241          ddhartt@gmail.com|-138.75\n",
       "242           ddhartt@gmail.com|-148.0\n",
       "249        pmsoldano@gmail.com|-370.99\n",
       "253      syarmstrong@comcast.net|268.0\n",
       "Name: Lookup, Length: 97, dtype: object"
      ]
     },
     "execution_count": 29,
     "metadata": {},
     "output_type": "execute_result"
    }
   ],
   "source": [
    "PP[\"Lookup\"]=PP[\"Lookup\"].apply(lambda x:x.replace(',',''))\n",
    "PP[\"Lookup\"]"
   ]
  },
  {
   "cell_type": "code",
   "execution_count": 30,
   "id": "e54c35b5",
   "metadata": {},
   "outputs": [],
   "source": [
    "date_format = \"%m/%d/%Y\"\n",
    "PP[\"Date\"]=PP[\"Date\"].apply(lambda x : datetime.strptime(x, date_format))"
   ]
  },
  {
   "cell_type": "code",
   "execution_count": 31,
   "id": "121c933f",
   "metadata": {},
   "outputs": [],
   "source": [
    "PP[\"Lookup_1\"]=(PP[\"Date\"].apply(lambda x: (x-datetime.strptime(\"01/01/1900\", date_format)).days+2)).astype(str)+\"|\"+PP[\"Gross\"].astype(str)"
   ]
  },
  {
   "cell_type": "code",
   "execution_count": 32,
   "id": "1911ae0e",
   "metadata": {},
   "outputs": [
    {
     "data": {
      "text/plain": [
       "2    44531|-96.99\n",
       "3    44531|140.00\n",
       "5    44531|215.00\n",
       "7    44531|352.00\n",
       "9    44531|195.00\n",
       "Name: Lookup_1, dtype: object"
      ]
     },
     "execution_count": 32,
     "metadata": {},
     "output_type": "execute_result"
    }
   ],
   "source": [
    "PP[\"Lookup_1\"].head()"
   ]
  },
  {
   "cell_type": "code",
   "execution_count": 33,
   "id": "a927e0f1",
   "metadata": {},
   "outputs": [],
   "source": [
    "PP=PP[[\"Date\",\"Lookup\",\"Lookup_1\",\"Net\"]]"
   ]
  },
  {
   "cell_type": "code",
   "execution_count": 34,
   "id": "b636efae",
   "metadata": {},
   "outputs": [
    {
     "data": {
      "text/html": [
       "<div>\n",
       "<style scoped>\n",
       "    .dataframe tbody tr th:only-of-type {\n",
       "        vertical-align: middle;\n",
       "    }\n",
       "\n",
       "    .dataframe tbody tr th {\n",
       "        vertical-align: top;\n",
       "    }\n",
       "\n",
       "    .dataframe thead th {\n",
       "        text-align: right;\n",
       "    }\n",
       "</style>\n",
       "<table border=\"1\" class=\"dataframe\">\n",
       "  <thead>\n",
       "    <tr style=\"text-align: right;\">\n",
       "      <th></th>\n",
       "      <th>Date</th>\n",
       "      <th>Lookup</th>\n",
       "      <th>Lookup_1</th>\n",
       "      <th>Net</th>\n",
       "    </tr>\n",
       "  </thead>\n",
       "  <tbody>\n",
       "    <tr>\n",
       "      <th>2</th>\n",
       "      <td>2021-12-01</td>\n",
       "      <td>kodacarr@me.com|-96.99</td>\n",
       "      <td>44531|-96.99</td>\n",
       "      <td>-94.47</td>\n",
       "    </tr>\n",
       "    <tr>\n",
       "      <th>3</th>\n",
       "      <td>2021-12-01</td>\n",
       "      <td>porkchop_4@yahoo.com|140.0</td>\n",
       "      <td>44531|140.00</td>\n",
       "      <td>136.06</td>\n",
       "    </tr>\n",
       "    <tr>\n",
       "      <th>5</th>\n",
       "      <td>2021-12-01</td>\n",
       "      <td>nancygallimore@icloud.com|215.0</td>\n",
       "      <td>44531|215.00</td>\n",
       "      <td>209.11</td>\n",
       "    </tr>\n",
       "    <tr>\n",
       "      <th>7</th>\n",
       "      <td>2021-12-01</td>\n",
       "      <td>glick2@roadrunner.com|352.0</td>\n",
       "      <td>44531|352.00</td>\n",
       "      <td>342.55</td>\n",
       "    </tr>\n",
       "    <tr>\n",
       "      <th>9</th>\n",
       "      <td>2021-12-01</td>\n",
       "      <td>nrjbulldog@comcast.net|195.0</td>\n",
       "      <td>44531|195.00</td>\n",
       "      <td>189.63</td>\n",
       "    </tr>\n",
       "    <tr>\n",
       "      <th>...</th>\n",
       "      <td>...</td>\n",
       "      <td>...</td>\n",
       "      <td>...</td>\n",
       "      <td>...</td>\n",
       "    </tr>\n",
       "    <tr>\n",
       "      <th>240</th>\n",
       "      <td>2021-12-08</td>\n",
       "      <td>epolston1@verizon.net|-250.0</td>\n",
       "      <td>44538|-250.00</td>\n",
       "      <td>-243.50</td>\n",
       "    </tr>\n",
       "    <tr>\n",
       "      <th>241</th>\n",
       "      <td>2021-12-08</td>\n",
       "      <td>ddhartt@gmail.com|-138.75</td>\n",
       "      <td>44538|-138.75</td>\n",
       "      <td>-135.14</td>\n",
       "    </tr>\n",
       "    <tr>\n",
       "      <th>242</th>\n",
       "      <td>2021-12-08</td>\n",
       "      <td>ddhartt@gmail.com|-148.0</td>\n",
       "      <td>44538|-148.00</td>\n",
       "      <td>-144.15</td>\n",
       "    </tr>\n",
       "    <tr>\n",
       "      <th>249</th>\n",
       "      <td>2021-12-09</td>\n",
       "      <td>pmsoldano@gmail.com|-370.99</td>\n",
       "      <td>44539|-370.99</td>\n",
       "      <td>-361.34</td>\n",
       "    </tr>\n",
       "    <tr>\n",
       "      <th>253</th>\n",
       "      <td>2021-12-09</td>\n",
       "      <td>syarmstrong@comcast.net|268.0</td>\n",
       "      <td>44539|268.00</td>\n",
       "      <td>260.73</td>\n",
       "    </tr>\n",
       "  </tbody>\n",
       "</table>\n",
       "<p>97 rows × 4 columns</p>\n",
       "</div>"
      ],
      "text/plain": [
       "          Date                           Lookup       Lookup_1      Net\n",
       "2   2021-12-01           kodacarr@me.com|-96.99   44531|-96.99   -94.47\n",
       "3   2021-12-01       porkchop_4@yahoo.com|140.0   44531|140.00   136.06\n",
       "5   2021-12-01  nancygallimore@icloud.com|215.0   44531|215.00   209.11\n",
       "7   2021-12-01      glick2@roadrunner.com|352.0   44531|352.00   342.55\n",
       "9   2021-12-01     nrjbulldog@comcast.net|195.0   44531|195.00   189.63\n",
       "..         ...                              ...            ...      ...\n",
       "240 2021-12-08     epolston1@verizon.net|-250.0  44538|-250.00  -243.50\n",
       "241 2021-12-08        ddhartt@gmail.com|-138.75  44538|-138.75  -135.14\n",
       "242 2021-12-08         ddhartt@gmail.com|-148.0  44538|-148.00  -144.15\n",
       "249 2021-12-09      pmsoldano@gmail.com|-370.99  44539|-370.99  -361.34\n",
       "253 2021-12-09    syarmstrong@comcast.net|268.0   44539|268.00   260.73\n",
       "\n",
       "[97 rows x 4 columns]"
      ]
     },
     "execution_count": 34,
     "metadata": {},
     "output_type": "execute_result"
    }
   ],
   "source": [
    "PP"
   ]
  },
  {
   "cell_type": "code",
   "execution_count": 35,
   "id": "d70d395e",
   "metadata": {
    "scrolled": true
   },
   "outputs": [
    {
     "data": {
      "text/plain": [
       "2       44531|-96.99\n",
       "3          44531|140\n",
       "5          44531|215\n",
       "7          44531|352\n",
       "9          44531|195\n",
       "           ...      \n",
       "240       44538|-250\n",
       "241    44538|-138.75\n",
       "242       44538|-148\n",
       "249    44539|-370.99\n",
       "253        44539|268\n",
       "Name: Lookup_1, Length: 97, dtype: object"
      ]
     },
     "execution_count": 35,
     "metadata": {},
     "output_type": "execute_result"
    }
   ],
   "source": [
    "PP[\"Lookup_1\"]=PP[\"Lookup_1\"].mask(PP[\"Lookup_1\"].str[-1]==\"0\",PP[\"Lookup_1\"].str[:-1])\n",
    "PP[\"Lookup_1\"]=PP[\"Lookup_1\"].mask(PP[\"Lookup_1\"].str[-1]==\"0\",PP[\"Lookup_1\"].str[:-1])\n",
    "PP[\"Lookup_1\"]=PP[\"Lookup_1\"].mask(PP[\"Lookup_1\"].str[-1]==\".\",PP[\"Lookup_1\"].str[:-1])\n",
    "PP[\"Lookup_1\"]=PP[\"Lookup_1\"].apply(lambda x:x.replace(',',''))\n",
    "PP[\"Lookup_1\"]"
   ]
  },
  {
   "cell_type": "markdown",
   "id": "74196823",
   "metadata": {},
   "source": [
    "## Amazon Pay"
   ]
  },
  {
   "cell_type": "code",
   "execution_count": 36,
   "id": "a7a559fd",
   "metadata": {},
   "outputs": [],
   "source": [
    "Data_AP=Data[Data[\"payment_method\"]==\"Amazon payments\"]\n",
    "\n",
    "Data_AP=Data_AP[[\"day\",\"customer_name\",\"order_name\",\"customer_email\",\"total_payments\"]]"
   ]
  },
  {
   "cell_type": "code",
   "execution_count": 37,
   "id": "2eafa666",
   "metadata": {},
   "outputs": [
    {
     "data": {
      "text/plain": [
       "81     2021-12-01\n",
       "318    2021-12-01\n",
       "347    2021-12-01\n",
       "361    2021-12-01\n",
       "145    2021-12-02\n",
       "362    2021-12-02\n",
       "339    2021-12-02\n",
       "184    2021-12-03\n",
       "394    2021-12-03\n",
       "217    2021-12-03\n",
       "319    2021-12-06\n",
       "325    2021-12-06\n",
       "273    2021-12-06\n",
       "197    2021-12-06\n",
       "248    2021-12-07\n",
       "202    2021-12-07\n",
       "190    2021-12-08\n",
       "73     2021-12-08\n",
       "267    2021-12-08\n",
       "Name: day, dtype: object"
      ]
     },
     "execution_count": 37,
     "metadata": {},
     "output_type": "execute_result"
    }
   ],
   "source": [
    "Data_AP[\"day\"]"
   ]
  },
  {
   "cell_type": "code",
   "execution_count": 38,
   "id": "f7d495f8",
   "metadata": {},
   "outputs": [],
   "source": [
    "date_format = \"%Y-%m-%d\"\n",
    "Data_AP[\"day\"]=Data_AP[\"day\"].apply(lambda x : datetime.strptime(x, date_format))"
   ]
  },
  {
   "cell_type": "code",
   "execution_count": 39,
   "id": "64050ddd",
   "metadata": {},
   "outputs": [],
   "source": [
    "Data_AP[\"Lookup_1\"]=(Data_AP[\"day\"].apply(lambda x: (x-datetime.strptime(\"1900-01-01\", date_format)).days+2)).astype(str)+\"|\"+Data_AP[\"total_payments\"].astype(str)"
   ]
  },
  {
   "cell_type": "code",
   "execution_count": 40,
   "id": "bbc4c2e7",
   "metadata": {},
   "outputs": [
    {
     "data": {
      "text/plain": [
       "81       44531|332.0\n",
       "318    44531|-151.55\n",
       "347     44531|-215.0\n",
       "361     44531|-265.0\n",
       "145     44532|235.98\n",
       "362     44532|-265.0\n",
       "339     44532|-200.0\n",
       "184      44533|185.0\n",
       "394     44533|-612.0\n",
       "217     44533|151.55\n",
       "319     44536|-156.0\n",
       "325     44536|-175.0\n",
       "273       44536|60.0\n",
       "197      44536|175.0\n",
       "248     44537|107.99\n",
       "202      44537|168.0\n",
       "190     44538|181.98\n",
       "73      44538|350.99\n",
       "267      44538|73.99\n",
       "Name: Lookup_1, dtype: object"
      ]
     },
     "execution_count": 40,
     "metadata": {},
     "output_type": "execute_result"
    }
   ],
   "source": [
    "Data_AP[\"Lookup_1\"]"
   ]
  },
  {
   "cell_type": "code",
   "execution_count": 41,
   "id": "d8bc21a3",
   "metadata": {
    "scrolled": true
   },
   "outputs": [
    {
     "data": {
      "text/plain": [
       "81         44531|332\n",
       "318    44531|-151.55\n",
       "347       44531|-215\n",
       "361       44531|-265\n",
       "145     44532|235.98\n",
       "362       44532|-265\n",
       "339       44532|-200\n",
       "184        44533|185\n",
       "394       44533|-612\n",
       "217     44533|151.55\n",
       "319       44536|-156\n",
       "325       44536|-175\n",
       "273         44536|60\n",
       "197        44536|175\n",
       "248     44537|107.99\n",
       "202        44537|168\n",
       "190     44538|181.98\n",
       "73      44538|350.99\n",
       "267      44538|73.99\n",
       "Name: Lookup_1, dtype: object"
      ]
     },
     "execution_count": 41,
     "metadata": {},
     "output_type": "execute_result"
    }
   ],
   "source": [
    "Data_AP[\"Lookup_1\"]=Data_AP[\"Lookup_1\"].mask(Data_AP[\"Lookup_1\"].str[-1]==\"0\",Data_AP[\"Lookup_1\"].str[:-1])\n",
    "Data_AP[\"Lookup_1\"]=Data_AP[\"Lookup_1\"].mask(Data_AP[\"Lookup_1\"].str[-1]==\".\",Data_AP[\"Lookup_1\"].str[:-1])\n",
    "Data_AP[\"Lookup_1\"]=Data_AP[\"Lookup_1\"].apply(lambda x:x.replace(',',''))\n",
    "Data_AP[\"Lookup_1\"]"
   ]
  },
  {
   "cell_type": "code",
   "execution_count": 42,
   "id": "a74c5c0a",
   "metadata": {},
   "outputs": [],
   "source": [
    "Data_AP=Data_AP[[\"day\",\"Lookup_1\",\"customer_name\",\"customer_email\",\"order_name\",\"total_payments\"]]"
   ]
  },
  {
   "cell_type": "code",
   "execution_count": 43,
   "id": "6d229dcb",
   "metadata": {},
   "outputs": [],
   "source": [
    "#Data_AP=Data_AP[[\"day\",\"Lookup_1\",\"customer_name\",\"customer_email\",\"order_name\",\"total_payments\"]]\n",
    "#Data_AP.to_csv(\"C://Users//shawnhe//Desktop//AP_Left.csv\",index=False)"
   ]
  },
  {
   "cell_type": "markdown",
   "id": "1681bb01",
   "metadata": {},
   "source": [
    "AP=AP[[\"TransactionPostedDate\",\"SettlementId\",\"TransactionType\",\"TransactionAmount\",\"NetTransactionAmount\"]]"
   ]
  },
  {
   "cell_type": "markdown",
   "id": "1cf12351",
   "metadata": {},
   "source": [
    "AP[\"TransactionPostedDate\"]=AP[\"TransactionPostedDate\"].apply(lambda x : x[:10])"
   ]
  },
  {
   "cell_type": "markdown",
   "id": "7d653ed9",
   "metadata": {},
   "source": [
    "AP[\"TransactionPostedDate\"]"
   ]
  },
  {
   "cell_type": "markdown",
   "id": "0372853c",
   "metadata": {},
   "source": [
    "AP_1=AP[AP[\"TransactionType\"]!=\"Transfer\"]\n",
    "AP_1=AP_1[AP_1[\"TransactionType\"]!=\"Debt\"]"
   ]
  },
  {
   "cell_type": "markdown",
   "id": "87c821f6",
   "metadata": {},
   "source": [
    "AP_2 = AP[AP[\"TransactionType\"]!=\"Capture\"]\n",
    "AP_2 = AP_2[AP_2[\"TransactionType\"]!=\"Refund\"]\n",
    "AP_2 = AP_2[AP_2[\"TransactionType\"]!=\"Authorization\"]"
   ]
  },
  {
   "cell_type": "markdown",
   "id": "a776e4e9",
   "metadata": {},
   "source": [
    "AP_CAPTURE=AP_1[[\"SettlementId\",\"NetTransactionAmount\"]]"
   ]
  },
  {
   "cell_type": "markdown",
   "id": "feb66ba4",
   "metadata": {},
   "source": [
    "AP_CAPTURE[\"NetTransactionAmount\"]=AP_CAPTURE[\"NetTransactionAmount\"].apply(lambda x : x.replace(\",\",\"\"))\n",
    "AP_CAPTURE[\"NetTransactionAmount\"]=AP_CAPTURE[\"NetTransactionAmount\"].apply(lambda x : float(x))"
   ]
  },
  {
   "cell_type": "markdown",
   "id": "cac8c798",
   "metadata": {},
   "source": [
    "AP_CAPTURE=AP_CAPTURE.groupby(\"SettlementId\").sum()"
   ]
  },
  {
   "cell_type": "markdown",
   "id": "a5029d30",
   "metadata": {},
   "source": [
    "AP_2[\"SettlementId\"]=np.where(AP_CAPUTURE[\"NetTransactionAmoun\"]==AP_2[\"NetTransactionAmount\"],AP_CAPTURE[\"SettlementId\"])"
   ]
  },
  {
   "cell_type": "markdown",
   "id": "2f79a287",
   "metadata": {},
   "source": [
    "AP_2=AP_2[[\"SettlementId\",\"TransactionType\",\"TransactionPostedDate\",\"NetTransactionAmount\"]]"
   ]
  },
  {
   "cell_type": "markdown",
   "id": "d0be9daf",
   "metadata": {},
   "source": [
    "Data_AP.to_csv(\"C://Users//shawnhe//Desktop//AP_Left.csv\",index=False)\n",
    "AP_2.to_csv(\"C://Users//shawnhe//Desktop//AP_Right.csv\",index=False)"
   ]
  },
  {
   "cell_type": "markdown",
   "id": "c413ef81",
   "metadata": {},
   "source": [
    "## Klarna"
   ]
  },
  {
   "cell_type": "code",
   "execution_count": 44,
   "id": "bbe29e99",
   "metadata": {},
   "outputs": [],
   "source": [
    "kl=kl.apply(lambda x : x.str.replace('\"',''))"
   ]
  },
  {
   "cell_type": "code",
   "execution_count": 45,
   "id": "44b78fca",
   "metadata": {
    "scrolled": true
   },
   "outputs": [
    {
     "data": {
      "text/html": [
       "<div>\n",
       "<style scoped>\n",
       "    .dataframe tbody tr th:only-of-type {\n",
       "        vertical-align: middle;\n",
       "    }\n",
       "\n",
       "    .dataframe tbody tr th {\n",
       "        vertical-align: top;\n",
       "    }\n",
       "\n",
       "    .dataframe thead th {\n",
       "        text-align: right;\n",
       "    }\n",
       "</style>\n",
       "<table border=\"1\" class=\"dataframe\">\n",
       "  <thead>\n",
       "    <tr style=\"text-align: right;\">\n",
       "      <th></th>\n",
       "      <th>type;detailed_type;sale_date;capture_date;order_id;short_order_id;capture_id;merchant_reference1;merchant_reference2;merchant_capture_reference;merchant_refund_reference;amount;posting_currency;refund_id;purchase_country;shipping_address_country;tax_rate;tax_amount;initial_payment_method_type;initial_payment_method_number_of_installments;initial_payment_method_monthly_downpayments;merchant_id;settlement_currency;payment_reference;payout_date;klarna_comment;consumer_tax_rate_1;consumer_tax_amount_1;consumer_tax_rate_2;consumer_tax_amount_2;consumer_tax_rate_3;consumer_tax_amount_3;consumer_tax_rate_4;consumer_tax_amount_4</th>\n",
       "    </tr>\n",
       "  </thead>\n",
       "  <tbody>\n",
       "  </tbody>\n",
       "</table>\n",
       "</div>"
      ],
      "text/plain": [
       "Empty DataFrame\n",
       "Columns: [type;detailed_type;sale_date;capture_date;order_id;short_order_id;capture_id;merchant_reference1;merchant_reference2;merchant_capture_reference;merchant_refund_reference;amount;posting_currency;refund_id;purchase_country;shipping_address_country;tax_rate;tax_amount;initial_payment_method_type;initial_payment_method_number_of_installments;initial_payment_method_monthly_downpayments;merchant_id;settlement_currency;payment_reference;payout_date;klarna_comment;consumer_tax_rate_1;consumer_tax_amount_1;consumer_tax_rate_2;consumer_tax_amount_2;consumer_tax_rate_3;consumer_tax_amount_3;consumer_tax_rate_4;consumer_tax_amount_4]\n",
       "Index: []"
      ]
     },
     "execution_count": 45,
     "metadata": {},
     "output_type": "execute_result"
    }
   ],
   "source": [
    "kl.head()"
   ]
  },
  {
   "cell_type": "code",
   "execution_count": 46,
   "id": "7b214fcf",
   "metadata": {
    "scrolled": false
   },
   "outputs": [
    {
     "data": {
      "text/plain": [
       "Series([], Name: type;detailed_type;sale_date;capture_date;order_id;short_order_id;capture_id;merchant_reference1;merchant_reference2;merchant_capture_reference;merchant_refund_reference;amount;posting_currency;refund_id;purchase_country;shipping_address_country;tax_rate;tax_amount;initial_payment_method_type;initial_payment_method_number_of_installments;initial_payment_method_monthly_downpayments;merchant_id;settlement_currency;payment_reference;payout_date;klarna_comment;consumer_tax_rate_1;consumer_tax_amount_1;consumer_tax_rate_2;consumer_tax_amount_2;consumer_tax_rate_3;consumer_tax_amount_3;consumer_tax_rate_4;consumer_tax_amount_4, dtype: object)"
      ]
     },
     "execution_count": 46,
     "metadata": {},
     "output_type": "execute_result"
    }
   ],
   "source": [
    "kl[\"type;detailed_type;sale_date;capture_date;order_id;short_order_id;capture_id;merchant_reference1;merchant_reference2;merchant_capture_reference;merchant_refund_reference;amount;posting_currency;refund_id;purchase_country;shipping_address_country;tax_rate;tax_amount;initial_payment_method_type;initial_payment_method_number_of_installments;initial_payment_method_monthly_downpayments;merchant_id;settlement_currency;payment_reference;payout_date;klarna_comment;consumer_tax_rate_1;consumer_tax_amount_1;consumer_tax_rate_2;consumer_tax_amount_2;consumer_tax_rate_3;consumer_tax_amount_3;consumer_tax_rate_4;consumer_tax_amount_4\"]"
   ]
  },
  {
   "cell_type": "code",
   "execution_count": 47,
   "id": "7fb4397a",
   "metadata": {
    "scrolled": true
   },
   "outputs": [],
   "source": [
    "try:\n",
    "    kl[['type', 'detailed_type', 'sale_date', 'capture_date', 'order_id', 'short_order_id', 'capture_id', 'merchant_reference1', 'merchant_reference2', 'merchant_capture_reference', 'merchant_refund_reference', 'amount', 'posting_currency', 'refund_id', 'purchase_country', 'shipping_address_country', 'tax_rate', 'tax_amount', 'initial_payment_method_type', 'initial_payment_method_number_of_installments', 'initial_payment_method_monthly_downpayments', 'merchant_id', 'settlement_currency', 'payment_reference', 'payout_date', 'klarna_comment', 'consumer_tax_rate_1', 'consumer_tax_amount_1', 'consumer_tax_rate_2', 'consumer_tax_amount_2', 'consumer_tax_rate_3', 'consumer_tax_amount_3', 'consumer_tax_rate_4', 'consumer_tax_amount_4']]=kl[['type', 'detailed_type', 'sale_date', 'capture_date', 'order_id', 'short_order_id', 'capture_id', 'merchant_reference1', 'merchant_reference2', 'merchant_capture_reference', 'merchant_refund_reference', 'amount', 'posting_currency', 'refund_id', 'purchase_country', 'shipping_address_country', 'tax_rate', 'tax_amount', 'initial_payment_method_type', 'initial_payment_method_number_of_installments', 'initial_payment_method_monthly_downpayments', 'merchant_id', 'settlement_currency', 'payment_reference', 'payout_date', 'klarna_comment', 'consumer_tax_rate_1', 'consumer_tax_amount_1', 'consumer_tax_rate_2', 'consumer_tax_amount_2', 'consumer_tax_rate_3', 'consumer_tax_amount_3', 'consumer_tax_rate_4', 'consumer_tax_amount_4']]=kl[\"type;detailed_type;sale_date;capture_date;order_id;short_order_id;capture_id;merchant_reference1;merchant_reference2;merchant_capture_reference;merchant_refund_reference;amount;posting_currency;refund_id;purchase_country;shipping_address_country;tax_rate;tax_amount;initial_payment_method_type;initial_payment_method_number_of_installments;initial_payment_method_monthly_downpayments;merchant_id;settlement_currency;payment_reference;payout_date;klarna_comment;consumer_tax_rate_1;consumer_tax_amount_1;consumer_tax_rate_2;consumer_tax_amount_2;consumer_tax_rate_3;consumer_tax_amount_3;consumer_tax_rate_4;consumer_tax_amount_4\"].str.split(';',expand=True)\n",
    "except:\n",
    "    pass"
   ]
  },
  {
   "cell_type": "code",
   "execution_count": 48,
   "id": "52807896",
   "metadata": {
    "scrolled": true
   },
   "outputs": [],
   "source": [
    "kl=kl.iloc[:,1:]"
   ]
  },
  {
   "cell_type": "code",
   "execution_count": 49,
   "id": "4a384cab",
   "metadata": {},
   "outputs": [
    {
     "data": {
      "text/html": [
       "<div>\n",
       "<style scoped>\n",
       "    .dataframe tbody tr th:only-of-type {\n",
       "        vertical-align: middle;\n",
       "    }\n",
       "\n",
       "    .dataframe tbody tr th {\n",
       "        vertical-align: top;\n",
       "    }\n",
       "\n",
       "    .dataframe thead th {\n",
       "        text-align: right;\n",
       "    }\n",
       "</style>\n",
       "<table border=\"1\" class=\"dataframe\">\n",
       "  <thead>\n",
       "    <tr style=\"text-align: right;\">\n",
       "      <th></th>\n",
       "    </tr>\n",
       "  </thead>\n",
       "  <tbody>\n",
       "  </tbody>\n",
       "</table>\n",
       "</div>"
      ],
      "text/plain": [
       "Empty DataFrame\n",
       "Columns: []\n",
       "Index: []"
      ]
     },
     "execution_count": 49,
     "metadata": {},
     "output_type": "execute_result"
    }
   ],
   "source": [
    "kl"
   ]
  },
  {
   "cell_type": "code",
   "execution_count": 50,
   "id": "c9a3c300",
   "metadata": {},
   "outputs": [
    {
     "ename": "KeyError",
     "evalue": "'capture_date'",
     "output_type": "error",
     "traceback": [
      "\u001b[1;31m---------------------------------------------------------------------------\u001b[0m",
      "\u001b[1;31mKeyError\u001b[0m                                  Traceback (most recent call last)",
      "\u001b[1;32m~\\Anaconda3\\lib\\site-packages\\pandas\\core\\indexes\\base.py\u001b[0m in \u001b[0;36mget_loc\u001b[1;34m(self, key, method, tolerance)\u001b[0m\n\u001b[0;32m   3079\u001b[0m             \u001b[1;32mtry\u001b[0m\u001b[1;33m:\u001b[0m\u001b[1;33m\u001b[0m\u001b[1;33m\u001b[0m\u001b[0m\n\u001b[1;32m-> 3080\u001b[1;33m                 \u001b[1;32mreturn\u001b[0m \u001b[0mself\u001b[0m\u001b[1;33m.\u001b[0m\u001b[0m_engine\u001b[0m\u001b[1;33m.\u001b[0m\u001b[0mget_loc\u001b[0m\u001b[1;33m(\u001b[0m\u001b[0mcasted_key\u001b[0m\u001b[1;33m)\u001b[0m\u001b[1;33m\u001b[0m\u001b[1;33m\u001b[0m\u001b[0m\n\u001b[0m\u001b[0;32m   3081\u001b[0m             \u001b[1;32mexcept\u001b[0m \u001b[0mKeyError\u001b[0m \u001b[1;32mas\u001b[0m \u001b[0merr\u001b[0m\u001b[1;33m:\u001b[0m\u001b[1;33m\u001b[0m\u001b[1;33m\u001b[0m\u001b[0m\n",
      "\u001b[1;32mpandas\\_libs\\index.pyx\u001b[0m in \u001b[0;36mpandas._libs.index.IndexEngine.get_loc\u001b[1;34m()\u001b[0m\n",
      "\u001b[1;32mpandas\\_libs\\index.pyx\u001b[0m in \u001b[0;36mpandas._libs.index.IndexEngine.get_loc\u001b[1;34m()\u001b[0m\n",
      "\u001b[1;32mpandas\\_libs\\hashtable_class_helper.pxi\u001b[0m in \u001b[0;36mpandas._libs.hashtable.PyObjectHashTable.get_item\u001b[1;34m()\u001b[0m\n",
      "\u001b[1;32mpandas\\_libs\\hashtable_class_helper.pxi\u001b[0m in \u001b[0;36mpandas._libs.hashtable.PyObjectHashTable.get_item\u001b[1;34m()\u001b[0m\n",
      "\u001b[1;31mKeyError\u001b[0m: 'capture_date'",
      "\nThe above exception was the direct cause of the following exception:\n",
      "\u001b[1;31mKeyError\u001b[0m                                  Traceback (most recent call last)",
      "\u001b[1;32m<ipython-input-50-2f92086a5f46>\u001b[0m in \u001b[0;36m<module>\u001b[1;34m\u001b[0m\n\u001b[1;32m----> 1\u001b[1;33m \u001b[0mkl\u001b[0m\u001b[1;33m[\u001b[0m\u001b[1;33m[\u001b[0m\u001b[1;34m\"Date\"\u001b[0m\u001b[1;33m,\u001b[0m\u001b[1;34m\"Useless\"\u001b[0m\u001b[1;33m]\u001b[0m\u001b[1;33m]\u001b[0m\u001b[1;33m=\u001b[0m\u001b[0mkl\u001b[0m\u001b[1;33m[\u001b[0m\u001b[1;34m\"capture_date\"\u001b[0m\u001b[1;33m]\u001b[0m\u001b[1;33m.\u001b[0m\u001b[0mstr\u001b[0m\u001b[1;33m.\u001b[0m\u001b[0msplit\u001b[0m\u001b[1;33m(\u001b[0m\u001b[1;34m\"T\"\u001b[0m\u001b[1;33m,\u001b[0m\u001b[0mn\u001b[0m\u001b[1;33m=\u001b[0m\u001b[1;36m1\u001b[0m\u001b[1;33m,\u001b[0m\u001b[0mexpand\u001b[0m\u001b[1;33m=\u001b[0m\u001b[1;32mTrue\u001b[0m\u001b[1;33m)\u001b[0m\u001b[1;33m\u001b[0m\u001b[1;33m\u001b[0m\u001b[0m\n\u001b[0m\u001b[0;32m      2\u001b[0m \u001b[0mkl\u001b[0m\u001b[1;33m[\u001b[0m\u001b[1;33m[\u001b[0m\u001b[1;34m\"payout\"\u001b[0m\u001b[1;33m,\u001b[0m\u001b[1;34m\"Useless_1\"\u001b[0m\u001b[1;33m]\u001b[0m\u001b[1;33m]\u001b[0m\u001b[1;33m=\u001b[0m\u001b[0mkl\u001b[0m\u001b[1;33m[\u001b[0m\u001b[1;34m\"payout_date\"\u001b[0m\u001b[1;33m]\u001b[0m\u001b[1;33m.\u001b[0m\u001b[0mstr\u001b[0m\u001b[1;33m.\u001b[0m\u001b[0msplit\u001b[0m\u001b[1;33m(\u001b[0m\u001b[1;34m\"T\"\u001b[0m\u001b[1;33m,\u001b[0m\u001b[0mn\u001b[0m\u001b[1;33m=\u001b[0m\u001b[1;36m1\u001b[0m\u001b[1;33m,\u001b[0m\u001b[0mexpand\u001b[0m\u001b[1;33m=\u001b[0m\u001b[1;32mTrue\u001b[0m\u001b[1;33m)\u001b[0m\u001b[1;33m\u001b[0m\u001b[1;33m\u001b[0m\u001b[0m\n",
      "\u001b[1;32m~\\Anaconda3\\lib\\site-packages\\pandas\\core\\frame.py\u001b[0m in \u001b[0;36m__getitem__\u001b[1;34m(self, key)\u001b[0m\n\u001b[0;32m   3022\u001b[0m             \u001b[1;32mif\u001b[0m \u001b[0mself\u001b[0m\u001b[1;33m.\u001b[0m\u001b[0mcolumns\u001b[0m\u001b[1;33m.\u001b[0m\u001b[0mnlevels\u001b[0m \u001b[1;33m>\u001b[0m \u001b[1;36m1\u001b[0m\u001b[1;33m:\u001b[0m\u001b[1;33m\u001b[0m\u001b[1;33m\u001b[0m\u001b[0m\n\u001b[0;32m   3023\u001b[0m                 \u001b[1;32mreturn\u001b[0m \u001b[0mself\u001b[0m\u001b[1;33m.\u001b[0m\u001b[0m_getitem_multilevel\u001b[0m\u001b[1;33m(\u001b[0m\u001b[0mkey\u001b[0m\u001b[1;33m)\u001b[0m\u001b[1;33m\u001b[0m\u001b[1;33m\u001b[0m\u001b[0m\n\u001b[1;32m-> 3024\u001b[1;33m             \u001b[0mindexer\u001b[0m \u001b[1;33m=\u001b[0m \u001b[0mself\u001b[0m\u001b[1;33m.\u001b[0m\u001b[0mcolumns\u001b[0m\u001b[1;33m.\u001b[0m\u001b[0mget_loc\u001b[0m\u001b[1;33m(\u001b[0m\u001b[0mkey\u001b[0m\u001b[1;33m)\u001b[0m\u001b[1;33m\u001b[0m\u001b[1;33m\u001b[0m\u001b[0m\n\u001b[0m\u001b[0;32m   3025\u001b[0m             \u001b[1;32mif\u001b[0m \u001b[0mis_integer\u001b[0m\u001b[1;33m(\u001b[0m\u001b[0mindexer\u001b[0m\u001b[1;33m)\u001b[0m\u001b[1;33m:\u001b[0m\u001b[1;33m\u001b[0m\u001b[1;33m\u001b[0m\u001b[0m\n\u001b[0;32m   3026\u001b[0m                 \u001b[0mindexer\u001b[0m \u001b[1;33m=\u001b[0m \u001b[1;33m[\u001b[0m\u001b[0mindexer\u001b[0m\u001b[1;33m]\u001b[0m\u001b[1;33m\u001b[0m\u001b[1;33m\u001b[0m\u001b[0m\n",
      "\u001b[1;32m~\\Anaconda3\\lib\\site-packages\\pandas\\core\\indexes\\base.py\u001b[0m in \u001b[0;36mget_loc\u001b[1;34m(self, key, method, tolerance)\u001b[0m\n\u001b[0;32m   3080\u001b[0m                 \u001b[1;32mreturn\u001b[0m \u001b[0mself\u001b[0m\u001b[1;33m.\u001b[0m\u001b[0m_engine\u001b[0m\u001b[1;33m.\u001b[0m\u001b[0mget_loc\u001b[0m\u001b[1;33m(\u001b[0m\u001b[0mcasted_key\u001b[0m\u001b[1;33m)\u001b[0m\u001b[1;33m\u001b[0m\u001b[1;33m\u001b[0m\u001b[0m\n\u001b[0;32m   3081\u001b[0m             \u001b[1;32mexcept\u001b[0m \u001b[0mKeyError\u001b[0m \u001b[1;32mas\u001b[0m \u001b[0merr\u001b[0m\u001b[1;33m:\u001b[0m\u001b[1;33m\u001b[0m\u001b[1;33m\u001b[0m\u001b[0m\n\u001b[1;32m-> 3082\u001b[1;33m                 \u001b[1;32mraise\u001b[0m \u001b[0mKeyError\u001b[0m\u001b[1;33m(\u001b[0m\u001b[0mkey\u001b[0m\u001b[1;33m)\u001b[0m \u001b[1;32mfrom\u001b[0m \u001b[0merr\u001b[0m\u001b[1;33m\u001b[0m\u001b[1;33m\u001b[0m\u001b[0m\n\u001b[0m\u001b[0;32m   3083\u001b[0m \u001b[1;33m\u001b[0m\u001b[0m\n\u001b[0;32m   3084\u001b[0m         \u001b[1;32mif\u001b[0m \u001b[0mtolerance\u001b[0m \u001b[1;32mis\u001b[0m \u001b[1;32mnot\u001b[0m \u001b[1;32mNone\u001b[0m\u001b[1;33m:\u001b[0m\u001b[1;33m\u001b[0m\u001b[1;33m\u001b[0m\u001b[0m\n",
      "\u001b[1;31mKeyError\u001b[0m: 'capture_date'"
     ]
    }
   ],
   "source": [
    "kl[[\"Date\",\"Useless\"]]=kl[\"capture_date\"].str.split(\"T\",n=1,expand=True)\n",
    "kl[[\"payout\",\"Useless_1\"]]=kl[\"payout_date\"].str.split(\"T\",n=1,expand=True)"
   ]
  },
  {
   "cell_type": "code",
   "execution_count": null,
   "id": "fe316995",
   "metadata": {},
   "outputs": [],
   "source": [
    "kl=kl[[\"Date\",\"type\",\"merchant_reference1\",\"amount\",\"payout\"]]"
   ]
  },
  {
   "cell_type": "code",
   "execution_count": null,
   "id": "59a7de63",
   "metadata": {
    "scrolled": true
   },
   "outputs": [],
   "source": [
    "kl.head()"
   ]
  },
  {
   "cell_type": "code",
   "execution_count": null,
   "id": "c102a6f0",
   "metadata": {},
   "outputs": [],
   "source": [
    "kl_sales=kl[kl[\"type\"]!=\"RETURN\"]\n",
    "KL_return=kl[kl[\"type\"]==\"RETURN\"]"
   ]
  },
  {
   "cell_type": "code",
   "execution_count": null,
   "id": "4c7e4597",
   "metadata": {},
   "outputs": [],
   "source": [
    "import numpy as np"
   ]
  },
  {
   "cell_type": "code",
   "execution_count": null,
   "id": "87dbf5f9",
   "metadata": {},
   "outputs": [],
   "source": [
    "kl_sales['amount'].dtype"
   ]
  },
  {
   "cell_type": "code",
   "execution_count": null,
   "id": "26c02798",
   "metadata": {},
   "outputs": [],
   "source": [
    "kl_sales[\"amount_net\"]=np.where(kl_sales[\"type\"]==\"FEE\",kl_sales[\"amount\"].astype('float64')*(-1),kl_sales[\"amount\"])"
   ]
  },
  {
   "cell_type": "code",
   "execution_count": null,
   "id": "34ccf055",
   "metadata": {},
   "outputs": [],
   "source": [
    "kl_sales_sum=kl_sales[[\"merchant_reference1\",\"amount_net\"]]"
   ]
  },
  {
   "cell_type": "code",
   "execution_count": null,
   "id": "950f1758",
   "metadata": {},
   "outputs": [],
   "source": [
    "kl_sales_sum[\"amount_net\"]=kl_sales_sum[\"amount_net\"].astype('float64')"
   ]
  },
  {
   "cell_type": "code",
   "execution_count": null,
   "id": "fb7b4649",
   "metadata": {
    "scrolled": false
   },
   "outputs": [],
   "source": [
    "kl_sales_sum=kl_sales_sum.groupby(\"merchant_reference1\").sum()"
   ]
  },
  {
   "cell_type": "code",
   "execution_count": null,
   "id": "e8b75195",
   "metadata": {},
   "outputs": [],
   "source": [
    "kl_sales_sum"
   ]
  },
  {
   "cell_type": "code",
   "execution_count": null,
   "id": "82f86593",
   "metadata": {
    "scrolled": true
   },
   "outputs": [],
   "source": [
    "KL_return[\"amount_net\"]=KL_return[\"amount\"].astype(\"float64\")"
   ]
  },
  {
   "cell_type": "code",
   "execution_count": null,
   "id": "5aceed82",
   "metadata": {
    "scrolled": true
   },
   "outputs": [],
   "source": [
    "KL_return[\"amount\"]=KL_return[\"amount\"].astype(\"float64\")*(-1)\n",
    "KL_return[\"amount_net\"]=KL_return[\"amount_net\"].astype(\"float64\")*(-1)\n",
    "KL_return=KL_return.drop(\"type\",axis=1)\n"
   ]
  },
  {
   "cell_type": "code",
   "execution_count": null,
   "id": "0253850b",
   "metadata": {},
   "outputs": [],
   "source": [
    "KL_return=KL_return[[\"Date\",\"merchant_reference1\",\"amount\",\"amount_net\",\"payout\"]]\n",
    "KL_return"
   ]
  },
  {
   "cell_type": "code",
   "execution_count": null,
   "id": "3a205513",
   "metadata": {},
   "outputs": [],
   "source": [
    "kl_sales_join=kl[kl[\"type\"]==\"SALE\"]"
   ]
  },
  {
   "cell_type": "code",
   "execution_count": null,
   "id": "6b23b115",
   "metadata": {
    "scrolled": false
   },
   "outputs": [],
   "source": [
    "kl_sales_join"
   ]
  },
  {
   "cell_type": "code",
   "execution_count": null,
   "id": "6539b37c",
   "metadata": {},
   "outputs": [],
   "source": [
    "kl_result=pd.merge(kl_sales_join,kl_sales_sum, how=\"left\",on=\"merchant_reference1\")"
   ]
  },
  {
   "cell_type": "code",
   "execution_count": null,
   "id": "344debdc",
   "metadata": {},
   "outputs": [],
   "source": [
    "kl_result=kl_result[[\"Date\",\"merchant_reference1\",\"amount\",\"amount_net\",\"payout\"]]"
   ]
  },
  {
   "cell_type": "code",
   "execution_count": null,
   "id": "e36f8362",
   "metadata": {
    "scrolled": true
   },
   "outputs": [],
   "source": [
    "kl_result"
   ]
  },
  {
   "cell_type": "code",
   "execution_count": null,
   "id": "4675aa76",
   "metadata": {},
   "outputs": [],
   "source": [
    "result=pd.concat([kl_result,KL_return])"
   ]
  },
  {
   "cell_type": "code",
   "execution_count": null,
   "id": "1f7e6902",
   "metadata": {
    "scrolled": true
   },
   "outputs": [],
   "source": [
    "result"
   ]
  },
  {
   "cell_type": "code",
   "execution_count": null,
   "id": "61e896a0",
   "metadata": {
    "scrolled": true
   },
   "outputs": [],
   "source": [
    "result.sort_values(\"Date\",ascending=True)"
   ]
  },
  {
   "cell_type": "code",
   "execution_count": null,
   "id": "4099a3ec",
   "metadata": {},
   "outputs": [],
   "source": [
    "result=result.sort_values(\"Date\",ascending=True)"
   ]
  },
  {
   "cell_type": "code",
   "execution_count": 51,
   "id": "41bf1a34",
   "metadata": {},
   "outputs": [
    {
     "ename": "NameError",
     "evalue": "name 'result' is not defined",
     "output_type": "error",
     "traceback": [
      "\u001b[1;31m---------------------------------------------------------------------------\u001b[0m",
      "\u001b[1;31mNameError\u001b[0m                                 Traceback (most recent call last)",
      "\u001b[1;32m<ipython-input-51-c1d37538297c>\u001b[0m in \u001b[0;36m<module>\u001b[1;34m\u001b[0m\n\u001b[0;32m      5\u001b[0m \u001b[0mData_AP\u001b[0m\u001b[1;33m.\u001b[0m\u001b[0mto_csv\u001b[0m\u001b[1;33m(\u001b[0m\u001b[1;34m\"C://Users//shawnhe//Desktop//MW AND MSK//AP_Left.csv\"\u001b[0m\u001b[1;33m,\u001b[0m\u001b[0mindex\u001b[0m\u001b[1;33m=\u001b[0m\u001b[1;32mFalse\u001b[0m\u001b[1;33m)\u001b[0m\u001b[1;33m\u001b[0m\u001b[1;33m\u001b[0m\u001b[0m\n\u001b[0;32m      6\u001b[0m \u001b[1;31m#AP_2.to_csv(\"C://Users//shawnhe//Desktop//MW AND MSK//AP_Right.csv\",index=False) I do not find the method\u001b[0m\u001b[1;33m\u001b[0m\u001b[1;33m\u001b[0m\u001b[1;33m\u001b[0m\u001b[0m\n\u001b[1;32m----> 7\u001b[1;33m \u001b[0mresult\u001b[0m\u001b[1;33m.\u001b[0m\u001b[0mto_csv\u001b[0m\u001b[1;33m(\u001b[0m\u001b[1;34m\"C://Users//shawnhe//Desktop//MW AND MSK//kl_result.csv\"\u001b[0m\u001b[1;33m,\u001b[0m\u001b[0mindex\u001b[0m\u001b[1;33m=\u001b[0m\u001b[1;32mFalse\u001b[0m\u001b[1;33m)\u001b[0m\u001b[1;33m\u001b[0m\u001b[1;33m\u001b[0m\u001b[0m\n\u001b[0m",
      "\u001b[1;31mNameError\u001b[0m: name 'result' is not defined"
     ]
    }
   ],
   "source": [
    "Data_BT.to_csv(\"C://Users//shawnhe//Desktop//MW AND MSK//BT_Left.csv\",index=False)\n",
    "BT.to_csv(\"C://Users//shawnhe//Desktop//MW AND MSK//BT_Right.csv\",index=False)\n",
    "PP.to_csv(\"C://Users//shawnhe//Desktop//MW AND MSK//PP_Right.csv\",index=False)\n",
    "Data_PP.to_csv(\"C://Users//shawnhe//Desktop//MW AND MSK//PP_Left.csv\",index=False)\n",
    "Data_AP.to_csv(\"C://Users//shawnhe//Desktop//MW AND MSK//AP_Left.csv\",index=False)\n",
    "#AP_2.to_csv(\"C://Users//shawnhe//Desktop//MW AND MSK//AP_Right.csv\",index=False) I do not find the method\n",
    "result.to_csv(\"C://Users//shawnhe//Desktop//MW AND MSK//kl_result.csv\",index=False)"
   ]
  },
  {
   "cell_type": "code",
   "execution_count": null,
   "id": "383502ac",
   "metadata": {},
   "outputs": [],
   "source": []
  },
  {
   "cell_type": "code",
   "execution_count": null,
   "id": "95590cc1",
   "metadata": {},
   "outputs": [],
   "source": []
  },
  {
   "cell_type": "code",
   "execution_count": null,
   "id": "b38a67c6",
   "metadata": {},
   "outputs": [],
   "source": []
  },
  {
   "cell_type": "code",
   "execution_count": null,
   "id": "ae59b9f2",
   "metadata": {},
   "outputs": [],
   "source": []
  },
  {
   "cell_type": "code",
   "execution_count": null,
   "id": "cdbe42d6",
   "metadata": {},
   "outputs": [],
   "source": []
  },
  {
   "cell_type": "code",
   "execution_count": null,
   "id": "fab7835e",
   "metadata": {},
   "outputs": [],
   "source": []
  },
  {
   "cell_type": "code",
   "execution_count": null,
   "id": "cf2459eb",
   "metadata": {},
   "outputs": [],
   "source": []
  }
 ],
 "metadata": {
  "kernelspec": {
   "display_name": "Python 3",
   "language": "python",
   "name": "python3"
  },
  "language_info": {
   "codemirror_mode": {
    "name": "ipython",
    "version": 3
   },
   "file_extension": ".py",
   "mimetype": "text/x-python",
   "name": "python",
   "nbconvert_exporter": "python",
   "pygments_lexer": "ipython3",
   "version": "3.8.8"
  }
 },
 "nbformat": 4,
 "nbformat_minor": 5
}
